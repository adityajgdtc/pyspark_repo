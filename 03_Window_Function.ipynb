{
  "nbformat": 4,
  "nbformat_minor": 0,
  "metadata": {
    "colab": {
      "provenance": []
    },
    "kernelspec": {
      "name": "python3",
      "display_name": "Python 3"
    },
    "language_info": {
      "name": "python"
    }
  },
  "cells": [
    {
      "cell_type": "code",
      "execution_count": null,
      "metadata": {
        "colab": {
          "base_uri": "https://localhost:8080/"
        },
        "id": "DJqytnnq3vSG",
        "outputId": "3f8e6312-5168-4edd-bb4c-a9c283072c63"
      },
      "outputs": [
        {
          "output_type": "stream",
          "name": "stdout",
          "text": [
            "Looking in indexes: https://pypi.org/simple, https://us-python.pkg.dev/colab-wheels/public/simple/\n",
            "Collecting pyspark\n",
            "  Downloading pyspark-3.3.1.tar.gz (281.4 MB)\n",
            "\u001b[K     |████████████████████████████████| 281.4 MB 53 kB/s \n",
            "\u001b[?25hCollecting py4j==0.10.9.5\n",
            "  Downloading py4j-0.10.9.5-py2.py3-none-any.whl (199 kB)\n",
            "\u001b[K     |████████████████████████████████| 199 kB 81.8 MB/s \n",
            "\u001b[?25hBuilding wheels for collected packages: pyspark\n",
            "  Building wheel for pyspark (setup.py) ... \u001b[?25l\u001b[?25hdone\n",
            "  Created wheel for pyspark: filename=pyspark-3.3.1-py2.py3-none-any.whl size=281845514 sha256=bfae989ee1a43ce45ae6c60df26367c79c8cf076074bfb63942c56d1ff6a606d\n",
            "  Stored in directory: /root/.cache/pip/wheels/42/59/f5/79a5bf931714dcd201b26025347785f087370a10a3329a899c\n",
            "Successfully built pyspark\n",
            "Installing collected packages: py4j, pyspark\n",
            "Successfully installed py4j-0.10.9.5 pyspark-3.3.1\n"
          ]
        }
      ],
      "source": [
        "pip install pyspark"
      ]
    },
    {
      "cell_type": "code",
      "source": [
        "from pyspark.sql.types import StringType, StructField, IntegerType, StructType\n",
        "from pyspark.sql import SparkSession\n",
        "from pyspark.sql.functions import sum, min, max, avg, col, lit, when, count\n",
        "import io\n",
        "from pyspark.sql.window import Window\n",
        "from pyspark.sql.functions import row_number, rank, dense_rank, percent_rank, ntile, cume_dist, lag, lead, sequence, current_date, date_format,to_date\n",
        "from google.colab import files\n",
        "uploaded = files.upload()"
      ],
      "metadata": {
        "colab": {
          "base_uri": "https://localhost:8080/",
          "height": 74
        },
        "id": "MSSeLrJY34SE",
        "outputId": "0677714a-5aec-4b63-c690-8013e90367b5"
      },
      "execution_count": null,
      "outputs": [
        {
          "output_type": "display_data",
          "data": {
            "text/plain": [
              "<IPython.core.display.HTML object>"
            ],
            "text/html": [
              "\n",
              "     <input type=\"file\" id=\"files-cc9a9db5-b987-4f0d-b19f-4e21813ca4e6\" name=\"files[]\" multiple disabled\n",
              "        style=\"border:none\" />\n",
              "     <output id=\"result-cc9a9db5-b987-4f0d-b19f-4e21813ca4e6\">\n",
              "      Upload widget is only available when the cell has been executed in the\n",
              "      current browser session. Please rerun this cell to enable.\n",
              "      </output>\n",
              "      <script>// Copyright 2017 Google LLC\n",
              "//\n",
              "// Licensed under the Apache License, Version 2.0 (the \"License\");\n",
              "// you may not use this file except in compliance with the License.\n",
              "// You may obtain a copy of the License at\n",
              "//\n",
              "//      http://www.apache.org/licenses/LICENSE-2.0\n",
              "//\n",
              "// Unless required by applicable law or agreed to in writing, software\n",
              "// distributed under the License is distributed on an \"AS IS\" BASIS,\n",
              "// WITHOUT WARRANTIES OR CONDITIONS OF ANY KIND, either express or implied.\n",
              "// See the License for the specific language governing permissions and\n",
              "// limitations under the License.\n",
              "\n",
              "/**\n",
              " * @fileoverview Helpers for google.colab Python module.\n",
              " */\n",
              "(function(scope) {\n",
              "function span(text, styleAttributes = {}) {\n",
              "  const element = document.createElement('span');\n",
              "  element.textContent = text;\n",
              "  for (const key of Object.keys(styleAttributes)) {\n",
              "    element.style[key] = styleAttributes[key];\n",
              "  }\n",
              "  return element;\n",
              "}\n",
              "\n",
              "// Max number of bytes which will be uploaded at a time.\n",
              "const MAX_PAYLOAD_SIZE = 100 * 1024;\n",
              "\n",
              "function _uploadFiles(inputId, outputId) {\n",
              "  const steps = uploadFilesStep(inputId, outputId);\n",
              "  const outputElement = document.getElementById(outputId);\n",
              "  // Cache steps on the outputElement to make it available for the next call\n",
              "  // to uploadFilesContinue from Python.\n",
              "  outputElement.steps = steps;\n",
              "\n",
              "  return _uploadFilesContinue(outputId);\n",
              "}\n",
              "\n",
              "// This is roughly an async generator (not supported in the browser yet),\n",
              "// where there are multiple asynchronous steps and the Python side is going\n",
              "// to poll for completion of each step.\n",
              "// This uses a Promise to block the python side on completion of each step,\n",
              "// then passes the result of the previous step as the input to the next step.\n",
              "function _uploadFilesContinue(outputId) {\n",
              "  const outputElement = document.getElementById(outputId);\n",
              "  const steps = outputElement.steps;\n",
              "\n",
              "  const next = steps.next(outputElement.lastPromiseValue);\n",
              "  return Promise.resolve(next.value.promise).then((value) => {\n",
              "    // Cache the last promise value to make it available to the next\n",
              "    // step of the generator.\n",
              "    outputElement.lastPromiseValue = value;\n",
              "    return next.value.response;\n",
              "  });\n",
              "}\n",
              "\n",
              "/**\n",
              " * Generator function which is called between each async step of the upload\n",
              " * process.\n",
              " * @param {string} inputId Element ID of the input file picker element.\n",
              " * @param {string} outputId Element ID of the output display.\n",
              " * @return {!Iterable<!Object>} Iterable of next steps.\n",
              " */\n",
              "function* uploadFilesStep(inputId, outputId) {\n",
              "  const inputElement = document.getElementById(inputId);\n",
              "  inputElement.disabled = false;\n",
              "\n",
              "  const outputElement = document.getElementById(outputId);\n",
              "  outputElement.innerHTML = '';\n",
              "\n",
              "  const pickedPromise = new Promise((resolve) => {\n",
              "    inputElement.addEventListener('change', (e) => {\n",
              "      resolve(e.target.files);\n",
              "    });\n",
              "  });\n",
              "\n",
              "  const cancel = document.createElement('button');\n",
              "  inputElement.parentElement.appendChild(cancel);\n",
              "  cancel.textContent = 'Cancel upload';\n",
              "  const cancelPromise = new Promise((resolve) => {\n",
              "    cancel.onclick = () => {\n",
              "      resolve(null);\n",
              "    };\n",
              "  });\n",
              "\n",
              "  // Wait for the user to pick the files.\n",
              "  const files = yield {\n",
              "    promise: Promise.race([pickedPromise, cancelPromise]),\n",
              "    response: {\n",
              "      action: 'starting',\n",
              "    }\n",
              "  };\n",
              "\n",
              "  cancel.remove();\n",
              "\n",
              "  // Disable the input element since further picks are not allowed.\n",
              "  inputElement.disabled = true;\n",
              "\n",
              "  if (!files) {\n",
              "    return {\n",
              "      response: {\n",
              "        action: 'complete',\n",
              "      }\n",
              "    };\n",
              "  }\n",
              "\n",
              "  for (const file of files) {\n",
              "    const li = document.createElement('li');\n",
              "    li.append(span(file.name, {fontWeight: 'bold'}));\n",
              "    li.append(span(\n",
              "        `(${file.type || 'n/a'}) - ${file.size} bytes, ` +\n",
              "        `last modified: ${\n",
              "            file.lastModifiedDate ? file.lastModifiedDate.toLocaleDateString() :\n",
              "                                    'n/a'} - `));\n",
              "    const percent = span('0% done');\n",
              "    li.appendChild(percent);\n",
              "\n",
              "    outputElement.appendChild(li);\n",
              "\n",
              "    const fileDataPromise = new Promise((resolve) => {\n",
              "      const reader = new FileReader();\n",
              "      reader.onload = (e) => {\n",
              "        resolve(e.target.result);\n",
              "      };\n",
              "      reader.readAsArrayBuffer(file);\n",
              "    });\n",
              "    // Wait for the data to be ready.\n",
              "    let fileData = yield {\n",
              "      promise: fileDataPromise,\n",
              "      response: {\n",
              "        action: 'continue',\n",
              "      }\n",
              "    };\n",
              "\n",
              "    // Use a chunked sending to avoid message size limits. See b/62115660.\n",
              "    let position = 0;\n",
              "    do {\n",
              "      const length = Math.min(fileData.byteLength - position, MAX_PAYLOAD_SIZE);\n",
              "      const chunk = new Uint8Array(fileData, position, length);\n",
              "      position += length;\n",
              "\n",
              "      const base64 = btoa(String.fromCharCode.apply(null, chunk));\n",
              "      yield {\n",
              "        response: {\n",
              "          action: 'append',\n",
              "          file: file.name,\n",
              "          data: base64,\n",
              "        },\n",
              "      };\n",
              "\n",
              "      let percentDone = fileData.byteLength === 0 ?\n",
              "          100 :\n",
              "          Math.round((position / fileData.byteLength) * 100);\n",
              "      percent.textContent = `${percentDone}% done`;\n",
              "\n",
              "    } while (position < fileData.byteLength);\n",
              "  }\n",
              "\n",
              "  // All done.\n",
              "  yield {\n",
              "    response: {\n",
              "      action: 'complete',\n",
              "    }\n",
              "  };\n",
              "}\n",
              "\n",
              "scope.google = scope.google || {};\n",
              "scope.google.colab = scope.google.colab || {};\n",
              "scope.google.colab._files = {\n",
              "  _uploadFiles,\n",
              "  _uploadFilesContinue,\n",
              "};\n",
              "})(self);\n",
              "</script> "
            ]
          },
          "metadata": {}
        },
        {
          "output_type": "stream",
          "name": "stdout",
          "text": [
            "Saving Airbnb NYC 2019.csv to Airbnb NYC 2019 (1).csv\n"
          ]
        }
      ]
    },
    {
      "cell_type": "markdown",
      "source": [
        "**Create Spark Session**"
      ],
      "metadata": {
        "id": "g0CET90h4Jpr"
      }
    },
    {
      "cell_type": "code",
      "source": [
        "spark = SparkSession.builder \\\n",
        "        .master(\"local[1]\") \\\n",
        "        .appName(\"airbnb_nyc\") \\\n",
        "        .getOrCreate()"
      ],
      "metadata": {
        "id": "8_blzb7W4ReB"
      },
      "execution_count": null,
      "outputs": []
    },
    {
      "cell_type": "code",
      "source": [
        "airbnb_df = spark.read.csv('Airbnb NYC 2019.csv', header = True, inferSchema=True)\n",
        "airbnb_df.show()\n",
        "airbnb_df.printSchema()"
      ],
      "metadata": {
        "colab": {
          "base_uri": "https://localhost:8080/"
        },
        "id": "9gDILsTN4Pon",
        "outputId": "c4d1e841-8044-4e11-b8a7-4d553cd443a8"
      },
      "execution_count": null,
      "outputs": [
        {
          "output_type": "stream",
          "name": "stdout",
          "text": [
            "+----+--------------------+-------+----------------+-------------------+------------------+--------+---------+---------------+-----+--------------+-----------------+-----------+-----------------+------------------------------+----------------+\n",
            "|  id|                name|host_id|       host_name|neighbourhood_group|     neighbourhood|latitude|longitude|      room_type|price|minimum_nights|number_of_reviews|last_review|reviews_per_month|calculated_host_listings_count|availability_365|\n",
            "+----+--------------------+-------+----------------+-------------------+------------------+--------+---------+---------------+-----+--------------+-----------------+-----------+-----------------+------------------------------+----------------+\n",
            "|2539|Clean & quiet apt...|   2787|            John|           Brooklyn|        Kensington|40.64749|-73.97237|   Private room|  149|             1|                9| 2018-10-19|             0.21|                             6|             365|\n",
            "|2595|Skylit Midtown Ca...|   2845|        Jennifer|          Manhattan|           Midtown|40.75362|-73.98377|Entire home/apt|  225|             1|               45| 2019-05-21|             0.38|                             2|             355|\n",
            "|3647|THE VILLAGE OF HA...|   4632|       Elisabeth|          Manhattan|            Harlem|40.80902| -73.9419|   Private room|  150|             3|                0|       null|             null|                             1|             365|\n",
            "|3831|Cozy Entire Floor...|   4869|     LisaRoxanne|           Brooklyn|      Clinton Hill|40.68514|-73.95976|Entire home/apt|   89|             1|              270| 2019-07-05|             4.64|                             1|             194|\n",
            "|5022|Entire Apt: Spaci...|   7192|           Laura|          Manhattan|       East Harlem|40.79851|-73.94399|Entire home/apt|   80|            10|                9| 2018-11-19|             0.10|                             1|               0|\n",
            "|5099|Large Cozy 1 BR A...|   7322|           Chris|          Manhattan|       Murray Hill|40.74767|  -73.975|Entire home/apt|  200|             3|               74| 2019-06-22|             0.59|                             1|             129|\n",
            "|5121|     BlissArtsSpace!|   7356|           Garon|           Brooklyn|Bedford-Stuyvesant|40.68688|-73.95596|   Private room|   60|            45|               49| 2017-10-05|             0.40|                             1|               0|\n",
            "|5178|Large Furnished R...|   8967|        Shunichi|          Manhattan|    Hell's Kitchen|40.76489|-73.98493|   Private room|   79|             2|              430| 2019-06-24|             3.47|                             1|             220|\n",
            "|5203|Cozy Clean Guest ...|   7490|       MaryEllen|          Manhattan|   Upper West Side|40.80178|-73.96723|   Private room|   79|             2|              118| 2017-07-21|             0.99|                             1|               0|\n",
            "|5238|Cute & Cozy Lower...|   7549|             Ben|          Manhattan|         Chinatown|40.71344|-73.99037|Entire home/apt|  150|             1|              160| 2019-06-09|             1.33|                             4|             188|\n",
            "|5295|Beautiful 1br on ...|   7702|            Lena|          Manhattan|   Upper West Side|40.80316|-73.96545|Entire home/apt|  135|             5|               53| 2019-06-22|             0.43|                             1|               6|\n",
            "|5441|Central Manhattan...|   7989|            Kate|          Manhattan|    Hell's Kitchen|40.76076|-73.98867|   Private room|   85|             2|              188| 2019-06-23|             1.50|                             1|              39|\n",
            "|5803|Lovely Room 1, Ga...|   9744|          Laurie|           Brooklyn|       South Slope|40.66829|-73.98779|   Private room|   89|             4|              167| 2019-06-24|             1.34|                             3|             314|\n",
            "|6021|Wonderful Guest B...|  11528|         Claudio|          Manhattan|   Upper West Side|40.79826|-73.96113|   Private room|   85|             2|              113| 2019-07-05|             0.91|                             1|             333|\n",
            "|6090|West Village Nest...|  11975|           Alina|          Manhattan|      West Village| 40.7353|-74.00525|Entire home/apt|  120|            90|               27| 2018-10-31|             0.22|                             1|               0|\n",
            "|6848|Only 2 stops to M...|  15991|   Allen & Irina|           Brooklyn|      Williamsburg|40.70837|-73.95352|Entire home/apt|  140|             2|              148| 2019-06-29|             1.20|                             1|              46|\n",
            "|7097|Perfect for Your ...|  17571|            Jane|           Brooklyn|       Fort Greene|40.69169|-73.97185|Entire home/apt|  215|             2|              198| 2019-06-28|             1.72|                             1|             321|\n",
            "|7322|     Chelsea Perfect|  18946|            Doti|          Manhattan|           Chelsea|40.74192|-73.99501|   Private room|  140|             1|              260| 2019-07-01|             2.12|                             1|              12|\n",
            "|7726|Hip Historic Brow...|  20950|Adam And Charity|           Brooklyn|     Crown Heights|40.67592|-73.94694|Entire home/apt|   99|             3|               53| 2019-06-22|             4.44|                             1|              21|\n",
            "|7750|Huge 2 BR Upper E...|  17985|            Sing|          Manhattan|       East Harlem|40.79685|-73.94872|Entire home/apt|  190|             7|                0|       null|             null|                             2|             249|\n",
            "+----+--------------------+-------+----------------+-------------------+------------------+--------+---------+---------------+-----+--------------+-----------------+-----------+-----------------+------------------------------+----------------+\n",
            "only showing top 20 rows\n",
            "\n",
            "root\n",
            " |-- id: string (nullable = true)\n",
            " |-- name: string (nullable = true)\n",
            " |-- host_id: string (nullable = true)\n",
            " |-- host_name: string (nullable = true)\n",
            " |-- neighbourhood_group: string (nullable = true)\n",
            " |-- neighbourhood: string (nullable = true)\n",
            " |-- latitude: string (nullable = true)\n",
            " |-- longitude: string (nullable = true)\n",
            " |-- room_type: string (nullable = true)\n",
            " |-- price: string (nullable = true)\n",
            " |-- minimum_nights: string (nullable = true)\n",
            " |-- number_of_reviews: string (nullable = true)\n",
            " |-- last_review: string (nullable = true)\n",
            " |-- reviews_per_month: string (nullable = true)\n",
            " |-- calculated_host_listings_count: string (nullable = true)\n",
            " |-- availability_365: integer (nullable = true)\n",
            "\n"
          ]
        }
      ]
    },
    {
      "cell_type": "markdown",
      "source": [
        "**Total count of neighbourhood_group**"
      ],
      "metadata": {
        "id": "z27XSTh2C09h"
      }
    },
    {
      "cell_type": "code",
      "source": [
        "print('Total count of neighbourhood_group: '+str(airbnb_df.dropDuplicates(['neighbourhood']).count()))"
      ],
      "metadata": {
        "colab": {
          "base_uri": "https://localhost:8080/"
        },
        "id": "d8lRkr1RD6aJ",
        "outputId": "c30610b7-d88c-44a9-af20-61285ee20daf"
      },
      "execution_count": null,
      "outputs": [
        {
          "output_type": "stream",
          "name": "stdout",
          "text": [
            "Total count of neighbourhood_group: 383\n"
          ]
        }
      ]
    },
    {
      "cell_type": "code",
      "source": [
        "neighbourhood_group_df = airbnb_df.groupBy('neighbourhood_group').count()\n",
        "neighbourhood_group_df.orderBy(neighbourhood_group_df['count'].desc()).show()"
      ],
      "metadata": {
        "colab": {
          "base_uri": "https://localhost:8080/"
        },
        "id": "y3PPH-ln4Hc7",
        "outputId": "9bb9b5df-5e68-4aa3-b967-b29779f3ad3a"
      },
      "execution_count": null,
      "outputs": [
        {
          "output_type": "stream",
          "name": "stdout",
          "text": [
            "+-------------------+-----+\n",
            "|neighbourhood_group|count|\n",
            "+-------------------+-----+\n",
            "|          Manhattan|21594|\n",
            "|           Brooklyn|20055|\n",
            "|             Queens| 5630|\n",
            "|              Bronx| 1080|\n",
            "|      Staten Island|  370|\n",
            "|               null|  185|\n",
            "|             Harlem|   13|\n",
            "| Bedford-Stuyvesant|    9|\n",
            "|     Hell's Kitchen|    7|\n",
            "|    Upper East Side|    7|\n",
            "|           Elmhurst|    7|\n",
            "|       Williamsburg|    6|\n",
            "|        East Harlem|    5|\n",
            "|         Mott Haven|    5|\n",
            "|       East Village|    4|\n",
            "|            Midtown|    4|\n",
            "|           Bushwick|    4|\n",
            "|           Canarsie|    4|\n",
            "| Washington Heights|    4|\n",
            "|            Midwood|    3|\n",
            "+-------------------+-----+\n",
            "only showing top 20 rows\n",
            "\n"
          ]
        }
      ]
    },
    {
      "cell_type": "markdown",
      "source": [
        "**rank_number windows function**"
      ],
      "metadata": {
        "id": "BJg7dQuxO0H-"
      }
    },
    {
      "cell_type": "code",
      "source": [
        "neighbourhood_group_partition = Window.partitionBy('neighbourhood_group').orderBy('price')\n",
        "airbnb_neighbourhood_group_partition_df = airbnb_df.withColumn('row_number', row_number().over(neighbourhood_group_partition))\n",
        "airbnb_neighbourhood_group_partition_df.select('id', 'name', 'neighbourhood_group', 'price', 'row_number').show()"
      ],
      "metadata": {
        "colab": {
          "base_uri": "https://localhost:8080/"
        },
        "id": "VifooddwGrCl",
        "outputId": "4c564437-3d09-4f1f-cf52-3887ffef5e33"
      },
      "execution_count": null,
      "outputs": [
        {
          "output_type": "stream",
          "name": "stdout",
          "text": [
            "+--------------------+--------------------+-------------------+-----+----------+\n",
            "|                  id|                name|neighbourhood_group|price|row_number|\n",
            "+--------------------+--------------------+-------------------+-----+----------+\n",
            "|              255476|       The BLUE OWL:|               null| null|         1|\n",
            "|              267708|Charming Hotel Al...|               null| null|         2|\n",
            "|              405408|Magazine SOHO Stu...|               null| null|         3|\n",
            "|             1096326|Private studio in...|               null| null|         4|\n",
            "|,6024006,Johnny,S...|                null|               null| null|         5|\n",
            "|             3465651|“No Place Like Home”|               null| null|         6|\n",
            "|             3757461|Manhattan Sun Dre...|               null| null|         7|\n",
            "|             3768977|2 bedroom Duplex ...|               null| null|         8|\n",
            "|             4756578|Clean | Green | S...|               null| null|         9|\n",
            "|             4787527|    Home Sweet Home!|               null| null|        10|\n",
            "|             5286482|New York Brooklyn...|               null| null|        11|\n",
            "|             5594883|One private guest...|               null| null|        12|\n",
            "|             5889379|       Che' Randall |               null| null|        13|\n",
            "|               SoBro|                null|               null| null|        14|\n",
            "|             6949526|   Brooklyn's heart,|               null| null|        15|\n",
            "|             8045552|A Gem Studio Apar...|               null| null|        16|\n",
            "|             8614204|Top (2nd) Floor L...|               null| null|        17|\n",
            "|             9935095|Entire pvt. house...|               null| null|        18|\n",
            "|            10539779|Our home away fro...|               null| null|        19|\n",
            "|            10924304|         Harlem, NY |               null| null|        20|\n",
            "+--------------------+--------------------+-------------------+-----+----------+\n",
            "only showing top 20 rows\n",
            "\n"
          ]
        }
      ]
    },
    {
      "cell_type": "markdown",
      "source": [
        "**rank windows function**"
      ],
      "metadata": {
        "id": "MDvW2DnacEsK"
      }
    },
    {
      "cell_type": "code",
      "source": [
        "airbnb_rank_df = airbnb_df.withColumn('rank', rank().over(neighbourhood_group_partition))\n",
        "airbnb_rank_df.select('id', 'name', 'neighbourhood_group', 'price', 'rank').show()"
      ],
      "metadata": {
        "colab": {
          "base_uri": "https://localhost:8080/"
        },
        "id": "QIwAa7hNQcg7",
        "outputId": "2525f9a8-c331-444d-aeb9-e5f2efa10d68"
      },
      "execution_count": null,
      "outputs": [
        {
          "output_type": "stream",
          "name": "stdout",
          "text": [
            "+--------------------+--------------------+-------------------+-----+----+\n",
            "|                  id|                name|neighbourhood_group|price|rank|\n",
            "+--------------------+--------------------+-------------------+-----+----+\n",
            "|              255476|       The BLUE OWL:|               null| null|   1|\n",
            "|              267708|Charming Hotel Al...|               null| null|   1|\n",
            "|              405408|Magazine SOHO Stu...|               null| null|   1|\n",
            "|             1096326|Private studio in...|               null| null|   1|\n",
            "|,6024006,Johnny,S...|                null|               null| null|   1|\n",
            "|             3465651|“No Place Like Home”|               null| null|   1|\n",
            "|             3757461|Manhattan Sun Dre...|               null| null|   1|\n",
            "|             3768977|2 bedroom Duplex ...|               null| null|   1|\n",
            "|             4756578|Clean | Green | S...|               null| null|   1|\n",
            "|             4787527|    Home Sweet Home!|               null| null|   1|\n",
            "|             5286482|New York Brooklyn...|               null| null|   1|\n",
            "|             5594883|One private guest...|               null| null|   1|\n",
            "|             5889379|       Che' Randall |               null| null|   1|\n",
            "|               SoBro|                null|               null| null|   1|\n",
            "|             6949526|   Brooklyn's heart,|               null| null|   1|\n",
            "|             8045552|A Gem Studio Apar...|               null| null|   1|\n",
            "|             8614204|Top (2nd) Floor L...|               null| null|   1|\n",
            "|             9935095|Entire pvt. house...|               null| null|   1|\n",
            "|            10539779|Our home away fro...|               null| null|   1|\n",
            "|            10924304|         Harlem, NY |               null| null|   1|\n",
            "+--------------------+--------------------+-------------------+-----+----+\n",
            "only showing top 20 rows\n",
            "\n"
          ]
        }
      ]
    },
    {
      "cell_type": "markdown",
      "source": [
        "**dense_rank windows function**"
      ],
      "metadata": {
        "id": "UPRADU2mcJ7g"
      }
    },
    {
      "cell_type": "code",
      "source": [
        "airbnb_dense_rank_df = airbnb_df.withColumn(\"dense_rank\",dense_rank().over(neighbourhood_group_partition))\n",
        "airbnb_dense_rank_df.select('id', 'name', 'neighbourhood_group', 'price', 'dense_rank').show()"
      ],
      "metadata": {
        "colab": {
          "base_uri": "https://localhost:8080/"
        },
        "id": "d2AnYSzxchd2",
        "outputId": "a64c7f1e-7a5e-49b2-c363-b2783271fc3e"
      },
      "execution_count": null,
      "outputs": [
        {
          "output_type": "stream",
          "name": "stdout",
          "text": [
            "+--------------------+--------------------+-------------------+-----+----------+\n",
            "|                  id|                name|neighbourhood_group|price|dense_rank|\n",
            "+--------------------+--------------------+-------------------+-----+----------+\n",
            "|              255476|       The BLUE OWL:|               null| null|         1|\n",
            "|              267708|Charming Hotel Al...|               null| null|         1|\n",
            "|              405408|Magazine SOHO Stu...|               null| null|         1|\n",
            "|             1096326|Private studio in...|               null| null|         1|\n",
            "|,6024006,Johnny,S...|                null|               null| null|         1|\n",
            "|             3465651|“No Place Like Home”|               null| null|         1|\n",
            "|             3757461|Manhattan Sun Dre...|               null| null|         1|\n",
            "|             3768977|2 bedroom Duplex ...|               null| null|         1|\n",
            "|             4756578|Clean | Green | S...|               null| null|         1|\n",
            "|             4787527|    Home Sweet Home!|               null| null|         1|\n",
            "|             5286482|New York Brooklyn...|               null| null|         1|\n",
            "|             5594883|One private guest...|               null| null|         1|\n",
            "|             5889379|       Che' Randall |               null| null|         1|\n",
            "|               SoBro|                null|               null| null|         1|\n",
            "|             6949526|   Brooklyn's heart,|               null| null|         1|\n",
            "|             8045552|A Gem Studio Apar...|               null| null|         1|\n",
            "|             8614204|Top (2nd) Floor L...|               null| null|         1|\n",
            "|             9935095|Entire pvt. house...|               null| null|         1|\n",
            "|            10539779|Our home away fro...|               null| null|         1|\n",
            "|            10924304|         Harlem, NY |               null| null|         1|\n",
            "+--------------------+--------------------+-------------------+-----+----------+\n",
            "only showing top 20 rows\n",
            "\n"
          ]
        }
      ]
    },
    {
      "cell_type": "markdown",
      "source": [
        "**percent_rank window function**"
      ],
      "metadata": {
        "id": "gQ4Wmzk3Rhcb"
      }
    },
    {
      "cell_type": "code",
      "source": [
        "airbnb_percent_rank_df = airbnb_df.withColumn('percent_rank', percent_rank().over(neighbourhood_group_partition))\n",
        "airbnb_percent_rank_df.select('id', 'name', 'neighbourhood_group', 'price', 'percent_rank').show()"
      ],
      "metadata": {
        "colab": {
          "base_uri": "https://localhost:8080/"
        },
        "id": "XViFYsF6RmXY",
        "outputId": "f03abd5f-39b9-434c-d208-67002c41e7da"
      },
      "execution_count": null,
      "outputs": [
        {
          "output_type": "stream",
          "name": "stdout",
          "text": [
            "+--------------------+--------------------+-------------------+-----+------------+\n",
            "|                  id|                name|neighbourhood_group|price|percent_rank|\n",
            "+--------------------+--------------------+-------------------+-----+------------+\n",
            "|              255476|       The BLUE OWL:|               null| null|         0.0|\n",
            "|              267708|Charming Hotel Al...|               null| null|         0.0|\n",
            "|              405408|Magazine SOHO Stu...|               null| null|         0.0|\n",
            "|             1096326|Private studio in...|               null| null|         0.0|\n",
            "|,6024006,Johnny,S...|                null|               null| null|         0.0|\n",
            "|             3465651|“No Place Like Home”|               null| null|         0.0|\n",
            "|             3757461|Manhattan Sun Dre...|               null| null|         0.0|\n",
            "|             3768977|2 bedroom Duplex ...|               null| null|         0.0|\n",
            "|             4756578|Clean | Green | S...|               null| null|         0.0|\n",
            "|             4787527|    Home Sweet Home!|               null| null|         0.0|\n",
            "|             5286482|New York Brooklyn...|               null| null|         0.0|\n",
            "|             5594883|One private guest...|               null| null|         0.0|\n",
            "|             5889379|       Che' Randall |               null| null|         0.0|\n",
            "|               SoBro|                null|               null| null|         0.0|\n",
            "|             6949526|   Brooklyn's heart,|               null| null|         0.0|\n",
            "|             8045552|A Gem Studio Apar...|               null| null|         0.0|\n",
            "|             8614204|Top (2nd) Floor L...|               null| null|         0.0|\n",
            "|             9935095|Entire pvt. house...|               null| null|         0.0|\n",
            "|            10539779|Our home away fro...|               null| null|         0.0|\n",
            "|            10924304|         Harlem, NY |               null| null|         0.0|\n",
            "+--------------------+--------------------+-------------------+-----+------------+\n",
            "only showing top 20 rows\n",
            "\n"
          ]
        }
      ]
    },
    {
      "cell_type": "markdown",
      "source": [
        "**ntile window function**"
      ],
      "metadata": {
        "id": "BiWZH9P7Sjxg"
      }
    },
    {
      "cell_type": "code",
      "source": [
        "airbnb_ntile_df = airbnb_df.withColumn('ntile', ntile(3).over(neighbourhood_group_partition))\n",
        "airbnb_ntile_df.select('id', 'name', 'neighbourhood_group', 'price', 'ntile').show()"
      ],
      "metadata": {
        "colab": {
          "base_uri": "https://localhost:8080/"
        },
        "id": "WTwSteivSs1t",
        "outputId": "5fa83183-8296-474c-b112-3248b7c3a61e"
      },
      "execution_count": null,
      "outputs": [
        {
          "output_type": "stream",
          "name": "stdout",
          "text": [
            "+--------------------+--------------------+-------------------+-----+-----+\n",
            "|                  id|                name|neighbourhood_group|price|ntile|\n",
            "+--------------------+--------------------+-------------------+-----+-----+\n",
            "|              255476|       The BLUE OWL:|               null| null|    1|\n",
            "|              267708|Charming Hotel Al...|               null| null|    1|\n",
            "|              405408|Magazine SOHO Stu...|               null| null|    1|\n",
            "|             1096326|Private studio in...|               null| null|    1|\n",
            "|,6024006,Johnny,S...|                null|               null| null|    1|\n",
            "|             3465651|“No Place Like Home”|               null| null|    1|\n",
            "|             3757461|Manhattan Sun Dre...|               null| null|    1|\n",
            "|             3768977|2 bedroom Duplex ...|               null| null|    1|\n",
            "|             4756578|Clean | Green | S...|               null| null|    1|\n",
            "|             4787527|    Home Sweet Home!|               null| null|    1|\n",
            "|             5286482|New York Brooklyn...|               null| null|    1|\n",
            "|             5594883|One private guest...|               null| null|    1|\n",
            "|             5889379|       Che' Randall |               null| null|    1|\n",
            "|               SoBro|                null|               null| null|    1|\n",
            "|             6949526|   Brooklyn's heart,|               null| null|    1|\n",
            "|             8045552|A Gem Studio Apar...|               null| null|    1|\n",
            "|             8614204|Top (2nd) Floor L...|               null| null|    1|\n",
            "|             9935095|Entire pvt. house...|               null| null|    1|\n",
            "|            10539779|Our home away fro...|               null| null|    1|\n",
            "|            10924304|         Harlem, NY |               null| null|    1|\n",
            "+--------------------+--------------------+-------------------+-----+-----+\n",
            "only showing top 20 rows\n",
            "\n"
          ]
        }
      ]
    },
    {
      "cell_type": "markdown",
      "source": [
        "**cume_dist window function**"
      ],
      "metadata": {
        "id": "-aU3w0EJUZM-"
      }
    },
    {
      "cell_type": "code",
      "source": [
        "airbnb_cume_dist_df = airbnb_df.withColumn('cume_dist', cume_dist().over(neighbourhood_group_partition))\n",
        "airbnb_cume_dist_df.select('id', 'name', 'neighbourhood_group', 'price', 'cume_dist').show()"
      ],
      "metadata": {
        "colab": {
          "base_uri": "https://localhost:8080/"
        },
        "id": "xFsvwylXW5eZ",
        "outputId": "9dff4c49-e2e1-4b3b-fb17-456157a16a67"
      },
      "execution_count": null,
      "outputs": [
        {
          "output_type": "stream",
          "name": "stdout",
          "text": [
            "+--------------------+--------------------+-------------------+-----+---------+\n",
            "|                  id|                name|neighbourhood_group|price|cume_dist|\n",
            "+--------------------+--------------------+-------------------+-----+---------+\n",
            "|              255476|       The BLUE OWL:|               null| null|      1.0|\n",
            "|              267708|Charming Hotel Al...|               null| null|      1.0|\n",
            "|              405408|Magazine SOHO Stu...|               null| null|      1.0|\n",
            "|             1096326|Private studio in...|               null| null|      1.0|\n",
            "|,6024006,Johnny,S...|                null|               null| null|      1.0|\n",
            "|             3465651|“No Place Like Home”|               null| null|      1.0|\n",
            "|             3757461|Manhattan Sun Dre...|               null| null|      1.0|\n",
            "|             3768977|2 bedroom Duplex ...|               null| null|      1.0|\n",
            "|             4756578|Clean | Green | S...|               null| null|      1.0|\n",
            "|             4787527|    Home Sweet Home!|               null| null|      1.0|\n",
            "|             5286482|New York Brooklyn...|               null| null|      1.0|\n",
            "|             5594883|One private guest...|               null| null|      1.0|\n",
            "|             5889379|       Che' Randall |               null| null|      1.0|\n",
            "|               SoBro|                null|               null| null|      1.0|\n",
            "|             6949526|   Brooklyn's heart,|               null| null|      1.0|\n",
            "|             8045552|A Gem Studio Apar...|               null| null|      1.0|\n",
            "|             8614204|Top (2nd) Floor L...|               null| null|      1.0|\n",
            "|             9935095|Entire pvt. house...|               null| null|      1.0|\n",
            "|            10539779|Our home away fro...|               null| null|      1.0|\n",
            "|            10924304|         Harlem, NY |               null| null|      1.0|\n",
            "+--------------------+--------------------+-------------------+-----+---------+\n",
            "only showing top 20 rows\n",
            "\n"
          ]
        }
      ]
    },
    {
      "cell_type": "markdown",
      "source": [
        "**lag window function**"
      ],
      "metadata": {
        "id": "Jmv-cZQxY0x4"
      }
    },
    {
      "cell_type": "code",
      "source": [
        "airbnb_lag_df = airbnb_df.withColumn('lag', lag('price', 2).over(neighbourhood_group_partition))\n",
        "airbnb_lag_df.select('id', 'name', 'neighbourhood_group', 'price', 'lag').show()"
      ],
      "metadata": {
        "colab": {
          "base_uri": "https://localhost:8080/"
        },
        "id": "ofNIoz35Y48N",
        "outputId": "6c536be1-25b2-4251-9816-043c9c3ce645"
      },
      "execution_count": null,
      "outputs": [
        {
          "output_type": "stream",
          "name": "stdout",
          "text": [
            "+--------------------+--------------------+-------------------+-----+----+\n",
            "|                  id|                name|neighbourhood_group|price| lag|\n",
            "+--------------------+--------------------+-------------------+-----+----+\n",
            "|              255476|       The BLUE OWL:|               null| null|null|\n",
            "|              267708|Charming Hotel Al...|               null| null|null|\n",
            "|              405408|Magazine SOHO Stu...|               null| null|null|\n",
            "|             1096326|Private studio in...|               null| null|null|\n",
            "|,6024006,Johnny,S...|                null|               null| null|null|\n",
            "|             3465651|“No Place Like Home”|               null| null|null|\n",
            "|             3757461|Manhattan Sun Dre...|               null| null|null|\n",
            "|             3768977|2 bedroom Duplex ...|               null| null|null|\n",
            "|             4756578|Clean | Green | S...|               null| null|null|\n",
            "|             4787527|    Home Sweet Home!|               null| null|null|\n",
            "|             5286482|New York Brooklyn...|               null| null|null|\n",
            "|             5594883|One private guest...|               null| null|null|\n",
            "|             5889379|       Che' Randall |               null| null|null|\n",
            "|               SoBro|                null|               null| null|null|\n",
            "|             6949526|   Brooklyn's heart,|               null| null|null|\n",
            "|             8045552|A Gem Studio Apar...|               null| null|null|\n",
            "|             8614204|Top (2nd) Floor L...|               null| null|null|\n",
            "|             9935095|Entire pvt. house...|               null| null|null|\n",
            "|            10539779|Our home away fro...|               null| null|null|\n",
            "|            10924304|         Harlem, NY |               null| null|null|\n",
            "+--------------------+--------------------+-------------------+-----+----+\n",
            "only showing top 20 rows\n",
            "\n"
          ]
        }
      ]
    },
    {
      "cell_type": "markdown",
      "source": [
        "**lead window function**"
      ],
      "metadata": {
        "id": "qWlmBxSPgQpi"
      }
    },
    {
      "cell_type": "code",
      "source": [
        "airbnb_lead_df = airbnb_df.withColumn('lead', lead('price', 2).over(neighbourhood_group_partition))\n",
        "airbnb_lead_df.select('id', 'name', 'neighbourhood_group', 'price', 'lead').show()"
      ],
      "metadata": {
        "colab": {
          "base_uri": "https://localhost:8080/"
        },
        "id": "rOTsxjUCgUDV",
        "outputId": "a9a8baaa-88c2-4684-f427-97a1fbc69b1b"
      },
      "execution_count": null,
      "outputs": [
        {
          "output_type": "stream",
          "name": "stdout",
          "text": [
            "+--------------------+--------------------+-------------------+-----+----+\n",
            "|                  id|                name|neighbourhood_group|price|lead|\n",
            "+--------------------+--------------------+-------------------+-----+----+\n",
            "|              255476|       The BLUE OWL:|               null| null|null|\n",
            "|              267708|Charming Hotel Al...|               null| null|null|\n",
            "|              405408|Magazine SOHO Stu...|               null| null|null|\n",
            "|             1096326|Private studio in...|               null| null|null|\n",
            "|,6024006,Johnny,S...|                null|               null| null|null|\n",
            "|             3465651|“No Place Like Home”|               null| null|null|\n",
            "|             3757461|Manhattan Sun Dre...|               null| null|null|\n",
            "|             3768977|2 bedroom Duplex ...|               null| null|null|\n",
            "|             4756578|Clean | Green | S...|               null| null|null|\n",
            "|             4787527|    Home Sweet Home!|               null| null|null|\n",
            "|             5286482|New York Brooklyn...|               null| null|null|\n",
            "|             5594883|One private guest...|               null| null|null|\n",
            "|             5889379|       Che' Randall |               null| null|null|\n",
            "|               SoBro|                null|               null| null|null|\n",
            "|             6949526|   Brooklyn's heart,|               null| null|null|\n",
            "|             8045552|A Gem Studio Apar...|               null| null|null|\n",
            "|             8614204|Top (2nd) Floor L...|               null| null|null|\n",
            "|             9935095|Entire pvt. house...|               null| null|null|\n",
            "|            10539779|Our home away fro...|               null| null|null|\n",
            "|            10924304|         Harlem, NY |               null| null|null|\n",
            "+--------------------+--------------------+-------------------+-----+----+\n",
            "only showing top 20 rows\n",
            "\n"
          ]
        }
      ]
    },
    {
      "cell_type": "markdown",
      "source": [
        "**window aggregate function**"
      ],
      "metadata": {
        "id": "-fvYF_InjMGb"
      }
    },
    {
      "cell_type": "code",
      "source": [
        "airbnb_aggregate = Window.partitionBy('neighbourhood_group')\n",
        "\n",
        "airbnb_aggregate_df = airbnb_df.withColumn('row', row_number().over(neighbourhood_group_partition)) \\\n",
        "                               .withColumn('avg_price', avg(col('price')).over(airbnb_aggregate)) \\\n",
        "                               .withColumn('total_price', sum(col('price')).over(airbnb_aggregate)) \\\n",
        "                               .withColumn('min_price', min(col('price')).over(airbnb_aggregate)) \\\n",
        "                               .withColumn('max_price', max(col('price')).over(airbnb_aggregate))\n",
        "              \n",
        "airbnb_aggregate_df.where(col('row')==1).select('neighbourhood_group', 'avg_price', 'total_price', 'min_price', 'max_price').show()"
      ],
      "metadata": {
        "colab": {
          "base_uri": "https://localhost:8080/"
        },
        "id": "fjHRmz0WjSQ5",
        "outputId": "e489a51d-d31b-4d38-8e6c-e7fa31092a61"
      },
      "execution_count": null,
      "outputs": [
        {
          "output_type": "stream",
          "name": "stdout",
          "text": [
            "+-------------------+------------------+-----------+---------------+---------------+\n",
            "|neighbourhood_group|         avg_price|total_price|      min_price|      max_price|\n",
            "+-------------------+------------------+-----------+---------------+---------------+\n",
            "|               null|              null|       null|           null|           null|\n",
            "|          194716858|         -74.00828|  -74.00828|      -74.00828|      -74.00828|\n",
            "|          197400421|         -73.99986|  -73.99986|      -73.99986|      -73.99986|\n",
            "|            Arverne|               2.0|        2.0|              2|              2|\n",
            "|            Astoria|              12.0|       24.0|             21|              3|\n",
            "|         Bath Beach|               2.0|        2.0|              2|              2|\n",
            "| Bedford-Stuyvesant|1.6666666666666667|       15.0|              1|              3|\n",
            "|       Borough Park|               2.0|        2.0|              2|              2|\n",
            "|          Briarwood|               1.0|        1.0|              1|              1|\n",
            "|              Bronx|  87.7287037037037|    94747.0|              0|             99|\n",
            "|           Brooklyn|124.39840438793318|  2494810.0|              0|            999|\n",
            "|   Brooklyn Heights|              14.0|       14.0|             14|             14|\n",
            "|           Bushwick|              3.25|       13.0|              1|              7|\n",
            "|    Cambria Heights|               1.0|        1.0|              1|              1|\n",
            "|           Canarsie|              1.75|        7.0|              1|              2|\n",
            "|             Carmen|              null|       null|Entire home/apt|Entire home/apt|\n",
            "|            Chelsea|               3.0|        6.0|              2|              4|\n",
            "|       Clinton Hill|              14.0|       14.0|             14|             14|\n",
            "|  Concourse Village|               1.0|        1.0|              1|              1|\n",
            "|      Crown Heights|3.6666666666666665|       11.0|              3|              5|\n",
            "+-------------------+------------------+-----------+---------------+---------------+\n",
            "only showing top 20 rows\n",
            "\n"
          ]
        }
      ]
    },
    {
      "cell_type": "code",
      "source": [
        "airbnb_df = airbnb_df.withColumn(\"price\",airbnb_df.price.cast('float'))"
      ],
      "metadata": {
        "id": "RWFJlFucTHTw"
      },
      "execution_count": null,
      "outputs": []
    },
    {
      "cell_type": "code",
      "source": [
        "airbnb_df.printSchema()"
      ],
      "metadata": {
        "colab": {
          "base_uri": "https://localhost:8080/"
        },
        "id": "HUaoyS94TguI",
        "outputId": "7c301254-502a-4b4e-95b0-bbe08dc15218"
      },
      "execution_count": null,
      "outputs": [
        {
          "output_type": "stream",
          "name": "stdout",
          "text": [
            "root\n",
            " |-- id: string (nullable = true)\n",
            " |-- name: string (nullable = true)\n",
            " |-- host_id: string (nullable = true)\n",
            " |-- host_name: string (nullable = true)\n",
            " |-- neighbourhood_group: string (nullable = true)\n",
            " |-- neighbourhood: string (nullable = true)\n",
            " |-- latitude: string (nullable = true)\n",
            " |-- longitude: string (nullable = true)\n",
            " |-- room_type: string (nullable = true)\n",
            " |-- price: float (nullable = true)\n",
            " |-- minimum_nights: string (nullable = true)\n",
            " |-- number_of_reviews: string (nullable = true)\n",
            " |-- last_review: string (nullable = true)\n",
            " |-- reviews_per_month: string (nullable = true)\n",
            " |-- calculated_host_listings_count: string (nullable = true)\n",
            " |-- availability_365: integer (nullable = true)\n",
            "\n"
          ]
        }
      ]
    },
    {
      "cell_type": "code",
      "source": [
        "airbnb_df.groupby('neighbourhood_group').avg('price').show()"
      ],
      "metadata": {
        "colab": {
          "base_uri": "https://localhost:8080/"
        },
        "id": "pQtG7EuaVkF6",
        "outputId": "79f46e12-e79e-43ef-cd1f-849fa37859aa"
      },
      "execution_count": null,
      "outputs": [
        {
          "output_type": "stream",
          "name": "stdout",
          "text": [
            "+-------------------+------------------+\n",
            "|neighbourhood_group|        avg(price)|\n",
            "+-------------------+------------------+\n",
            "|         Douglaston|               1.0|\n",
            "|             Queens| 99.57690941385435|\n",
            "|              Nadia|              null|\n",
            "|            Midtown|               9.0|\n",
            "|    Jackson Heights|              16.0|\n",
            "|     Hell's Kitchen|1.2857142857142858|\n",
            "|  Greenwich Village|              55.5|\n",
            "|       Clinton Hill|              14.0|\n",
            "| Washington Heights|              2.75|\n",
            "|   Ditmars Steinway|3.3333333333333335|\n",
            "|           Longwood|               5.0|\n",
            "|          Briarwood|               1.0|\n",
            "|        Little Neck|               1.0|\n",
            "|           Flushing|10.333333333333334|\n",
            "|      Randall Manor|               7.0|\n",
            "|             Carmen|              null|\n",
            "|      East Elmhurst|               1.0|\n",
            "|    Upper East Side|1.5714285714285714|\n",
            "|               null|              null|\n",
            "|         Bath Beach|               2.0|\n",
            "+-------------------+------------------+\n",
            "only showing top 20 rows\n",
            "\n"
          ]
        }
      ]
    },
    {
      "cell_type": "code",
      "source": [
        "airbnb_df.count()"
      ],
      "metadata": {
        "colab": {
          "base_uri": "https://localhost:8080/"
        },
        "id": "l1nZQnGuV0g3",
        "outputId": "82876c07-8c8e-4228-8c12-9f1e27b60dde"
      },
      "execution_count": null,
      "outputs": [
        {
          "output_type": "execute_result",
          "data": {
            "text/plain": [
              "49079"
            ]
          },
          "metadata": {},
          "execution_count": 52
        }
      ]
    },
    {
      "cell_type": "code",
      "source": [
        "airbnb_df.select('room_type').distinct().collect()"
      ],
      "metadata": {
        "colab": {
          "base_uri": "https://localhost:8080/"
        },
        "id": "jCkW36ZlYHNl",
        "outputId": "bb7c1339-f4f0-49c5-a8d7-6f1f403ac8da"
      },
      "execution_count": null,
      "outputs": [
        {
          "output_type": "execute_result",
          "data": {
            "text/plain": [
              "[Row(room_type='51'),\n",
              " Row(room_type='205'),\n",
              " Row(room_type='54'),\n",
              " Row(room_type='200'),\n",
              " Row(room_type='279'),\n",
              " Row(room_type='138'),\n",
              " Row(room_type='69'),\n",
              " Row(room_type='42'),\n",
              " Row(room_type='Shared room'),\n",
              " Row(room_type='-73.95777'),\n",
              " Row(room_type='425'),\n",
              " Row(room_type='59'),\n",
              " Row(room_type='250'),\n",
              " Row(room_type='160'),\n",
              " Row(room_type='40.57453'),\n",
              " Row(room_type='85'),\n",
              " Row(room_type='35'),\n",
              " Row(room_type='-73.95179'),\n",
              " Row(room_type='410'),\n",
              " Row(room_type='298'),\n",
              " Row(room_type='188'),\n",
              " Row(room_type='99'),\n",
              " Row(room_type='110'),\n",
              " Row(room_type=None),\n",
              " Row(room_type='179'),\n",
              " Row(room_type='300'),\n",
              " Row(room_type='31'),\n",
              " Row(room_type='100'),\n",
              " Row(room_type='70'),\n",
              " Row(room_type='6500'),\n",
              " Row(room_type='75'),\n",
              " Row(room_type='140'),\n",
              " Row(room_type='120'),\n",
              " Row(room_type='-73.94639'),\n",
              " Row(room_type='46'),\n",
              " Row(room_type='130'),\n",
              " Row(room_type='78'),\n",
              " Row(room_type='89'),\n",
              " Row(room_type='-73.94861'),\n",
              " Row(room_type='185'),\n",
              " Row(room_type='230'),\n",
              " Row(room_type='60'),\n",
              " Row(room_type='68'),\n",
              " Row(room_type='128'),\n",
              " Row(room_type='55'),\n",
              " Row(room_type='Entire home/apt'),\n",
              " Row(room_type='95'),\n",
              " Row(room_type='93'),\n",
              " Row(room_type='40'),\n",
              " Row(room_type='38'),\n",
              " Row(room_type='135'),\n",
              " Row(room_type='115'),\n",
              " Row(room_type='86'),\n",
              " Row(room_type='81'),\n",
              " Row(room_type='350'),\n",
              " Row(room_type='150'),\n",
              " Row(room_type='170'),\n",
              " Row(room_type='48'),\n",
              " Row(room_type='180'),\n",
              " Row(room_type='159'),\n",
              " Row(room_type='67'),\n",
              " Row(room_type='79'),\n",
              " Row(room_type='-74.00244'),\n",
              " Row(room_type='116'),\n",
              " Row(room_type='299'),\n",
              " Row(room_type='88'),\n",
              " Row(room_type='Private room'),\n",
              " Row(room_type='105'),\n",
              " Row(room_type='56'),\n",
              " Row(room_type='63'),\n",
              " Row(room_type='225'),\n",
              " Row(room_type='65'),\n",
              " Row(room_type='40.71509'),\n",
              " Row(room_type='39'),\n",
              " Row(room_type='333'),\n",
              " Row(room_type='109'),\n",
              " Row(room_type='-73.90783'),\n",
              " Row(room_type='249'),\n",
              " Row(room_type='175'),\n",
              " Row(room_type='72'),\n",
              " Row(room_type='80'),\n",
              " Row(room_type='50'),\n",
              " Row(room_type='145'),\n",
              " Row(room_type='45'),\n",
              " Row(room_type='57'),\n",
              " Row(room_type='Howard'),\n",
              " Row(room_type='119')]"
            ]
          },
          "metadata": {},
          "execution_count": 53
        }
      ]
    }
  ]
}