{
  "nbformat": 4,
  "nbformat_minor": 0,
  "metadata": {
    "colab": {
      "provenance": []
    },
    "kernelspec": {
      "name": "python3",
      "display_name": "Python 3"
    },
    "language_info": {
      "name": "python"
    }
  },
  "cells": [
    {
      "cell_type": "code",
      "execution_count": 1,
      "metadata": {
        "id": "bsAywXaF2ksE",
        "colab": {
          "base_uri": "https://localhost:8080/"
        },
        "outputId": "01d77a97-92d7-43da-d728-109fb8121dda"
      },
      "outputs": [
        {
          "output_type": "stream",
          "name": "stdout",
          "text": [
            "Looking in indexes: https://pypi.org/simple, https://us-python.pkg.dev/colab-wheels/public/simple/\n",
            "Collecting pyspark\n",
            "  Downloading pyspark-3.3.1.tar.gz (281.4 MB)\n",
            "\u001b[K     |████████████████████████████████| 281.4 MB 42 kB/s \n",
            "\u001b[?25hCollecting py4j==0.10.9.5\n",
            "  Downloading py4j-0.10.9.5-py2.py3-none-any.whl (199 kB)\n",
            "\u001b[K     |████████████████████████████████| 199 kB 47.4 MB/s \n",
            "\u001b[?25hBuilding wheels for collected packages: pyspark\n",
            "  Building wheel for pyspark (setup.py) ... \u001b[?25l\u001b[?25hdone\n",
            "  Created wheel for pyspark: filename=pyspark-3.3.1-py2.py3-none-any.whl size=281845512 sha256=2ef0b618564c7bdbf5a9751614c553c96af081d0013756b21dba1d7b0d0a950c\n",
            "  Stored in directory: /root/.cache/pip/wheels/42/59/f5/79a5bf931714dcd201b26025347785f087370a10a3329a899c\n",
            "Successfully built pyspark\n",
            "Installing collected packages: py4j, pyspark\n",
            "Successfully installed py4j-0.10.9.5 pyspark-3.3.1\n"
          ]
        }
      ],
      "source": [
        "pip install pyspark"
      ]
    },
    {
      "cell_type": "code",
      "source": [
        "from pyspark.sql import SparkSession\n",
        "from pyspark.sql.functions import * \n",
        "import pyspark.sql.functions as F"
      ],
      "metadata": {
        "id": "MOtA3lWYZycI"
      },
      "execution_count": 2,
      "outputs": []
    },
    {
      "cell_type": "code",
      "source": [
        "spark = SparkSession.builder.getOrCreate()"
      ],
      "metadata": {
        "id": "C54kVPxFLYh0"
      },
      "execution_count": 3,
      "outputs": []
    },
    {
      "cell_type": "code",
      "source": [
        "information_df = spark.read.csv('informations_households.csv', header = True, inferSchema= True)\n",
        "holidays_df = spark.read.csv('uk_bank_holidays.csv', header = True, inferSchema= True)\n",
        "weather_daily_df = spark.read.csv('weather_daily_darksky.csv', header = True, inferSchema= True)\n",
        "weather_hourly_df = spark.read.csv('weather_hourly_darksky.csv', header = True, inferSchema= True)\n",
        "daily_df = spark.read.csv('daily_dataset.csv', header = True, inferSchema= True)\n",
        "acorn_df = spark.read.csv('acorn_details.csv', header = True, inferSchema= True)"
      ],
      "metadata": {
        "id": "rdQUuICvL8tT"
      },
      "execution_count": 4,
      "outputs": []
    },
    {
      "cell_type": "code",
      "source": [
        "information_df.createOrReplaceTempView('information_df')\n",
        "holidays_df.createOrReplaceTempView('holidays_df')\n",
        "weather_daily_df.createOrReplaceTempView('weather_daily_df')\n",
        "weather_hourly_df.createOrReplaceTempView('weather_hourly_df')\n",
        "daily_df.createOrReplaceTempView('daily_df')\n",
        "acorn_df.createOrReplaceTempView('acorn_df')"
      ],
      "metadata": {
        "id": "5gWi8_UKWyav"
      },
      "execution_count": 5,
      "outputs": []
    },
    {
      "cell_type": "code",
      "source": [
        "spark.sql(''' SELECT *\n",
        "              FROM information_df\n",
        "              LIMIT 5 ''').show()"
      ],
      "metadata": {
        "colab": {
          "base_uri": "https://localhost:8080/"
        },
        "id": "bOEeB20VjGbR",
        "outputId": "6ee77eeb-5706-4c1b-c2fc-8153590336d0"
      },
      "execution_count": 6,
      "outputs": [
        {
          "output_type": "stream",
          "name": "stdout",
          "text": [
            "+---------+--------+-------+-------------+-------+\n",
            "|    LCLid|stdorToU|  Acorn|Acorn_grouped|   file|\n",
            "+---------+--------+-------+-------------+-------+\n",
            "|MAC005492|     ToU| ACORN-|       ACORN-|block_0|\n",
            "|MAC001074|     ToU| ACORN-|       ACORN-|block_0|\n",
            "|MAC000002|     Std|ACORN-A|     Affluent|block_0|\n",
            "|MAC003613|     Std|ACORN-A|     Affluent|block_0|\n",
            "|MAC003597|     Std|ACORN-A|     Affluent|block_0|\n",
            "+---------+--------+-------+-------------+-------+\n",
            "\n"
          ]
        }
      ]
    },
    {
      "cell_type": "code",
      "source": [
        "spark.sql(''' SELECT *\n",
        "              FROM holidays_df\n",
        "              ''').show()"
      ],
      "metadata": {
        "colab": {
          "base_uri": "https://localhost:8080/"
        },
        "id": "eWILywJ1onMn",
        "outputId": "a9a3bc07-d491-4d57-c21e-670738a77c40"
      },
      "execution_count": 7,
      "outputs": [
        {
          "output_type": "stream",
          "name": "stdout",
          "text": [
            "+-------------------+--------------------+\n",
            "|      Bank holidays|                Type|\n",
            "+-------------------+--------------------+\n",
            "|2012-12-26 00:00:00|          Boxing Day|\n",
            "|2012-12-25 00:00:00|       Christmas Day|\n",
            "|2012-08-27 00:00:00| Summer bank holiday|\n",
            "|2012-05-06 00:00:00|Queen?s Diamond J...|\n",
            "|2012-04-06 00:00:00|Spring bank holid...|\n",
            "|2012-07-05 00:00:00|Early May bank ho...|\n",
            "|2012-09-04 00:00:00|       Easter Monday|\n",
            "|2012-06-04 00:00:00|         Good Friday|\n",
            "|2012-02-01 00:00:00|New Year?s Day (s...|\n",
            "|2013-12-26 00:00:00|          Boxing Day|\n",
            "|2013-12-25 00:00:00|       Christmas Day|\n",
            "|2013-08-26 00:00:00| Summer bank holiday|\n",
            "|2013-05-27 00:00:00| Spring bank holiday|\n",
            "|2013-06-05 00:00:00|Early May bank ho...|\n",
            "|2013-01-04 00:00:00|       Easter Monday|\n",
            "|2013-03-29 00:00:00|         Good Friday|\n",
            "|2013-01-01 00:00:00|      New Year?s Day|\n",
            "|2014-12-26 00:00:00|          Boxing Day|\n",
            "|2014-12-25 00:00:00|       Christmas Day|\n",
            "|2014-08-25 00:00:00| Summer bank holiday|\n",
            "+-------------------+--------------------+\n",
            "only showing top 20 rows\n",
            "\n"
          ]
        }
      ]
    },
    {
      "cell_type": "code",
      "source": [
        "spark.sql(''' SELECT *\n",
        "              FROM daily_df\n",
        "              LIMIT 5 ''').show()"
      ],
      "metadata": {
        "colab": {
          "base_uri": "https://localhost:8080/"
        },
        "id": "dsFCvnCvotnN",
        "outputId": "f86f09bf-b80b-4968-ea4d-598401de8214"
      },
      "execution_count": 8,
      "outputs": [
        {
          "output_type": "stream",
          "name": "stdout",
          "text": [
            "+---------+-------------------+-------------+-------------------+------------------+------------+-------------------+------------------+-------------------+\n",
            "|    LCLid|                day|energy_median|        energy_mean|        energy_max|energy_count|         energy_std|        energy_sum|         energy_min|\n",
            "+---------+-------------------+-------------+-------------------+------------------+------------+-------------------+------------------+-------------------+\n",
            "|MAC000131|2011-12-15 00:00:00|        0.485|0.43204545454545457|             0.868|          22|0.23914579678767536|             9.505|0.07200000000000001|\n",
            "|MAC000131|2011-12-16 00:00:00|       0.1415|0.29616666875000003|         1.1160001|          48| 0.2814713178628203|14.216000100000002|              0.031|\n",
            "|MAC000131|2011-12-17 00:00:00|       0.1015|          0.1898125|             0.685|          48| 0.1884046862418033|             9.111|              0.064|\n",
            "|MAC000131|2011-12-18 00:00:00|        0.114| 0.2189791666666666|0.6759999999999999|          48|0.20291927853038208|10.510999999999996|              0.065|\n",
            "|MAC000131|2011-12-19 00:00:00|        0.191|0.32597916666666665|0.7879999999999999|          48| 0.2592049619947409|15.646999999999998|              0.066|\n",
            "+---------+-------------------+-------------+-------------------+------------------+------------+-------------------+------------------+-------------------+\n",
            "\n"
          ]
        }
      ]
    },
    {
      "cell_type": "code",
      "source": [
        "spark.sql(''' SELECT *\n",
        "              FROM daily_df\n",
        "              INNER JOIN information_df\n",
        "              ON daily_df.LCLid = information_df.LCLid\n",
        "              ''').show()"
      ],
      "metadata": {
        "colab": {
          "base_uri": "https://localhost:8080/"
        },
        "id": "g-rYNkNhqByO",
        "outputId": "9fe6be47-1650-4ef2-b777-63b70e079fba"
      },
      "execution_count": 9,
      "outputs": [
        {
          "output_type": "stream",
          "name": "stdout",
          "text": [
            "+---------+-------------------+-------------------+-------------------+------------------+------------+-------------------+------------------+-------------------+---------+--------+-------+-------------+--------+\n",
            "|    LCLid|                day|      energy_median|        energy_mean|        energy_max|energy_count|         energy_std|        energy_sum|         energy_min|    LCLid|stdorToU|  Acorn|Acorn_grouped|    file|\n",
            "+---------+-------------------+-------------------+-------------------+------------------+------------+-------------------+------------------+-------------------+---------+--------+-------+-------------+--------+\n",
            "|MAC000131|2011-12-15 00:00:00|              0.485|0.43204545454545457|             0.868|          22|0.23914579678767536|             9.505|0.07200000000000001|MAC000131|     Std|ACORN-E|     Affluent|block_22|\n",
            "|MAC000131|2011-12-16 00:00:00|             0.1415|0.29616666875000003|         1.1160001|          48| 0.2814713178628203|14.216000100000002|              0.031|MAC000131|     Std|ACORN-E|     Affluent|block_22|\n",
            "|MAC000131|2011-12-17 00:00:00|             0.1015|          0.1898125|             0.685|          48| 0.1884046862418033|             9.111|              0.064|MAC000131|     Std|ACORN-E|     Affluent|block_22|\n",
            "|MAC000131|2011-12-18 00:00:00|              0.114| 0.2189791666666666|0.6759999999999999|          48|0.20291927853038208|10.510999999999996|              0.065|MAC000131|     Std|ACORN-E|     Affluent|block_22|\n",
            "|MAC000131|2011-12-19 00:00:00|              0.191|0.32597916666666665|0.7879999999999999|          48| 0.2592049619947409|15.646999999999998|              0.066|MAC000131|     Std|ACORN-E|     Affluent|block_22|\n",
            "|MAC000131|2011-12-20 00:00:00|0.21800000000000005|             0.3575|             1.077|          48|0.28759657027517305|             17.16|              0.066|MAC000131|     Std|ACORN-E|     Affluent|block_22|\n",
            "|MAC000131|2011-12-21 00:00:00|             0.1305| 0.2350833333333333|             0.705|          48| 0.2220696491599295|            11.284|              0.066|MAC000131|     Std|ACORN-E|     Affluent|block_22|\n",
            "|MAC000131|2011-12-22 00:00:00|0.08900000000000001|0.22135416666666666|             1.094|          48|0.26723887549908265|            10.625|              0.062|MAC000131|     Std|ACORN-E|     Affluent|block_22|\n",
            "|MAC000131|2011-12-23 00:00:00|0.16049999999999998|           0.291125|0.7490000000000001|          48|0.24907604794434665|13.973999999999998|              0.065|MAC000131|     Std|ACORN-E|     Affluent|block_22|\n",
            "|MAC000131|2011-12-24 00:00:00|              0.107|0.16899999999999998|             0.613|          47|0.15068466931050878|             7.943|              0.065|MAC000131|     Std|ACORN-E|     Affluent|block_22|\n",
            "|MAC000131|2011-12-25 00:00:00|             0.2175|0.33918750000000003|             0.866|          48|0.26310119857478675|16.281000000000002|              0.069|MAC000131|     Std|ACORN-E|     Affluent|block_22|\n",
            "|MAC000131|2011-12-26 00:00:00|0.14950000000000002| 0.2617083333333333|             0.838|          48| 0.2447927441503373|12.562000000000001|              0.066|MAC000131|     Std|ACORN-E|     Affluent|block_22|\n",
            "|MAC000131|2011-12-27 00:00:00|0.14300000000000002| 0.2740000000000001|             0.778|          48|0.25212745847913703|13.152000000000005|              0.068|MAC000131|     Std|ACORN-E|     Affluent|block_22|\n",
            "|MAC000131|2011-12-28 00:00:00|0.14550000000000002| 0.3005208333333333|             1.207|          48|0.29868028801773083|            14.425|              0.066|MAC000131|     Std|ACORN-E|     Affluent|block_22|\n",
            "|MAC000131|2011-12-29 00:00:00|              0.152| 0.3070416666666667|             0.888|          48| 0.2644546341928976|            14.738|              0.066|MAC000131|     Std|ACORN-E|     Affluent|block_22|\n",
            "|MAC000131|2011-12-30 00:00:00|              0.135|0.27685416666666673|             0.782|          48|  0.261185756802965|13.289000000000005|              0.064|MAC000131|     Std|ACORN-E|     Affluent|block_22|\n",
            "|MAC000131|2011-12-31 00:00:00|             0.1515|0.32572916666666674|             1.252|          48| 0.3098882941898363|15.635000000000005|              0.066|MAC000131|     Std|ACORN-E|     Affluent|block_22|\n",
            "|MAC000131|2012-01-01 00:00:00|              0.151|0.25602083333333336|             0.812|          48| 0.2252494116065079|            12.289|              0.068|MAC000131|     Std|ACORN-E|     Affluent|block_22|\n",
            "|MAC000131|2012-01-02 00:00:00|              0.134| 0.2520833333333333|             0.851|          48|0.23721296951853504|              12.1|              0.068|MAC000131|     Std|ACORN-E|     Affluent|block_22|\n",
            "|MAC000131|2012-01-03 00:00:00|0.14750000000000002|0.23550000000000004|             0.674|          48| 0.2099953393606427|11.304000000000002|              0.068|MAC000131|     Std|ACORN-E|     Affluent|block_22|\n",
            "+---------+-------------------+-------------------+-------------------+------------------+------------+-------------------+------------------+-------------------+---------+--------+-------+-------------+--------+\n",
            "only showing top 20 rows\n",
            "\n"
          ]
        }
      ]
    },
    {
      "cell_type": "code",
      "source": [
        "spark.sql('''SELECT *\n",
        "              FROM daily_df\n",
        "              ''').show()"
      ],
      "metadata": {
        "colab": {
          "base_uri": "https://localhost:8080/"
        },
        "id": "pdyl3HyEPYJK",
        "outputId": "4cb75634-79af-4473-f772-ad740e652feb"
      },
      "execution_count": 10,
      "outputs": [
        {
          "output_type": "stream",
          "name": "stdout",
          "text": [
            "+---------+-------------------+-------------------+-------------------+------------------+------------+-------------------+------------------+-------------------+\n",
            "|    LCLid|                day|      energy_median|        energy_mean|        energy_max|energy_count|         energy_std|        energy_sum|         energy_min|\n",
            "+---------+-------------------+-------------------+-------------------+------------------+------------+-------------------+------------------+-------------------+\n",
            "|MAC000131|2011-12-15 00:00:00|              0.485|0.43204545454545457|             0.868|          22|0.23914579678767536|             9.505|0.07200000000000001|\n",
            "|MAC000131|2011-12-16 00:00:00|             0.1415|0.29616666875000003|         1.1160001|          48| 0.2814713178628203|14.216000100000002|              0.031|\n",
            "|MAC000131|2011-12-17 00:00:00|             0.1015|          0.1898125|             0.685|          48| 0.1884046862418033|             9.111|              0.064|\n",
            "|MAC000131|2011-12-18 00:00:00|              0.114| 0.2189791666666666|0.6759999999999999|          48|0.20291927853038208|10.510999999999996|              0.065|\n",
            "|MAC000131|2011-12-19 00:00:00|              0.191|0.32597916666666665|0.7879999999999999|          48| 0.2592049619947409|15.646999999999998|              0.066|\n",
            "|MAC000131|2011-12-20 00:00:00|0.21800000000000005|             0.3575|             1.077|          48|0.28759657027517305|             17.16|              0.066|\n",
            "|MAC000131|2011-12-21 00:00:00|             0.1305| 0.2350833333333333|             0.705|          48| 0.2220696491599295|            11.284|              0.066|\n",
            "|MAC000131|2011-12-22 00:00:00|0.08900000000000001|0.22135416666666666|             1.094|          48|0.26723887549908265|            10.625|              0.062|\n",
            "|MAC000131|2011-12-23 00:00:00|0.16049999999999998|           0.291125|0.7490000000000001|          48|0.24907604794434665|13.973999999999998|              0.065|\n",
            "|MAC000131|2011-12-24 00:00:00|              0.107|0.16899999999999998|             0.613|          47|0.15068466931050878|             7.943|              0.065|\n",
            "|MAC000131|2011-12-25 00:00:00|             0.2175|0.33918750000000003|             0.866|          48|0.26310119857478675|16.281000000000002|              0.069|\n",
            "|MAC000131|2011-12-26 00:00:00|0.14950000000000002| 0.2617083333333333|             0.838|          48| 0.2447927441503373|12.562000000000001|              0.066|\n",
            "|MAC000131|2011-12-27 00:00:00|0.14300000000000002| 0.2740000000000001|             0.778|          48|0.25212745847913703|13.152000000000005|              0.068|\n",
            "|MAC000131|2011-12-28 00:00:00|0.14550000000000002| 0.3005208333333333|             1.207|          48|0.29868028801773083|            14.425|              0.066|\n",
            "|MAC000131|2011-12-29 00:00:00|              0.152| 0.3070416666666667|             0.888|          48| 0.2644546341928976|            14.738|              0.066|\n",
            "|MAC000131|2011-12-30 00:00:00|              0.135|0.27685416666666673|             0.782|          48|  0.261185756802965|13.289000000000005|              0.064|\n",
            "|MAC000131|2011-12-31 00:00:00|             0.1515|0.32572916666666674|             1.252|          48| 0.3098882941898363|15.635000000000005|              0.066|\n",
            "|MAC000131|2012-01-01 00:00:00|              0.151|0.25602083333333336|             0.812|          48| 0.2252494116065079|            12.289|              0.068|\n",
            "|MAC000131|2012-01-02 00:00:00|              0.134| 0.2520833333333333|             0.851|          48|0.23721296951853504|              12.1|              0.068|\n",
            "|MAC000131|2012-01-03 00:00:00|0.14750000000000002|0.23550000000000004|             0.674|          48| 0.2099953393606427|11.304000000000002|              0.068|\n",
            "+---------+-------------------+-------------------+-------------------+------------------+------------+-------------------+------------------+-------------------+\n",
            "only showing top 20 rows\n",
            "\n"
          ]
        }
      ]
    },
    {
      "cell_type": "markdown",
      "source": [
        "**blockwise Maximum and MInimum energy consumption** "
      ],
      "metadata": {
        "id": "usiliMZY5bQ8"
      }
    },
    {
      "cell_type": "code",
      "source": [
        "spark.sql(''' SELECT information_df.file, \n",
        "                     SUM(daily_df.energy_max) AS MAX_Energy_Consumption,\n",
        "                     SUM(daily_df.energy_min) AS MIN_Energy_Consumption\n",
        "              FROM daily_df\n",
        "              JOIN information_df\n",
        "              ON daily_df.LCLid = information_df.LCLid \n",
        "              GROUP BY information_df.file\n",
        "              ORDER BY information_df.file \n",
        "              LIMIT 5 ''').show()"
      ],
      "metadata": {
        "colab": {
          "base_uri": "https://localhost:8080/"
        },
        "id": "oTOAv2uKqrBO",
        "outputId": "d0a5882c-64d7-43e9-ca89-84ae41db81ef"
      },
      "execution_count": 11,
      "outputs": [
        {
          "output_type": "stream",
          "name": "stdout",
          "text": [
            "+--------+----------------------+----------------------+\n",
            "|    file|MAX_Energy_Consumption|MIN_Energy_Consumption|\n",
            "+--------+----------------------+----------------------+\n",
            "|block_22|    30823.649006200252|     2287.911000099982|\n",
            "|block_35|      4524.29200350002|    431.51099999999394|\n",
            "|block_36|    26950.763998700033|    1964.7630000999916|\n",
            "|block_52|    24364.897002100108|     1831.367999999928|\n",
            "|block_54|    26307.732002000055|     1709.884999899973|\n",
            "+--------+----------------------+----------------------+\n",
            "\n"
          ]
        }
      ]
    },
    {
      "cell_type": "markdown",
      "source": [
        "**blockwise Maximum and MInimum energy consumption at particular date**"
      ],
      "metadata": {
        "id": "ksEhX-1qSd7B"
      }
    },
    {
      "cell_type": "code",
      "source": [
        "spark.sql(''' SELECT information_df.file, date(daily_df.day),\n",
        "                     SUM(daily_df.energy_max) AS MAX_Energy_Consumption,\n",
        "                     SUM(daily_df.energy_min) AS MIN_Energy_Consumption\n",
        "              FROM daily_df\n",
        "              JOIN information_df\n",
        "              ON daily_df.LCLid = information_df.LCLid\n",
        "              WHERE daily_df.day = '2011-12-15 00:00:00'\n",
        "              GROUP BY information_df.file, daily_df.day\n",
        "              ORDER BY information_df.file\n",
        "              LIMIT 5''').show()"
      ],
      "metadata": {
        "id": "0_Id0_h8s04u",
        "colab": {
          "base_uri": "https://localhost:8080/"
        },
        "outputId": "f54a41b8-b661-432e-dd31-c970c286daa8"
      },
      "execution_count": 12,
      "outputs": [
        {
          "output_type": "stream",
          "name": "stdout",
          "text": [
            "+--------+----------+----------------------+----------------------+\n",
            "|    file|       day|MAX_Energy_Consumption|MIN_Energy_Consumption|\n",
            "+--------+----------+----------------------+----------------------+\n",
            "|block_22|2011-12-15|     9.065999999999999|                 0.386|\n",
            "|block_35|2011-12-15|     5.967000100000001|                 0.354|\n",
            "|block_36|2011-12-15|             6.9920002|                 0.518|\n",
            "|block_52|2011-12-15|                  0.75|                  0.11|\n",
            "|block_54|2011-12-15|             4.1379999|                 0.146|\n",
            "+--------+----------+----------------------+----------------------+\n",
            "\n"
          ]
        }
      ]
    },
    {
      "cell_type": "markdown",
      "source": [
        "**AVG MAX and MIN energy consumption of all block**"
      ],
      "metadata": {
        "id": "gLBwWOrMSqP5"
      }
    },
    {
      "cell_type": "code",
      "source": [
        "sql_1 = spark.sql(''' SELECT AVG(MAX_Energy_Consumption) AS AVG_Energy_Consumption_MAX,\n",
        "                     AVG(MIN_Energy_Consumption) AS AVG_Energy_Consumption_MIN\n",
        "              FROM (\n",
        "                     SELECT information_df.file, \n",
        "                     SUM(daily_df.energy_max) AS MAX_Energy_Consumption,\n",
        "                     SUM(daily_df.energy_min) AS MIN_Energy_Consumption\n",
        "              FROM daily_df\n",
        "              JOIN information_df\n",
        "              ON daily_df.LCLid = information_df.LCLid \n",
        "              GROUP BY information_df.file\n",
        "              ORDER BY information_df.file \n",
        "                  ) AS f\n",
        "               ''')\n",
        "\n",
        "sql_1.createOrReplaceTempView('sql_1')\n",
        "sql_1.show()"
      ],
      "metadata": {
        "id": "9B73u1Xp-SdC",
        "colab": {
          "base_uri": "https://localhost:8080/"
        },
        "outputId": "5559f9e5-9ea2-4321-bec4-fc65b24bdccf"
      },
      "execution_count": 13,
      "outputs": [
        {
          "output_type": "stream",
          "name": "stdout",
          "text": [
            "+--------------------------+--------------------------+\n",
            "|AVG_Energy_Consumption_MAX|AVG_Energy_Consumption_MIN|\n",
            "+--------------------------+--------------------------+\n",
            "|        23234.184546063654|        1522.6660909636141|\n",
            "+--------------------------+--------------------------+\n",
            "\n"
          ]
        }
      ]
    },
    {
      "cell_type": "markdown",
      "source": [
        "**block that energy consumption more or less than avg**"
      ],
      "metadata": {
        "id": "juKxI1xhS0d9"
      }
    },
    {
      "cell_type": "code",
      "source": [
        "sql_2 = spark.sql('''SELECT information_df.file, \n",
        "                     SUM(daily_df.energy_max) AS MAX_Energy_Consumption,\n",
        "                     SUM(daily_df.energy_min) AS MIN_Energy_Consumption\n",
        "              FROM daily_df\n",
        "              JOIN information_df\n",
        "              ON daily_df.LCLid = information_df.LCLid \n",
        "              GROUP BY information_df.file\n",
        "              ORDER BY information_df.file''')\n",
        "\n",
        "sql_2.createOrReplaceTempView('sql_2')\n",
        "\n",
        "spark.sql(''' SELECT *,\n",
        "              CASE\n",
        "                WHEN sql_2.MAX_Energy_Consumption > (AVG(sql_2.MAX_Energy_Consumption)OVER()) THEN 'Greater than AVG'\n",
        "                ELSE 'Less than AVG'\n",
        "              END AS Status\n",
        "              FROM sql_2 \n",
        "              LIMIT 5''').show()"
      ],
      "metadata": {
        "id": "KFzHzS7hLJw8",
        "colab": {
          "base_uri": "https://localhost:8080/"
        },
        "outputId": "7121238a-8837-47a3-98ef-be0f852d2b9a"
      },
      "execution_count": 14,
      "outputs": [
        {
          "output_type": "stream",
          "name": "stdout",
          "text": [
            "+--------+----------------------+----------------------+----------------+\n",
            "|    file|MAX_Energy_Consumption|MIN_Energy_Consumption|          Status|\n",
            "+--------+----------------------+----------------------+----------------+\n",
            "|block_22|    30823.649006200252|     2287.911000099982|Greater than AVG|\n",
            "|block_35|      4524.29200350002|    431.51099999999394|   Less than AVG|\n",
            "|block_36|    26950.763998700033|    1964.7630000999916|Greater than AVG|\n",
            "|block_52|    24364.897002100108|     1831.367999999928|Greater than AVG|\n",
            "|block_54|    26307.732002000055|     1709.884999899973|Greater than AVG|\n",
            "+--------+----------------------+----------------------+----------------+\n",
            "\n"
          ]
        }
      ]
    },
    {
      "cell_type": "markdown",
      "source": [
        "**percentage energy consumption of blocks**"
      ],
      "metadata": {
        "id": "DGvV2B-xTND0"
      }
    },
    {
      "cell_type": "code",
      "source": [
        "spark.sql(''' SELECT *, MAX_Energy_Consumption / SUM(MAX_Energy_Consumption)OVER() *100 AS MAX_Percentage_Consumption\n",
        "              FROM sql_2\n",
        "              LIMIT 5 ''').show()"
      ],
      "metadata": {
        "id": "5p_puDEQPPOg",
        "colab": {
          "base_uri": "https://localhost:8080/"
        },
        "outputId": "041b84e6-b84c-4691-c368-eb9cfbc3f797"
      },
      "execution_count": 15,
      "outputs": [
        {
          "output_type": "stream",
          "name": "stdout",
          "text": [
            "+--------+----------------------+----------------------+--------------------------+\n",
            "|    file|MAX_Energy_Consumption|MIN_Energy_Consumption|MAX_Percentage_Consumption|\n",
            "+--------+----------------------+----------------------+--------------------------+\n",
            "|block_22|    30823.649006200252|     2287.911000099982|        12.060461618952363|\n",
            "|block_35|      4524.29200350002|    431.51099999999394|         1.770233305283524|\n",
            "|block_36|    26950.763998700033|    1964.7630000999916|        10.545106283243186|\n",
            "|block_52|    24364.897002100108|     1831.367999999928|         9.533326345769341|\n",
            "|block_54|    26307.732002000055|     1709.884999899973|        10.293505224770245|\n",
            "+--------+----------------------+----------------------+--------------------------+\n",
            "\n"
          ]
        }
      ]
    },
    {
      "cell_type": "markdown",
      "source": [
        "**MAX and MIN energy consumption on bank holidays**"
      ],
      "metadata": {
        "id": "WsDt9dr1eNuj"
      }
    },
    {
      "cell_type": "code",
      "source": [
        "spark.sql(''' SELECT\n",
        "                    \n",
        "                    information_df.file, daily_df.day,\n",
        "                    SUM(daily_df.energy_max) AS MAX_Energy_Consumption,\n",
        "                    SUM(daily_df.energy_min) AS MIN_Energy_Consumption\n",
        "                FROM holidays_df\n",
        "                JOIN daily_df\n",
        "                  ON holidays_df.`Bank holidays` = daily_df.day\n",
        "                JOIN information_df\n",
        "                  ON daily_df.LCLid = information_df.LCLid\n",
        "            GROUP BY information_df.file, daily_df.day\n",
        "            ORDER BY information_df.file, daily_df.day\n",
        "               ''').show()"
      ],
      "metadata": {
        "colab": {
          "base_uri": "https://localhost:8080/"
        },
        "id": "1mL6otRDV31_",
        "outputId": "87e12801-b8e8-4972-de06-4663f1adef49"
      },
      "execution_count": 16,
      "outputs": [
        {
          "output_type": "stream",
          "name": "stdout",
          "text": [
            "+--------+-------------------+----------------------+----------------------+\n",
            "|    file|                day|MAX_Energy_Consumption|MIN_Energy_Consumption|\n",
            "+--------+-------------------+----------------------+----------------------+\n",
            "|block_22|2012-02-01 00:00:00|                27.147|                 2.332|\n",
            "|block_22|2012-04-06 00:00:00|    22.639000200000005|                 2.002|\n",
            "|block_22|2012-05-06 00:00:00|    28.678000100000006|    1.9869999999999994|\n",
            "|block_22|2012-06-04 00:00:00|    21.919999999999995|                 1.678|\n",
            "|block_22|2012-07-05 00:00:00|                18.859|                  1.49|\n",
            "|block_22|2012-08-27 00:00:00|     35.67999999999999|                 2.966|\n",
            "|block_22|2012-09-04 00:00:00|                35.575|                 2.908|\n",
            "|block_22|2012-12-25 00:00:00|    36.676999900000006|                 3.723|\n",
            "|block_22|2012-12-26 00:00:00|    36.674000199999995|    3.6860000000000004|\n",
            "|block_22|2013-01-01 00:00:00|    45.132000500000004|    3.6629999999999994|\n",
            "|block_22|2013-01-04 00:00:00|     46.04500019999999|    3.1429999999999985|\n",
            "|block_22|2013-03-29 00:00:00|    45.018999999999984|     3.188000000000001|\n",
            "|block_22|2013-05-27 00:00:00|    36.052999700000015|    2.9139999999999993|\n",
            "|block_22|2013-06-05 00:00:00|    28.638000099999996|    2.8769999999999993|\n",
            "|block_22|2013-08-26 00:00:00|    33.270999800000006|    2.6580000000000004|\n",
            "|block_22|2013-12-25 00:00:00|    35.122999799999995|     3.095000000000001|\n",
            "|block_22|2013-12-26 00:00:00|     36.13499980000001|    2.9950000000000006|\n",
            "|block_22|2014-01-01 00:00:00|     44.86800000000002|     4.196000000000001|\n",
            "|block_35|2012-02-01 00:00:00|                 4.819|                 0.399|\n",
            "|block_35|2012-04-06 00:00:00|             5.6809998|   0.45300000000000007|\n",
            "+--------+-------------------+----------------------+----------------------+\n",
            "only showing top 20 rows\n",
            "\n"
          ]
        }
      ]
    },
    {
      "cell_type": "markdown",
      "source": [
        "**MAX and MIN energy consumption on other than bank holidays**"
      ],
      "metadata": {
        "id": "8DL4NFN009vW"
      }
    },
    {
      "cell_type": "code",
      "source": [
        "spark.sql('''SELECT \n",
        "                    information_df.file, daily_df.day,\n",
        "                    SUM(daily_df.energy_max) AS MAX_Energy_Consumption,\n",
        "                    SUM(daily_df.energy_min) AS MIN_Energy_Consumption\n",
        "                FROM holidays_df\n",
        "                FULL JOIN daily_df\n",
        "                  ON holidays_df.`Bank holidays` = daily_df.day\n",
        "                JOIN information_df\n",
        "                  ON daily_df.LCLid = information_df.LCLid\n",
        "               WHERE holidays_df.`Bank holidays` IS NULL\n",
        "            GROUP BY information_df.file, daily_df.day\n",
        "            ORDER BY information_df.file, daily_df.day\n",
        "              \n",
        "               ''').show()"
      ],
      "metadata": {
        "colab": {
          "base_uri": "https://localhost:8080/"
        },
        "id": "2sSMMRmCscy8",
        "outputId": "b0cdeeef-1068-4293-f119-1b023f486365"
      },
      "execution_count": 17,
      "outputs": [
        {
          "output_type": "stream",
          "name": "stdout",
          "text": [
            "+--------+-------------------+----------------------+----------------------+\n",
            "|    file|                day|MAX_Energy_Consumption|MIN_Energy_Consumption|\n",
            "+--------+-------------------+----------------------+----------------------+\n",
            "|block_22|2011-12-01 00:00:00|             6.1259999|                  0.44|\n",
            "|block_22|2011-12-02 00:00:00|                 4.193|   0.31100000000000005|\n",
            "|block_22|2011-12-03 00:00:00|     4.851999999999999|                 0.246|\n",
            "|block_22|2011-12-04 00:00:00|                 4.768|                 0.259|\n",
            "|block_22|2011-12-05 00:00:00|             4.7189999|   0.23700000000000002|\n",
            "|block_22|2011-12-06 00:00:00|                  3.71|   0.23500000000000001|\n",
            "|block_22|2011-12-07 00:00:00|                 3.327|   0.21300000000000002|\n",
            "|block_22|2011-12-08 00:00:00|    4.2850000999999995|   0.29500000000000004|\n",
            "|block_22|2011-12-09 00:00:00|    3.7210000999999995|                 0.269|\n",
            "|block_22|2011-12-10 00:00:00|    3.4830000000000005|                 0.241|\n",
            "|block_22|2011-12-11 00:00:00|                 4.984|                 0.246|\n",
            "|block_22|2011-12-12 00:00:00|                 4.349|   0.23900000000000002|\n",
            "|block_22|2011-12-13 00:00:00|             4.0399999|                 0.215|\n",
            "|block_22|2011-12-14 00:00:00|             4.5239999|                 0.223|\n",
            "|block_22|2011-12-15 00:00:00|     9.065999999999999|                 0.386|\n",
            "|block_22|2011-12-16 00:00:00|    7.9510003000000005|                 0.305|\n",
            "|block_22|2011-12-17 00:00:00|                 6.677|                 0.331|\n",
            "|block_22|2011-12-18 00:00:00|     6.657000099999999|                 0.356|\n",
            "|block_22|2011-12-19 00:00:00|             8.5929999|                 0.506|\n",
            "|block_22|2011-12-20 00:00:00|             6.7639999|   0.44899999999999995|\n",
            "+--------+-------------------+----------------------+----------------------+\n",
            "only showing top 20 rows\n",
            "\n"
          ]
        }
      ]
    },
    {
      "cell_type": "code",
      "source": [],
      "metadata": {
        "id": "qLrLkDYeDs9Q"
      },
      "execution_count": 17,
      "outputs": []
    },
    {
      "cell_type": "code",
      "source": [
        "spark.sql(''' SELECT\n",
        "                     energy_count,\n",
        "                     RANK() OVER(ORDER BY energy_count) AS rank_no\n",
        "                FROM daily_df\n",
        "               GROUP BY energy_count''').show()"
      ],
      "metadata": {
        "colab": {
          "base_uri": "https://localhost:8080/"
        },
        "id": "HFYkoOZYEojN",
        "outputId": "2ace4ac4-7f70-4854-e40b-9ecaab3e8585"
      },
      "execution_count": 18,
      "outputs": [
        {
          "output_type": "stream",
          "name": "stdout",
          "text": [
            "+------------+-------+\n",
            "|energy_count|rank_no|\n",
            "+------------+-------+\n",
            "|           0|      1|\n",
            "|           1|      2|\n",
            "|           9|      3|\n",
            "|          18|      4|\n",
            "|          19|      5|\n",
            "|          20|      6|\n",
            "|          21|      7|\n",
            "|          22|      8|\n",
            "|          23|      9|\n",
            "|          24|     10|\n",
            "|          25|     11|\n",
            "|          26|     12|\n",
            "|          27|     13|\n",
            "|          28|     14|\n",
            "|          29|     15|\n",
            "|          30|     16|\n",
            "|          31|     17|\n",
            "|          32|     18|\n",
            "|          33|     19|\n",
            "|          34|     20|\n",
            "+------------+-------+\n",
            "only showing top 20 rows\n",
            "\n"
          ]
        }
      ]
    },
    {
      "cell_type": "code",
      "source": [
        "spark.sql(''' SELECT \n",
        "                    LCLid, energy_max,\n",
        "                    YEAR(day) AS year\n",
        "              FROM daily_df\n",
        "                      ''').show()"
      ],
      "metadata": {
        "id": "aQKmXW5XI2QM",
        "colab": {
          "base_uri": "https://localhost:8080/"
        },
        "outputId": "01e761bc-d5b3-4d4e-e4bf-50bfcff9312a"
      },
      "execution_count": 19,
      "outputs": [
        {
          "output_type": "stream",
          "name": "stdout",
          "text": [
            "+---------+------------------+----+\n",
            "|    LCLid|        energy_max|year|\n",
            "+---------+------------------+----+\n",
            "|MAC000131|             0.868|2011|\n",
            "|MAC000131|         1.1160001|2011|\n",
            "|MAC000131|             0.685|2011|\n",
            "|MAC000131|0.6759999999999999|2011|\n",
            "|MAC000131|0.7879999999999999|2011|\n",
            "|MAC000131|             1.077|2011|\n",
            "|MAC000131|             0.705|2011|\n",
            "|MAC000131|             1.094|2011|\n",
            "|MAC000131|0.7490000000000001|2011|\n",
            "|MAC000131|             0.613|2011|\n",
            "|MAC000131|             0.866|2011|\n",
            "|MAC000131|             0.838|2011|\n",
            "|MAC000131|             0.778|2011|\n",
            "|MAC000131|             1.207|2011|\n",
            "|MAC000131|             0.888|2011|\n",
            "|MAC000131|             0.782|2011|\n",
            "|MAC000131|             1.252|2011|\n",
            "|MAC000131|             0.812|2012|\n",
            "|MAC000131|             0.851|2012|\n",
            "|MAC000131|             0.674|2012|\n",
            "+---------+------------------+----+\n",
            "only showing top 20 rows\n",
            "\n"
          ]
        }
      ]
    },
    {
      "cell_type": "code",
      "source": [
        "spark.sql('''SELECT \n",
        "                  information_df.file,\n",
        "                  YEAR(daily_df.day) AS year,\n",
        "                  SUM(daily_df.energy_max) AS MAX_Energy_Consumption\n",
        "              FROM daily_df\n",
        "              INNER JOIN information_df\n",
        "              ON daily_df.LCLid = information_df.LCLid\n",
        "              GROUP BY\n",
        "                  information_df.file,\n",
        "                  year\n",
        "              ORDER BY\n",
        "                  information_df.file,\n",
        "                  year \n",
        "              ''').show()"
      ],
      "metadata": {
        "colab": {
          "base_uri": "https://localhost:8080/"
        },
        "id": "6i62wjFK7_0o",
        "outputId": "4382e760-2b30-4675-e670-4af821d26e2f"
      },
      "execution_count": 20,
      "outputs": [
        {
          "output_type": "stream",
          "name": "stdout",
          "text": [
            "+--------+----+----------------------+\n",
            "|    file|year|MAX_Energy_Consumption|\n",
            "+--------+----+----------------------+\n",
            "|block_22|2011|    346.56800120000014|\n",
            "|block_22|2012|    12380.234003999913|\n",
            "|block_22|2013|    15652.722000600028|\n",
            "|block_22|2014|     2444.125000400005|\n",
            "|block_35|2011|    126.26499970000003|\n",
            "|block_35|2012|     2229.221001599999|\n",
            "|block_35|2013|     1871.591001900004|\n",
            "|block_35|2014|     297.2150002999998|\n",
            "|block_36|2011|    197.44900089999993|\n",
            "|block_36|2012|    10185.997996999997|\n",
            "|block_36|2013|    14123.765999900002|\n",
            "|block_36|2014|     2443.551000899998|\n",
            "|block_52|2011|    34.078000100000004|\n",
            "|block_52|2012|     8567.932999699973|\n",
            "|block_52|2013|    13567.974003399986|\n",
            "|block_52|2014|     2194.911998900001|\n",
            "|block_54|2011|     76.73699969999998|\n",
            "|block_54|2012|     9122.000000799984|\n",
            "|block_54|2013|     14649.40600229996|\n",
            "|block_54|2014|     2459.588999199998|\n",
            "+--------+----+----------------------+\n",
            "only showing top 20 rows\n",
            "\n"
          ]
        }
      ]
    },
    {
      "cell_type": "markdown",
      "source": [
        "**max energy consumption of each block for each year**"
      ],
      "metadata": {
        "id": "wkbQApBeBHNw"
      }
    },
    {
      "cell_type": "code",
      "source": [
        "spark.sql('''SELECT \n",
        "                  information_df.file,\n",
        "                  MAX(daily_df.energy_max) AS MAX_Energy_Consumption,\n",
        "                  YEAR(daily_df.day) AS year\n",
        "              FROM daily_df\n",
        "              INNER JOIN information_df\n",
        "              ON daily_df.LCLid = information_df.LCLid\n",
        "              GROUP BY\n",
        "                  information_df.file,\n",
        "                  year\n",
        "              ORDER BY\n",
        "                  information_df.file,\n",
        "                  MAX_Energy_Consumption DESC\n",
        "              ''').show()"
      ],
      "metadata": {
        "colab": {
          "base_uri": "https://localhost:8080/"
        },
        "id": "sV9xy_B_9M5o",
        "outputId": "a0e8da34-f1b9-45c6-d9f4-7d612f2ca6cf"
      },
      "execution_count": 21,
      "outputs": [
        {
          "output_type": "stream",
          "name": "stdout",
          "text": [
            "+--------+----------------------+----+\n",
            "|    file|MAX_Energy_Consumption|year|\n",
            "+--------+----------------------+----+\n",
            "|block_22|             5.7490001|2013|\n",
            "|block_22|             5.4320002|2012|\n",
            "|block_22|             4.6680002|2014|\n",
            "|block_22|             4.4559999|2011|\n",
            "|block_35|             6.6999998|2012|\n",
            "|block_35|                 6.171|2013|\n",
            "|block_35|             4.6259999|2011|\n",
            "|block_35|             4.5619998|2014|\n",
            "|block_36|             6.5279999|2013|\n",
            "|block_36|             6.5100002|2014|\n",
            "|block_36|                 6.395|2012|\n",
            "|block_36|                 4.829|2011|\n",
            "|block_52|                 4.836|2013|\n",
            "|block_52|             4.6799998|2014|\n",
            "|block_52|                 4.605|2012|\n",
            "|block_52|                 1.596|2011|\n",
            "|block_54|    5.0209999000000005|2013|\n",
            "|block_54|             4.6719999|2012|\n",
            "|block_54|             3.8789999|2014|\n",
            "|block_54|                 2.513|2011|\n",
            "+--------+----------------------+----+\n",
            "only showing top 20 rows\n",
            "\n"
          ]
        }
      ]
    },
    {
      "cell_type": "code",
      "source": [
        "max_energy_df = spark.sql('''SELECT\n",
        "                  ROW_NUMBER()OVER(PARTITION BY information_df.file ORDER BY MAX(daily_df.energy_max) DESC) as sr_no,\n",
        "                  information_df.file,\n",
        "                  MAX(daily_df.energy_max) AS MAX_Energy_Consumption,\n",
        "                  YEAR(daily_df.day) AS year\n",
        "              FROM daily_df\n",
        "              INNER JOIN information_df\n",
        "              ON daily_df.LCLid = information_df.LCLid\n",
        "              GROUP BY\n",
        "                  information_df.file,\n",
        "                  year\n",
        "              ORDER BY\n",
        "                  information_df.file,\n",
        "                  MAX_Energy_Consumption DESC\n",
        "              ''')\n",
        "\n",
        "max_energy_df.createOrReplaceTempView('max_energy_df')\n",
        "\n",
        "max_energy_df.filter('sr_no =\"1\"').show()"
      ],
      "metadata": {
        "id": "h2_5kgk8mc9l",
        "colab": {
          "base_uri": "https://localhost:8080/"
        },
        "outputId": "e8c97c00-a105-4219-9788-0dae281e72a4"
      },
      "execution_count": 22,
      "outputs": [
        {
          "output_type": "stream",
          "name": "stdout",
          "text": [
            "+-----+--------+----------------------+----+\n",
            "|sr_no|    file|MAX_Energy_Consumption|year|\n",
            "+-----+--------+----------------------+----+\n",
            "|    1|block_22|             5.7490001|2013|\n",
            "|    1|block_35|             6.6999998|2012|\n",
            "|    1|block_36|             6.5279999|2013|\n",
            "|    1|block_52|                 4.836|2013|\n",
            "|    1|block_54|    5.0209999000000005|2013|\n",
            "|    1|block_62|             4.1890001|2013|\n",
            "|    1|block_70|    4.2309999000000005|2013|\n",
            "|    1|block_76|             6.3920002|2014|\n",
            "|    1|block_87|             5.6430001|2013|\n",
            "|    1|block_92|             4.9850001|2013|\n",
            "|    1|block_96|             4.4899998|2012|\n",
            "+-----+--------+----------------------+----+\n",
            "\n"
          ]
        }
      ]
    },
    {
      "cell_type": "code",
      "source": [
        "halfH_df = spark.read.csv('/content/half_hourly_dataset', header=True, inferSchema=True)\n",
        "halfH_df.show(5)"
      ],
      "metadata": {
        "id": "CBlKbSNrqKWm",
        "colab": {
          "base_uri": "https://localhost:8080/"
        },
        "outputId": "08075251-e063-44e3-8c45-544ecef1619b"
      },
      "execution_count": 23,
      "outputs": [
        {
          "output_type": "stream",
          "name": "stdout",
          "text": [
            "+---------+--------------------+--------------+\n",
            "|    LCLid|                tstp|energy(kWh/hh)|\n",
            "+---------+--------------------+--------------+\n",
            "|MAC000002|2012-10-12 00:30:...|            0 |\n",
            "|MAC000002|2012-10-12 01:00:...|            0 |\n",
            "|MAC000002|2012-10-12 01:30:...|            0 |\n",
            "|MAC000002|2012-10-12 02:00:...|            0 |\n",
            "|MAC000002|2012-10-12 02:30:...|            0 |\n",
            "+---------+--------------------+--------------+\n",
            "only showing top 5 rows\n",
            "\n"
          ]
        }
      ]
    },
    {
      "cell_type": "code",
      "source": [
        "weather_hourly_df.show(5)"
      ],
      "metadata": {
        "colab": {
          "base_uri": "https://localhost:8080/"
        },
        "id": "d9h6pLdx0Cn-",
        "outputId": "57fc46f5-2969-447a-8917-aa08445f2fda"
      },
      "execution_count": 24,
      "outputs": [
        {
          "output_type": "stream",
          "name": "stdout",
          "text": [
            "+----------+-----------+-----------+-------------------+--------+--------+-------------------+---------+----------+-------------------+--------+-------------+\n",
            "|visibility|windBearing|temperature|               time|dewPoint|pressure|apparentTemperature|windSpeed|precipType|               icon|humidity|      summary|\n",
            "+----------+-----------+-----------+-------------------+--------+--------+-------------------+---------+----------+-------------------+--------+-------------+\n",
            "|      5.97|        104|      10.24|2011-11-11 00:00:00|    8.86| 1016.76|              10.24|     2.77|      rain|partly-cloudy-night|    0.91|Partly Cloudy|\n",
            "|      4.88|         99|       9.76|2011-11-11 01:00:00|    8.83| 1016.63|               8.24|     2.95|      rain|partly-cloudy-night|    0.94|Partly Cloudy|\n",
            "|       3.7|         98|       9.46|2011-11-11 02:00:00|    8.79| 1016.36|               7.76|     3.17|      rain|partly-cloudy-night|    0.96|Partly Cloudy|\n",
            "|      3.12|         99|       9.23|2011-11-11 03:00:00|    8.63| 1016.28|               7.44|     3.25|      rain|                fog|    0.96|        Foggy|\n",
            "|      1.85|        111|       9.26|2011-11-11 04:00:00|    9.21| 1015.98|               7.24|      3.7|      rain|                fog|     1.0|        Foggy|\n",
            "+----------+-----------+-----------+-------------------+--------+--------+-------------------+---------+----------+-------------------+--------+-------------+\n",
            "only showing top 5 rows\n",
            "\n"
          ]
        }
      ]
    },
    {
      "cell_type": "code",
      "source": [
        "weather_hourly_df.describe().show()"
      ],
      "metadata": {
        "colab": {
          "base_uri": "https://localhost:8080/"
        },
        "id": "dgb1XHzK1_eG",
        "outputId": "49a4a655-3475-49fe-cc8e-aed79a8484ef"
      },
      "execution_count": 25,
      "outputs": [
        {
          "output_type": "stream",
          "name": "stdout",
          "text": [
            "+-------+------------------+------------------+-----------------+-----------------+------------------+-------------------+------------------+----------+---------+-------------------+--------------------+\n",
            "|summary|        visibility|       windBearing|      temperature|         dewPoint|          pressure|apparentTemperature|         windSpeed|precipType|     icon|           humidity|             summary|\n",
            "+-------+------------------+------------------+-----------------+-----------------+------------------+-------------------+------------------+----------+---------+-------------------+--------------------+\n",
            "|  count|             21165|             21165|            21165|            21165|             21152|              21165|             21165|     21165|    21165|              21165|               21165|\n",
            "|   mean|11.166485235058063|195.68589652728562|10.47148594377513|6.530501299314915|1014.1251527042363|   9.23033782187569|3.9052152137963905|      null|     null| 0.7818294353886075|                null|\n",
            "| stddev|3.0993367185123852|  90.6294531658618|5.781903926139482|5.041965163443213|11.388337117086296|   6.94091860704672| 2.026853948370247|      null|     null|0.14036853178220704|                null|\n",
            "|    min|              0.18|                 0|            -5.64|            -9.98|            975.74|              -8.88|              0.04|      rain|clear-day|               0.23|              Breezy|\n",
            "|    max|             16.09|               359|             32.4|            19.88|           1043.32|              32.42|              14.8|      snow|     wind|                1.0|Windy and Partly ...|\n",
            "+-------+------------------+------------------+-----------------+-----------------+------------------+-------------------+------------------+----------+---------+-------------------+--------------------+\n",
            "\n"
          ]
        }
      ]
    },
    {
      "cell_type": "code",
      "source": [
        "weather_hourly_df.groupby('icon').count().show()"
      ],
      "metadata": {
        "colab": {
          "base_uri": "https://localhost:8080/"
        },
        "id": "DU-JGMAd6ODR",
        "outputId": "8f553c9c-8d0b-4b9f-9858-2d1490f30fb9"
      },
      "execution_count": 26,
      "outputs": [
        {
          "output_type": "stream",
          "name": "stdout",
          "text": [
            "+-------------------+-----+\n",
            "|               icon|count|\n",
            "+-------------------+-----+\n",
            "|                fog|  693|\n",
            "|  partly-cloudy-day| 7658|\n",
            "|          clear-day| 1110|\n",
            "|             cloudy|  979|\n",
            "|        clear-night| 4661|\n",
            "|               wind|  989|\n",
            "|partly-cloudy-night| 5075|\n",
            "+-------------------+-----+\n",
            "\n"
          ]
        }
      ]
    },
    {
      "cell_type": "code",
      "source": [
        "weather_hourly_df.groupby('summary').count().show()"
      ],
      "metadata": {
        "colab": {
          "base_uri": "https://localhost:8080/"
        },
        "id": "J3W7_Nxt6b9Q",
        "outputId": "1ca9f1d6-dcf5-4a61-eb2c-7254f24bc6a9"
      },
      "execution_count": 27,
      "outputs": [
        {
          "output_type": "stream",
          "name": "stdout",
          "text": [
            "+--------------------+-----+\n",
            "|             summary|count|\n",
            "+--------------------+-----+\n",
            "|              Breezy|  195|\n",
            "|  Windy and Overcast|    9|\n",
            "|               Foggy|  693|\n",
            "|Breezy and Partly...|  267|\n",
            "|       Partly Cloudy| 6638|\n",
            "|               Clear| 5771|\n",
            "|       Mostly Cloudy| 6095|\n",
            "| Breezy and Overcast|   83|\n",
            "|Breezy and Mostly...|  385|\n",
            "|Windy and Partly ...|    3|\n",
            "|               Windy|   18|\n",
            "|Windy and Mostly ...|   29|\n",
            "|            Overcast|  979|\n",
            "+--------------------+-----+\n",
            "\n"
          ]
        }
      ]
    },
    {
      "cell_type": "code",
      "source": [
        "weather_hourly_df.groupby('precipType').count().show()"
      ],
      "metadata": {
        "colab": {
          "base_uri": "https://localhost:8080/"
        },
        "id": "UUTOGulpH6ol",
        "outputId": "aad91c87-21e2-44a4-cec9-531af3bcfded"
      },
      "execution_count": 28,
      "outputs": [
        {
          "output_type": "stream",
          "name": "stdout",
          "text": [
            "+----------+-----+\n",
            "|precipType|count|\n",
            "+----------+-----+\n",
            "|      rain|20370|\n",
            "|      snow|  795|\n",
            "+----------+-----+\n",
            "\n"
          ]
        }
      ]
    },
    {
      "cell_type": "code",
      "source": [
        "hh_energy_consumption_df = weather_hourly_df.withColumn('day_time',date_format('time', 'HH:mm:ss'))\n",
        "hh_energy_consumption_df = hh_energy_consumption_df.withColumn('date',date_format(col('time'),\"yyyy-MM-dd\"))\n",
        "hh_energy_consumption_df = hh_energy_consumption_df.drop('time')\n",
        "hh_energy_consumption_df.show()\n",
        "#hh_energy_consumption_df.createOrReplaceTempView('hh_energy_consumption_df')"
      ],
      "metadata": {
        "colab": {
          "base_uri": "https://localhost:8080/"
        },
        "id": "nWcesQ9WKmoG",
        "outputId": "0bafcbcd-8a0c-4d12-cc2d-680e6ef4fb70"
      },
      "execution_count": 29,
      "outputs": [
        {
          "output_type": "stream",
          "name": "stdout",
          "text": [
            "+----------+-----------+-----------+--------+--------+-------------------+---------+----------+-------------------+--------+-------------+--------+----------+\n",
            "|visibility|windBearing|temperature|dewPoint|pressure|apparentTemperature|windSpeed|precipType|               icon|humidity|      summary|day_time|      date|\n",
            "+----------+-----------+-----------+--------+--------+-------------------+---------+----------+-------------------+--------+-------------+--------+----------+\n",
            "|      5.97|        104|      10.24|    8.86| 1016.76|              10.24|     2.77|      rain|partly-cloudy-night|    0.91|Partly Cloudy|00:00:00|2011-11-11|\n",
            "|      4.88|         99|       9.76|    8.83| 1016.63|               8.24|     2.95|      rain|partly-cloudy-night|    0.94|Partly Cloudy|01:00:00|2011-11-11|\n",
            "|       3.7|         98|       9.46|    8.79| 1016.36|               7.76|     3.17|      rain|partly-cloudy-night|    0.96|Partly Cloudy|02:00:00|2011-11-11|\n",
            "|      3.12|         99|       9.23|    8.63| 1016.28|               7.44|     3.25|      rain|                fog|    0.96|        Foggy|03:00:00|2011-11-11|\n",
            "|      1.85|        111|       9.26|    9.21| 1015.98|               7.24|      3.7|      rain|                fog|     1.0|        Foggy|04:00:00|2011-11-11|\n",
            "|      1.96|        115|       9.33|    8.87| 1015.91|               7.19|     3.97|      rain|                fog|    0.97|        Foggy|05:00:00|2011-11-11|\n",
            "|       1.3|        118|       9.31|    8.82|  1015.7|                7.1|      4.1|      rain|                fog|    0.97|        Foggy|06:00:00|2011-11-11|\n",
            "|      1.22|        114|       8.85|    8.69| 1016.08|               6.48|     4.23|      rain|                fog|    0.99|        Foggy|07:00:00|2011-11-11|\n",
            "|       1.4|        120|       9.13|    8.75| 1016.33|               6.84|      4.2|      rain|                fog|    0.97|        Foggy|08:00:00|2011-11-11|\n",
            "|      1.38|        121|       9.23|     8.7| 1016.57|               7.07|     3.96|      rain|                fog|    0.97|        Foggy|09:00:00|2011-11-11|\n",
            "|      1.35|        115|       9.21|    8.76| 1016.26|               6.96|     4.16|      rain|                fog|    0.97|        Foggy|10:00:00|2011-11-11|\n",
            "|      1.72|        127|       9.78|    9.23| 1016.17|               7.68|     4.14|      rain|                fog|    0.96|        Foggy|11:00:00|2011-11-11|\n",
            "|      1.83|        129|       9.91|    9.34| 1015.92|               7.91|     3.97|      rain|                fog|    0.96|        Foggy|12:00:00|2011-11-11|\n",
            "|      2.53|        120|      10.22|    9.73| 1015.49|              10.22|     4.25|      rain|                fog|    0.97|        Foggy|13:00:00|2011-11-11|\n",
            "|      3.67|        122|      10.63|    9.73|  1015.1|              10.63|     4.28|      rain|  partly-cloudy-day|    0.94|Mostly Cloudy|14:00:00|2011-11-11|\n",
            "|      3.77|        126|      10.34|     9.7| 1015.32|              10.34|      4.3|      rain|  partly-cloudy-day|    0.96|Mostly Cloudy|15:00:00|2011-11-11|\n",
            "|      3.99|        121|      10.31|    9.66| 1015.13|              10.31|      4.8|      rain|  partly-cloudy-day|    0.96|Mostly Cloudy|16:00:00|2011-11-11|\n",
            "|      4.02|        129|      10.39|    9.73| 1015.41|              10.39|     4.13|      rain|partly-cloudy-night|    0.96|Mostly Cloudy|17:00:00|2011-11-11|\n",
            "|      4.17|        130|      10.79|    9.79| 1015.62|              10.79|     4.41|      rain|partly-cloudy-night|    0.94|Mostly Cloudy|18:00:00|2011-11-11|\n",
            "|      4.36|        136|      10.87|    9.86| 1015.91|              10.87|     4.69|      rain|partly-cloudy-night|    0.94|Mostly Cloudy|19:00:00|2011-11-11|\n",
            "+----------+-----------+-----------+--------+--------+-------------------+---------+----------+-------------------+--------+-------------+--------+----------+\n",
            "only showing top 20 rows\n",
            "\n"
          ]
        }
      ]
    },
    {
      "cell_type": "code",
      "source": [
        "col_list = weather_hourly_df.columns\n",
        "print(col_list)\n",
        "list_1 = ['visibility', 'windBearing', 'temperature', 'dewPoint', 'pressure', 'apparentTemperature', 'windSpeed', 'precipType', 'icon', 'humidity', 'summary']\n",
        "weather_hourly_df.select([count(when(isnan(c),c)).alias(c) for c in list_1]).toPandas()"
      ],
      "metadata": {
        "colab": {
          "base_uri": "https://localhost:8080/",
          "height": 98
        },
        "id": "REIZjIRQThrv",
        "outputId": "6248e093-c909-44f7-d305-20d23107c6fd"
      },
      "execution_count": 30,
      "outputs": [
        {
          "output_type": "stream",
          "name": "stdout",
          "text": [
            "['visibility', 'windBearing', 'temperature', 'time', 'dewPoint', 'pressure', 'apparentTemperature', 'windSpeed', 'precipType', 'icon', 'humidity', 'summary']\n"
          ]
        },
        {
          "output_type": "execute_result",
          "data": {
            "text/plain": [
              "   visibility  windBearing  temperature  dewPoint  pressure  \\\n",
              "0           0            0            0         0         0   \n",
              "\n",
              "   apparentTemperature  windSpeed  precipType  icon  humidity  summary  \n",
              "0                    0          0           0     0         0        0  "
            ],
            "text/html": [
              "\n",
              "  <div id=\"df-a1fb95af-30cd-4021-825b-b7a0be1abf91\">\n",
              "    <div class=\"colab-df-container\">\n",
              "      <div>\n",
              "<style scoped>\n",
              "    .dataframe tbody tr th:only-of-type {\n",
              "        vertical-align: middle;\n",
              "    }\n",
              "\n",
              "    .dataframe tbody tr th {\n",
              "        vertical-align: top;\n",
              "    }\n",
              "\n",
              "    .dataframe thead th {\n",
              "        text-align: right;\n",
              "    }\n",
              "</style>\n",
              "<table border=\"1\" class=\"dataframe\">\n",
              "  <thead>\n",
              "    <tr style=\"text-align: right;\">\n",
              "      <th></th>\n",
              "      <th>visibility</th>\n",
              "      <th>windBearing</th>\n",
              "      <th>temperature</th>\n",
              "      <th>dewPoint</th>\n",
              "      <th>pressure</th>\n",
              "      <th>apparentTemperature</th>\n",
              "      <th>windSpeed</th>\n",
              "      <th>precipType</th>\n",
              "      <th>icon</th>\n",
              "      <th>humidity</th>\n",
              "      <th>summary</th>\n",
              "    </tr>\n",
              "  </thead>\n",
              "  <tbody>\n",
              "    <tr>\n",
              "      <th>0</th>\n",
              "      <td>0</td>\n",
              "      <td>0</td>\n",
              "      <td>0</td>\n",
              "      <td>0</td>\n",
              "      <td>0</td>\n",
              "      <td>0</td>\n",
              "      <td>0</td>\n",
              "      <td>0</td>\n",
              "      <td>0</td>\n",
              "      <td>0</td>\n",
              "      <td>0</td>\n",
              "    </tr>\n",
              "  </tbody>\n",
              "</table>\n",
              "</div>\n",
              "      <button class=\"colab-df-convert\" onclick=\"convertToInteractive('df-a1fb95af-30cd-4021-825b-b7a0be1abf91')\"\n",
              "              title=\"Convert this dataframe to an interactive table.\"\n",
              "              style=\"display:none;\">\n",
              "        \n",
              "  <svg xmlns=\"http://www.w3.org/2000/svg\" height=\"24px\"viewBox=\"0 0 24 24\"\n",
              "       width=\"24px\">\n",
              "    <path d=\"M0 0h24v24H0V0z\" fill=\"none\"/>\n",
              "    <path d=\"M18.56 5.44l.94 2.06.94-2.06 2.06-.94-2.06-.94-.94-2.06-.94 2.06-2.06.94zm-11 1L8.5 8.5l.94-2.06 2.06-.94-2.06-.94L8.5 2.5l-.94 2.06-2.06.94zm10 10l.94 2.06.94-2.06 2.06-.94-2.06-.94-.94-2.06-.94 2.06-2.06.94z\"/><path d=\"M17.41 7.96l-1.37-1.37c-.4-.4-.92-.59-1.43-.59-.52 0-1.04.2-1.43.59L10.3 9.45l-7.72 7.72c-.78.78-.78 2.05 0 2.83L4 21.41c.39.39.9.59 1.41.59.51 0 1.02-.2 1.41-.59l7.78-7.78 2.81-2.81c.8-.78.8-2.07 0-2.86zM5.41 20L4 18.59l7.72-7.72 1.47 1.35L5.41 20z\"/>\n",
              "  </svg>\n",
              "      </button>\n",
              "      \n",
              "  <style>\n",
              "    .colab-df-container {\n",
              "      display:flex;\n",
              "      flex-wrap:wrap;\n",
              "      gap: 12px;\n",
              "    }\n",
              "\n",
              "    .colab-df-convert {\n",
              "      background-color: #E8F0FE;\n",
              "      border: none;\n",
              "      border-radius: 50%;\n",
              "      cursor: pointer;\n",
              "      display: none;\n",
              "      fill: #1967D2;\n",
              "      height: 32px;\n",
              "      padding: 0 0 0 0;\n",
              "      width: 32px;\n",
              "    }\n",
              "\n",
              "    .colab-df-convert:hover {\n",
              "      background-color: #E2EBFA;\n",
              "      box-shadow: 0px 1px 2px rgba(60, 64, 67, 0.3), 0px 1px 3px 1px rgba(60, 64, 67, 0.15);\n",
              "      fill: #174EA6;\n",
              "    }\n",
              "\n",
              "    [theme=dark] .colab-df-convert {\n",
              "      background-color: #3B4455;\n",
              "      fill: #D2E3FC;\n",
              "    }\n",
              "\n",
              "    [theme=dark] .colab-df-convert:hover {\n",
              "      background-color: #434B5C;\n",
              "      box-shadow: 0px 1px 3px 1px rgba(0, 0, 0, 0.15);\n",
              "      filter: drop-shadow(0px 1px 2px rgba(0, 0, 0, 0.3));\n",
              "      fill: #FFFFFF;\n",
              "    }\n",
              "  </style>\n",
              "\n",
              "      <script>\n",
              "        const buttonEl =\n",
              "          document.querySelector('#df-a1fb95af-30cd-4021-825b-b7a0be1abf91 button.colab-df-convert');\n",
              "        buttonEl.style.display =\n",
              "          google.colab.kernel.accessAllowed ? 'block' : 'none';\n",
              "\n",
              "        async function convertToInteractive(key) {\n",
              "          const element = document.querySelector('#df-a1fb95af-30cd-4021-825b-b7a0be1abf91');\n",
              "          const dataTable =\n",
              "            await google.colab.kernel.invokeFunction('convertToInteractive',\n",
              "                                                     [key], {});\n",
              "          if (!dataTable) return;\n",
              "\n",
              "          const docLinkHtml = 'Like what you see? Visit the ' +\n",
              "            '<a target=\"_blank\" href=https://colab.research.google.com/notebooks/data_table.ipynb>data table notebook</a>'\n",
              "            + ' to learn more about interactive tables.';\n",
              "          element.innerHTML = '';\n",
              "          dataTable['output_type'] = 'display_data';\n",
              "          await google.colab.output.renderOutput(dataTable, element);\n",
              "          const docLink = document.createElement('div');\n",
              "          docLink.innerHTML = docLinkHtml;\n",
              "          element.appendChild(docLink);\n",
              "        }\n",
              "      </script>\n",
              "    </div>\n",
              "  </div>\n",
              "  "
            ]
          },
          "metadata": {},
          "execution_count": 30
        }
      ]
    },
    {
      "cell_type": "code",
      "source": [
        "halfH_df_1 = halfH_df.withColumn('time',date_format('tstp', 'HH:mm:ss'))\n",
        "halfH_df_1 = halfH_df_1.withColumn('date',date_format(col('tstp'),\"yyyy-MM-dd\"))\n",
        "halfH_df_1 = halfH_df_1.withColumnRenamed('energy(kWh/hh)', 'energy')\n",
        "halfH_df_1 = halfH_df_1.drop('tstp')\n",
        "halfH_df_1.show(5)\n",
        "halfH_df_1.createOrReplaceTempView('halfH_df_1')"
      ],
      "metadata": {
        "colab": {
          "base_uri": "https://localhost:8080/"
        },
        "id": "t0ugS-EET1gN",
        "outputId": "fcabe659-6256-40b9-8d3b-4f957cb43beb"
      },
      "execution_count": 31,
      "outputs": [
        {
          "output_type": "stream",
          "name": "stdout",
          "text": [
            "+---------+------+--------+----------+\n",
            "|    LCLid|energy|    time|      date|\n",
            "+---------+------+--------+----------+\n",
            "|MAC000002|    0 |00:30:00|2012-10-12|\n",
            "|MAC000002|    0 |01:00:00|2012-10-12|\n",
            "|MAC000002|    0 |01:30:00|2012-10-12|\n",
            "|MAC000002|    0 |02:00:00|2012-10-12|\n",
            "|MAC000002|    0 |02:30:00|2012-10-12|\n",
            "+---------+------+--------+----------+\n",
            "only showing top 5 rows\n",
            "\n"
          ]
        }
      ]
    },
    {
      "cell_type": "code",
      "source": [
        "half_hourly_df = spark.sql(''' SELECT\n",
        "                                  halfH_df_1.LCLid,\n",
        "                                  halfH_df_1.energy,\n",
        "                                  halfH_df_1.time,\n",
        "                                  halfH_df_1.date,\n",
        "                                  information_df.file\n",
        "                               FROM halfH_df_1\n",
        "                               INNER JOIN information_df\n",
        "                               ON halfH_df_1.LCLid = information_df.LCLid\n",
        "                            ''')\n",
        "\n",
        "half_hourly_df.createOrReplaceTempView('half_hourly_df')"
      ],
      "metadata": {
        "id": "XqYBBH_PYRfO"
      },
      "execution_count": 32,
      "outputs": []
    },
    {
      "cell_type": "code",
      "source": [
        "half_hourly_df.show(5)"
      ],
      "metadata": {
        "colab": {
          "base_uri": "https://localhost:8080/"
        },
        "id": "jGPcgAbCZXNv",
        "outputId": "8ee8b648-595a-4554-e4c7-aaf6059c41f3"
      },
      "execution_count": 33,
      "outputs": [
        {
          "output_type": "stream",
          "name": "stdout",
          "text": [
            "+---------+------+--------+----------+-------+\n",
            "|    LCLid|energy|    time|      date|   file|\n",
            "+---------+------+--------+----------+-------+\n",
            "|MAC000002|    0 |00:30:00|2012-10-12|block_0|\n",
            "|MAC000002|    0 |01:00:00|2012-10-12|block_0|\n",
            "|MAC000002|    0 |01:30:00|2012-10-12|block_0|\n",
            "|MAC000002|    0 |02:00:00|2012-10-12|block_0|\n",
            "|MAC000002|    0 |02:30:00|2012-10-12|block_0|\n",
            "+---------+------+--------+----------+-------+\n",
            "only showing top 5 rows\n",
            "\n"
          ]
        }
      ]
    },
    {
      "cell_type": "markdown",
      "source": [
        "**peak hour energy consumption per day**"
      ],
      "metadata": {
        "id": "JYd2e9dTsttQ"
      }
    },
    {
      "cell_type": "code",
      "source": [
        "peak_hour_consumption = spark.sql(''' SELECT\n",
        "                                          file,\n",
        "                                          LCLid,\n",
        "                                          date,\n",
        "                                          SUM(energy) AS peak_hour_consumption\n",
        "                                      FROM half_hourly_df\n",
        "                                      WHERE time BETWEEN '09:00:00' AND '18:00:00'\n",
        "                                      GROUP BY \n",
        "                                          file,\n",
        "                                          LCLid,\n",
        "                                          date \n",
        "                                      ORDER BY \n",
        "                                          file DESC,\n",
        "                                          LCLid,\n",
        "                                          date''')\n",
        "\n",
        "peak_hour_consumption.createOrReplaceTempView('peak_hour_consumption')\n",
        "peak_hour_consumption.show()"
      ],
      "metadata": {
        "colab": {
          "base_uri": "https://localhost:8080/"
        },
        "id": "ONeUxYsqh0bM",
        "outputId": "1ef91a57-a140-485a-e2f5-bbbaef8b311d"
      },
      "execution_count": 35,
      "outputs": [
        {
          "output_type": "stream",
          "name": "stdout",
          "text": [
            "+-------+---------+----------+---------------------+\n",
            "|   file|    LCLid|      date|peak_hour_consumption|\n",
            "+-------+---------+----------+---------------------+\n",
            "|block_9|MAC000026|2011-12-07|                5.637|\n",
            "|block_9|MAC000026|2011-12-08|                 9.87|\n",
            "|block_9|MAC000026|2011-12-09|    6.033999999999999|\n",
            "|block_9|MAC000026|2011-12-10|   6.2780000000000005|\n",
            "|block_9|MAC000026|2011-12-11|   6.6690000000000005|\n",
            "|block_9|MAC000026|2011-12-12|               14.606|\n",
            "|block_9|MAC000026|2011-12-13|    9.150000000000002|\n",
            "|block_9|MAC000026|2011-12-14|   13.062999999999999|\n",
            "|block_9|MAC000026|2011-12-15|    9.768999999999998|\n",
            "|block_9|MAC000026|2011-12-16|               10.737|\n",
            "|block_9|MAC000026|2011-12-17|   7.1240000000000006|\n",
            "|block_9|MAC000026|2011-12-18|                7.772|\n",
            "|block_9|MAC000026|2011-12-19|                9.375|\n",
            "|block_9|MAC000026|2011-12-20|    5.679000099999999|\n",
            "|block_9|MAC000026|2011-12-21|                3.077|\n",
            "|block_9|MAC000026|2011-12-22|                2.805|\n",
            "|block_9|MAC000026|2011-12-23|   2.6029999999999998|\n",
            "|block_9|MAC000026|2011-12-24|                2.577|\n",
            "|block_9|MAC000026|2011-12-25|   2.6869999999999994|\n",
            "|block_9|MAC000026|2011-12-26|   2.8350000000000004|\n",
            "+-------+---------+----------+---------------------+\n",
            "only showing top 20 rows\n",
            "\n"
          ]
        }
      ]
    },
    {
      "cell_type": "markdown",
      "source": [
        "**peak hour energy consumption per month**"
      ],
      "metadata": {
        "id": "4hkLjsJls0xi"
      }
    },
    {
      "cell_type": "code",
      "source": [
        "spark.sql(''' SELECT\n",
        "                  file,\n",
        "                  LCLid,\n",
        "                  YEAR(date) AS year,\n",
        "                  EXTRACT(MONTH FROM date) AS month,\n",
        "                  AVG(peak_hour_consumption) AS avg_peak_hour_consumption_per_month,\n",
        "                  MAX(peak_hour_consumption) AS max_peak_hour_consumption_per_month,\n",
        "                  MIN(peak_hour_consumption) AS min_peak_hour_consumption_per_month\n",
        "              FROM peak_hour_consumption\n",
        "              GROUP BY \n",
        "                  file,\n",
        "                  LCLid,\n",
        "                  year,\n",
        "                  month\n",
        "              ORDER BY \n",
        "                  file DESC,\n",
        "                  LCLid,\n",
        "                  year,\n",
        "                  month''').show()"
      ],
      "metadata": {
        "colab": {
          "base_uri": "https://localhost:8080/"
        },
        "id": "gL3DMuN4dQLn",
        "outputId": "9864b451-b1c5-4a1e-e071-f1293f634b88"
      },
      "execution_count": 41,
      "outputs": [
        {
          "output_type": "stream",
          "name": "stdout",
          "text": [
            "+-------+---------+----+-----+-----------------------------------+-----------------------------------+-----------------------------------+\n",
            "|   file|    LCLid|year|month|avg_peak_hour_consumption_per_month|max_peak_hour_consumption_per_month|min_peak_hour_consumption_per_month|\n",
            "+-------+---------+----+-----+-----------------------------------+-----------------------------------+-----------------------------------+\n",
            "|block_9|MAC000026|2011|   12|                        6.069640004|                             14.606|                              2.539|\n",
            "|block_9|MAC000026|2012|    1|                 5.2895483903225795|                             11.083|                              2.485|\n",
            "|block_9|MAC000026|2012|    2|                  6.184103458620689|                         19.0400002|                 2.7530000000000006|\n",
            "|block_9|MAC000026|2012|    3|                  7.679774177419355|                         26.1049999|                              2.886|\n",
            "|block_9|MAC000026|2012|    4|                  7.089200006666667|                 14.162999899999994|                 2.8280000000000003|\n",
            "|block_9|MAC000026|2012|    5|                  5.104741935483872|                              9.463|                              2.855|\n",
            "|block_9|MAC000026|2012|    6|                  5.158133340000002|                 11.808000000000003|                              2.787|\n",
            "|block_9|MAC000026|2012|    7|                  5.074709683870966|                 12.510000000000002|                              2.798|\n",
            "|block_9|MAC000026|2012|    8|                  3.578129032258064|                          8.8429999|                 2.8040000000000003|\n",
            "|block_9|MAC000026|2012|    9|                  5.634099999999999|                 12.105999999999996|                              2.908|\n",
            "|block_9|MAC000026|2012|   10|                  6.515290332258067|                 13.904000100000003|                 2.9699999999999998|\n",
            "|block_9|MAC000026|2012|   11|                  7.024833343333333|                 11.329999999999998|                              2.568|\n",
            "|block_9|MAC000026|2012|   12|                  6.162290329032259|                              14.04|                              2.822|\n",
            "|block_9|MAC000026|2013|    1|                 4.7078387064516125|                 11.966000000000001|                              2.538|\n",
            "|block_9|MAC000026|2013|    2|                 5.3322856892857144|                 10.895999900000001|                 2.4070000000000005|\n",
            "|block_9|MAC000026|2013|    3|                   5.07254838387097|                         11.8449999|                 2.4100000000000006|\n",
            "|block_9|MAC000026|2013|    4|                  5.341033336666667|                               11.0|                              2.596|\n",
            "|block_9|MAC000026|2013|    5|                  5.731064519354837|                 12.396999899999999|                 2.6589999999999994|\n",
            "|block_9|MAC000026|2013|    6|                  5.196100000000001|                         10.0239998|                              2.583|\n",
            "|block_9|MAC000026|2013|    7|                  4.515548387096773|                 10.022999899999999|                 2.7159999999999993|\n",
            "+-------+---------+----+-----+-----------------------------------+-----------------------------------+-----------------------------------+\n",
            "only showing top 20 rows\n",
            "\n"
          ]
        }
      ]
    },
    {
      "cell_type": "markdown",
      "source": [
        "**peak hour energy consumption per year**"
      ],
      "metadata": {
        "id": "Osd29Q81xjj5"
      }
    },
    {
      "cell_type": "code",
      "source": [
        "spark.sql(''' SELECT\n",
        "                  file,\n",
        "                  LCLid,\n",
        "                  YEAR(date) as year,\n",
        "                  AVG(peak_hour_consumption) AS avg_peak_hour_consumption_per_year,\n",
        "                  MAX(peak_hour_consumption) AS max_peak_hour_consumption_per_month,\n",
        "                  MIN(peak_hour_consumption) AS min_peak_hour_consumption_per_month\n",
        "              FROM peak_hour_consumption\n",
        "              GROUP BY \n",
        "                  file,\n",
        "                  LCLid,\n",
        "                  year\n",
        "              ORDER BY \n",
        "                  file DESC,\n",
        "                  LCLid,\n",
        "                  year''').show()"
      ],
      "metadata": {
        "colab": {
          "base_uri": "https://localhost:8080/"
        },
        "id": "2mnrSlfdtEJ1",
        "outputId": "beae3eb1-979a-4fe8-8f36-4d3591ec5e42"
      },
      "execution_count": 42,
      "outputs": [
        {
          "output_type": "stream",
          "name": "stdout",
          "text": [
            "+-------+---------+----+----------------------------------+-----------------------------------+-----------------------------------+\n",
            "|   file|    LCLid|year|avg_peak_hour_consumption_per_year|max_peak_hour_consumption_per_month|min_peak_hour_consumption_per_month|\n",
            "+-------+---------+----+----------------------------------+-----------------------------------+-----------------------------------+\n",
            "|block_9|MAC000026|2011|                       6.069640004|                             14.606|                              2.539|\n",
            "|block_9|MAC000026|2012|                  5.86903279043716|                         26.1049999|                              2.485|\n",
            "|block_9|MAC000026|2013|                  5.33105479260274|                 13.760000099999997|                 2.4070000000000005|\n",
            "|block_9|MAC000026|2014|                 6.046534482758623|                         16.2480001|                              2.396|\n",
            "|block_9|MAC000052|2011|                 4.679458333333334|                 13.839999999999996|                 1.4169999999999998|\n",
            "|block_9|MAC000052|2012|                2.5600464489071015|                             10.836|                 0.6390000000000001|\n",
            "|block_9|MAC000052|2013|                2.9734191764383544|                 16.585999800000003|                 0.6980000000000002|\n",
            "|block_9|MAC000052|2014|                3.6554655189655167|                          9.3190001|                              0.811|\n",
            "|block_9|MAC000105|2011|                24.769210542105267|                         45.4920001|                             10.246|\n",
            "|block_9|MAC000105|2012|                 23.86054917021857|                         87.3710004|                  5.306000000000001|\n",
            "|block_9|MAC000105|2013|                 23.71116437506848|                 54.452000600000005|                              4.848|\n",
            "|block_9|MAC000105|2014|                21.075880997619052|                 48.113000000000014|                              3.516|\n",
            "|block_9|MAC000109|2011|                             2.953|                  4.688000000000001|                 0.9570000000000001|\n",
            "|block_9|MAC000109|2012|                 3.049133880054645|                         11.5260001|                 1.0570000000000002|\n",
            "|block_9|MAC000109|2013|                 2.922619178630138|                  9.801000199999999|                              1.179|\n",
            "|block_9|MAC000109|2014|                 3.465120689655173|                  5.544999999999999|                 1.3299999999999998|\n",
            "|block_9|MAC000377|2012|                2.6111423728813565|                  5.802999999999999|                              0.598|\n",
            "|block_9|MAC000377|2013|                 2.672472527472528|                  5.951000000000001|                 0.4880000000000001|\n",
            "|block_9|MAC000377|2014|                2.9253620689655166|                  6.167000000000001|                              1.324|\n",
            "|block_9|MAC000808|2012|                5.3637879995999995|                 28.938999900000002|                              0.548|\n",
            "+-------+---------+----+----------------------------------+-----------------------------------+-----------------------------------+\n",
            "only showing top 20 rows\n",
            "\n"
          ]
        }
      ]
    },
    {
      "cell_type": "markdown",
      "source": [
        "**previous and next year consumption using lag and lead**"
      ],
      "metadata": {
        "id": "9yZexEc250fP"
      }
    },
    {
      "cell_type": "code",
      "source": [
        "spark.sql(''' SELECT\n",
        "                  file,\n",
        "                  LCLid,\n",
        "                  YEAR(date) as year,\n",
        "                  AVG(peak_hour_consumption) AS avg_peak_hour_consumption_per_year,\n",
        "                  LAG(AVG(peak_hour_consumption), 1)OVER(PARTITION BY LCLid ORDER BY YEAR(date)) AS previous_year_avg_consumption,\n",
        "                  LEAD(AVG(peak_hour_consumption), 1)OVER(PARTITION BY LCLid ORDER BY YEAR(date)) AS next_year_avg_consumption\n",
        "              FROM peak_hour_consumption\n",
        "              GROUP BY \n",
        "                  file,\n",
        "                  LCLid,\n",
        "                  year\n",
        "              ORDER BY \n",
        "                  file DESC,\n",
        "                  LCLid,\n",
        "                  year''').show()"
      ],
      "metadata": {
        "colab": {
          "base_uri": "https://localhost:8080/"
        },
        "id": "IelKk6OnudSz",
        "outputId": "95fb1536-1a90-47e4-d1f5-01a3c0d54194"
      },
      "execution_count": 60,
      "outputs": [
        {
          "output_type": "stream",
          "name": "stdout",
          "text": [
            "+-------+---------+----+----------------------------------+-----------------------------+-------------------------+\n",
            "|   file|    LCLid|year|avg_peak_hour_consumption_per_year|previous_year_avg_consumption|next_year_avg_consumption|\n",
            "+-------+---------+----+----------------------------------+-----------------------------+-------------------------+\n",
            "|block_9|MAC000026|2011|                       6.069640004|                         null|         5.86903279043716|\n",
            "|block_9|MAC000026|2012|                  5.86903279043716|                  6.069640004|         5.33105479260274|\n",
            "|block_9|MAC000026|2013|                  5.33105479260274|             5.86903279043716|        6.046534482758623|\n",
            "|block_9|MAC000026|2014|                 6.046534482758623|             5.33105479260274|                     null|\n",
            "|block_9|MAC000052|2011|                 4.679458333333334|                         null|       2.5600464489071015|\n",
            "|block_9|MAC000052|2012|                2.5600464489071015|            4.679458333333334|       2.9734191764383544|\n",
            "|block_9|MAC000052|2013|                2.9734191764383544|           2.5600464489071015|       3.6554655189655167|\n",
            "|block_9|MAC000052|2014|                3.6554655189655167|           2.9734191764383544|                     null|\n",
            "|block_9|MAC000105|2011|                24.769210542105267|                         null|        23.86054917021857|\n",
            "|block_9|MAC000105|2012|                 23.86054917021857|           24.769210542105267|        23.71116437506848|\n",
            "|block_9|MAC000105|2013|                 23.71116437506848|            23.86054917021857|       21.075880997619052|\n",
            "|block_9|MAC000105|2014|                21.075880997619052|            23.71116437506848|                     null|\n",
            "|block_9|MAC000109|2011|                             2.953|                         null|        3.049133880054645|\n",
            "|block_9|MAC000109|2012|                 3.049133880054645|                        2.953|        2.922619178630138|\n",
            "|block_9|MAC000109|2013|                 2.922619178630138|            3.049133880054645|        3.465120689655173|\n",
            "|block_9|MAC000109|2014|                 3.465120689655173|            2.922619178630138|                     null|\n",
            "|block_9|MAC000377|2012|                2.6111423728813565|                         null|        2.672472527472528|\n",
            "|block_9|MAC000377|2013|                 2.672472527472528|           2.6111423728813565|       2.9253620689655166|\n",
            "|block_9|MAC000377|2014|                2.9253620689655166|            2.672472527472528|                     null|\n",
            "|block_9|MAC000808|2012|                5.3637879995999995|                         null|       6.5748931531506845|\n",
            "+-------+---------+----+----------------------------------+-----------------------------+-------------------------+\n",
            "only showing top 20 rows\n",
            "\n"
          ]
        }
      ]
    },
    {
      "cell_type": "markdown",
      "source": [
        "**year in which avg peak hour consumption is max for perticular LCLid**"
      ],
      "metadata": {
        "id": "Ie7cpgT5H9QV"
      }
    },
    {
      "cell_type": "code",
      "source": [
        "avg_peak_hour_consumption_per_year_df = spark.sql(''' SELECT\n",
        "                                                          ROW_NUMBER()OVER(PARTITION BY LCLid ORDER BY AVG(peak_hour_consumption) DESC) as sr_no,\n",
        "                                                          file,\n",
        "                                                          LCLid,\n",
        "                                                          YEAR(date) as year,\n",
        "                                                          AVG(peak_hour_consumption) AS avg_peak_hour_consumption_per_year,\n",
        "                                                          MAX(peak_hour_consumption) AS max_peak_hour_consumption_per_month,\n",
        "                                                          MIN(peak_hour_consumption) AS min_peak_hour_consumption_per_month\n",
        "                                                      FROM peak_hour_consumption\n",
        "                                                      GROUP BY \n",
        "                                                          file,\n",
        "                                                          LCLid,\n",
        "                                                          year\n",
        "                                                      ORDER BY \n",
        "                                                          file DESC,\n",
        "                                                          LCLid,\n",
        "                                                          avg_peak_hour_consumption_per_year DESC,\n",
        "                                                          year''')\n",
        "\n",
        "avg_peak_hour_consumption_per_year_df.createOrReplaceTempView('avg_peak_hour_consumption_per_year_df')\n",
        "avg_peak_hour_consumption_per_year_df.filter(\"sr_no == '1' \").show()"
      ],
      "metadata": {
        "id": "Ff-zR4Uuuq_K",
        "colab": {
          "base_uri": "https://localhost:8080/"
        },
        "outputId": "f06dbd1c-7eb4-44e5-a3f0-b32c818f1f57"
      },
      "execution_count": 43,
      "outputs": [
        {
          "output_type": "stream",
          "name": "stdout",
          "text": [
            "+-----+-------+---------+----+----------------------------------+-----------------------------------+-----------------------------------+\n",
            "|sr_no|   file|    LCLid|year|avg_peak_hour_consumption_per_year|max_peak_hour_consumption_per_month|min_peak_hour_consumption_per_month|\n",
            "+-----+-------+---------+----+----------------------------------+-----------------------------------+-----------------------------------+\n",
            "|    1|block_9|MAC000026|2011|                       6.069640004|                             14.606|                              2.539|\n",
            "|    1|block_9|MAC000052|2011|                 4.679458333333334|                 13.839999999999996|                 1.4169999999999998|\n",
            "|    1|block_9|MAC000105|2011|                24.769210542105267|                         45.4920001|                             10.246|\n",
            "|    1|block_9|MAC000109|2014|                 3.465120689655173|                  5.544999999999999|                 1.3299999999999998|\n",
            "|    1|block_9|MAC000377|2014|                2.9253620689655166|                  6.167000000000001|                              1.324|\n",
            "|    1|block_9|MAC000808|2014|                10.214362077586205|                 29.970000099999993|                              0.654|\n",
            "|    1|block_9|MAC000815|2014|                 3.818758618965517|                              5.985|                 2.0880000000000005|\n",
            "|    1|block_9|MAC000863|2012|                     10.5283959892|                         29.0129999|                              2.012|\n",
            "|    1|block_9|MAC000866|2012|                 7.441813008130079|                 17.459000099999997|                 3.2620000000000005|\n",
            "|    1|block_9|MAC000871|2012|                1.1053427415322579|                  4.682999899999999|                0.31500000000000006|\n",
            "|    1|block_9|MAC000883|2013|                 8.583104166666669|                         15.9990001|                              1.218|\n",
            "|    1|block_9|MAC000957|2014|                13.193103436206892|                         27.3899999|                 3.9139999999999997|\n",
            "|    1|block_9|MAC001070|2014|                3.8338421052631575|                             20.383|                0.30000000000000004|\n",
            "|    1|block_9|MAC001539|2014|                 5.802280685964913|                 13.030999999999999|                0.41800000000000015|\n",
            "|    1|block_9|MAC001613|2014|                 9.545137924137933|                 15.320000100000003|                 2.7670000000000003|\n",
            "|    1|block_9|MAC001638|2012|                 2.648455814418606|                              8.285|                 0.7940000000000002|\n",
            "|    1|block_9|MAC001873|2014|                 6.972965517241375|                 12.246999999999996|                 3.8499999999999996|\n",
            "|    1|block_9|MAC001928|2012|                 4.132656862254903|                             13.563|                               1.27|\n",
            "|    1|block_9|MAC002005|2014|                 6.253999991379309|                 15.364000099999998|                              2.398|\n",
            "|    1|block_9|MAC002148|2014|                 9.032637934482755|                 19.130000100000004|                 5.1290000000000004|\n",
            "+-----+-------+---------+----+----------------------------------+-----------------------------------+-----------------------------------+\n",
            "only showing top 20 rows\n",
            "\n"
          ]
        }
      ]
    }
  ]
}