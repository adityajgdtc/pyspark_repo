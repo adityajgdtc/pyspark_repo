{
  "nbformat": 4,
  "nbformat_minor": 0,
  "metadata": {
    "colab": {
      "provenance": []
    },
    "kernelspec": {
      "name": "python3",
      "display_name": "Python 3"
    },
    "language_info": {
      "name": "python"
    }
  },
  "cells": [
    {
      "cell_type": "code",
      "execution_count": null,
      "metadata": {
        "colab": {
          "base_uri": "https://localhost:8080/"
        },
        "id": "Gu70Bj-VE_qj",
        "outputId": "39c690c4-e864-4b6f-eecb-6c7a3e7b2db1"
      },
      "outputs": [
        {
          "output_type": "stream",
          "name": "stdout",
          "text": [
            "Looking in indexes: https://pypi.org/simple, https://us-python.pkg.dev/colab-wheels/public/simple/\n",
            "Collecting pyspark\n",
            "  Downloading pyspark-3.3.1.tar.gz (281.4 MB)\n",
            "\u001b[K     |████████████████████████████████| 281.4 MB 43 kB/s \n",
            "\u001b[?25hCollecting py4j==0.10.9.5\n",
            "  Downloading py4j-0.10.9.5-py2.py3-none-any.whl (199 kB)\n",
            "\u001b[K     |████████████████████████████████| 199 kB 35.1 MB/s \n",
            "\u001b[?25hBuilding wheels for collected packages: pyspark\n",
            "  Building wheel for pyspark (setup.py) ... \u001b[?25l\u001b[?25hdone\n",
            "  Created wheel for pyspark: filename=pyspark-3.3.1-py2.py3-none-any.whl size=281845513 sha256=84ee4a0a1e157a9bccfb5466103a62805c5dd4a66a93006633f6db2c58d3bd4b\n",
            "  Stored in directory: /root/.cache/pip/wheels/42/59/f5/79a5bf931714dcd201b26025347785f087370a10a3329a899c\n",
            "Successfully built pyspark\n",
            "Installing collected packages: py4j, pyspark\n",
            "Successfully installed py4j-0.10.9.5 pyspark-3.3.1\n"
          ]
        }
      ],
      "source": [
        "pip install pyspark"
      ]
    },
    {
      "cell_type": "code",
      "source": [
        "from pyspark.sql import SparkSession\n",
        "from pyspark.sql.functions import *"
      ],
      "metadata": {
        "id": "6ZpCl9iRFjY_"
      },
      "execution_count": null,
      "outputs": []
    },
    {
      "cell_type": "code",
      "source": [
        "spark = SparkSession.builder \\\n",
        "            .appName('sqldatefunction') \\\n",
        "            .getOrCreate()\n",
        "data=[[\"1\",\"2020-02-01\"],[\"2\",\"2019-03-01\"],[\"3\",\"2021-03-01\"],\n",
        "      [\"4\",\"2022-04-05\"],[\"5\",\"2022-09-05\"]]\n",
        "date_df=spark.createDataFrame(data,[\"id\",\"date\"])\n",
        "date_df.show()\n"
      ],
      "metadata": {
        "colab": {
          "base_uri": "https://localhost:8080/"
        },
        "id": "3GtCfKXMFks6",
        "outputId": "e5f9359f-9464-4be1-a527-d15c5c4dd348"
      },
      "execution_count": null,
      "outputs": [
        {
          "output_type": "stream",
          "name": "stdout",
          "text": [
            "+---+----------+\n",
            "| id|      date|\n",
            "+---+----------+\n",
            "|  1|2020-02-01|\n",
            "|  2|2019-03-01|\n",
            "|  3|2021-03-01|\n",
            "|  4|2022-04-05|\n",
            "|  5|2022-09-05|\n",
            "+---+----------+\n",
            "\n"
          ]
        }
      ]
    },
    {
      "cell_type": "markdown",
      "source": [
        "**current_date() function**"
      ],
      "metadata": {
        "id": "NccQQEWqmAiS"
      }
    },
    {
      "cell_type": "code",
      "source": [
        "date_df.select(current_date().alias('current_date')).show()"
      ],
      "metadata": {
        "colab": {
          "base_uri": "https://localhost:8080/"
        },
        "id": "OnjFo8rDmHQn",
        "outputId": "c11a68b7-019d-458b-b445-7428bf3a17a7"
      },
      "execution_count": null,
      "outputs": [
        {
          "output_type": "stream",
          "name": "stdout",
          "text": [
            "+------------+\n",
            "|current_date|\n",
            "+------------+\n",
            "|  2022-11-03|\n",
            "|  2022-11-03|\n",
            "|  2022-11-03|\n",
            "|  2022-11-03|\n",
            "|  2022-11-03|\n",
            "+------------+\n",
            "\n"
          ]
        }
      ]
    },
    {
      "cell_type": "markdown",
      "source": [
        "**date_format() function**"
      ],
      "metadata": {
        "id": "TRqAugGAmU_I"
      }
    },
    {
      "cell_type": "code",
      "source": [
        "date_df.select(col('date'),date_format(col('date'), 'dd-MM-yyyy') \\\n",
        "               .alias('date_format')).show()"
      ],
      "metadata": {
        "colab": {
          "base_uri": "https://localhost:8080/"
        },
        "id": "q3z8eAKwmZsX",
        "outputId": "831176a8-36f4-403c-8717-4d6084761a8b"
      },
      "execution_count": null,
      "outputs": [
        {
          "output_type": "stream",
          "name": "stdout",
          "text": [
            "+----------+-----------+\n",
            "|      date|date_format|\n",
            "+----------+-----------+\n",
            "|2020-02-01| 01-02-2020|\n",
            "|2019-03-01| 01-03-2019|\n",
            "|2021-03-01| 01-03-2021|\n",
            "|2022-04-05| 05-04-2022|\n",
            "|2022-09-05| 05-09-2022|\n",
            "+----------+-----------+\n",
            "\n"
          ]
        }
      ]
    },
    {
      "cell_type": "markdown",
      "source": [
        "**to_date() function**"
      ],
      "metadata": {
        "id": "sU1iLr4enFP_"
      }
    },
    {
      "cell_type": "code",
      "source": [
        "date_df.select(col('date'),to_date(col('date'),'yyyy-MM-dd') \\\n",
        "               .alias('to_date')).show()"
      ],
      "metadata": {
        "colab": {
          "base_uri": "https://localhost:8080/"
        },
        "id": "CI-wuf28nOh-",
        "outputId": "07dac2bf-0ea6-4dfe-c866-aaa2cfeeb24a"
      },
      "execution_count": null,
      "outputs": [
        {
          "output_type": "stream",
          "name": "stdout",
          "text": [
            "+----------+----------+\n",
            "|      date|   to_date|\n",
            "+----------+----------+\n",
            "|2020-02-01|2020-02-01|\n",
            "|2019-03-01|2019-03-01|\n",
            "|2021-03-01|2021-03-01|\n",
            "|2022-04-05|2022-04-05|\n",
            "|2022-09-05|2022-09-05|\n",
            "+----------+----------+\n",
            "\n"
          ]
        }
      ]
    },
    {
      "cell_type": "markdown",
      "source": [
        "**datediff() function**"
      ],
      "metadata": {
        "id": "Iz19hoTmn2Qn"
      }
    },
    {
      "cell_type": "code",
      "source": [
        "date_df.select(col('date'), datediff(current_date(),col('date')) \\\n",
        "               .alias('date_difference')).show()"
      ],
      "metadata": {
        "colab": {
          "base_uri": "https://localhost:8080/"
        },
        "id": "8NkfPYWTn7yf",
        "outputId": "bce16c93-ecea-45ae-f2f6-cf8ced146651"
      },
      "execution_count": null,
      "outputs": [
        {
          "output_type": "stream",
          "name": "stdout",
          "text": [
            "+----------+---------------+\n",
            "|      date|date_difference|\n",
            "+----------+---------------+\n",
            "|2020-02-01|           1006|\n",
            "|2019-03-01|           1343|\n",
            "|2021-03-01|            612|\n",
            "|2022-04-05|            212|\n",
            "|2022-09-05|             59|\n",
            "+----------+---------------+\n",
            "\n"
          ]
        }
      ]
    },
    {
      "cell_type": "markdown",
      "source": [
        "**months_between() function**"
      ],
      "metadata": {
        "id": "XkODCppPoVJ_"
      }
    },
    {
      "cell_type": "code",
      "source": [
        "date_df.select(col('date'),months_between(current_date(),col('date')) \\\n",
        "               .alias('months_difference')).show()"
      ],
      "metadata": {
        "colab": {
          "base_uri": "https://localhost:8080/"
        },
        "id": "l9HewncUoZ8F",
        "outputId": "59aebc1b-1c7a-4849-f8fc-69053a76f159"
      },
      "execution_count": null,
      "outputs": [
        {
          "output_type": "stream",
          "name": "stdout",
          "text": [
            "+----------+-----------------+\n",
            "|      date|months_difference|\n",
            "+----------+-----------------+\n",
            "|2020-02-01|      33.06451613|\n",
            "|2019-03-01|      44.06451613|\n",
            "|2021-03-01|      20.06451613|\n",
            "|2022-04-05|       6.93548387|\n",
            "|2022-09-05|       1.93548387|\n",
            "+----------+-----------------+\n",
            "\n"
          ]
        }
      ]
    },
    {
      "cell_type": "markdown",
      "source": [
        "**trunc() function**"
      ],
      "metadata": {
        "id": "iPm9TltapJ4j"
      }
    },
    {
      "cell_type": "code",
      "source": [],
      "metadata": {
        "id": "HRcu4xhMpNs2"
      },
      "execution_count": null,
      "outputs": []
    },
    {
      "cell_type": "markdown",
      "source": [
        "**add_months(), date_add(), date_sub() function**"
      ],
      "metadata": {
        "id": "QwoF9iDxpfJn"
      }
    },
    {
      "cell_type": "code",
      "source": [
        "date_df.select(col('date'),add_months(col('date'), 3).alias('3_months_added'),\n",
        "                           add_months(col('date'),-1).alias('3_months_substracted'),\n",
        "                           date_add(col('date'), 4).alias('4_days_added'),\n",
        "                           date_sub(col('date'),2).alias('2_days_substracted')).show()"
      ],
      "metadata": {
        "colab": {
          "base_uri": "https://localhost:8080/"
        },
        "id": "7CZ4g5YppoX7",
        "outputId": "78d1953c-6c12-434a-b980-4bec8bdb1df6"
      },
      "execution_count": null,
      "outputs": [
        {
          "output_type": "stream",
          "name": "stdout",
          "text": [
            "+----------+--------------+--------------------+------------+------------------+\n",
            "|      date|3_months_added|3_months_substracted|4_days_added|2_days_substracted|\n",
            "+----------+--------------+--------------------+------------+------------------+\n",
            "|2020-02-01|    2020-05-01|          2020-01-01|  2020-02-05|        2020-01-30|\n",
            "|2019-03-01|    2019-06-01|          2019-02-01|  2019-03-05|        2019-02-27|\n",
            "|2021-03-01|    2021-06-01|          2021-02-01|  2021-03-05|        2021-02-27|\n",
            "|2022-04-05|    2022-07-05|          2022-03-05|  2022-04-09|        2022-04-03|\n",
            "|2022-09-05|    2022-12-05|          2022-08-05|  2022-09-09|        2022-09-03|\n",
            "+----------+--------------+--------------------+------------+------------------+\n",
            "\n"
          ]
        }
      ]
    },
    {
      "cell_type": "markdown",
      "source": [
        "**year(), month(), next_day(), weekofyear() function**"
      ],
      "metadata": {
        "id": "MHfE5yJtrMSF"
      }
    },
    {
      "cell_type": "code",
      "source": [
        "date_df.select(col('date'),\n",
        "               year(col('date')).alias('extracted_year'),\n",
        "               month(col('date')).alias('extracted_month'),\n",
        "               next_day(col('date'),'monday').alias('next_day'),\n",
        "               weekofyear(col('date')).alias('week_of_year')).show()"
      ],
      "metadata": {
        "colab": {
          "base_uri": "https://localhost:8080/"
        },
        "id": "3B7f5KtCsL8b",
        "outputId": "5846076c-1106-40e0-f6d7-3ff33bc377a2"
      },
      "execution_count": null,
      "outputs": [
        {
          "output_type": "stream",
          "name": "stdout",
          "text": [
            "+----------+--------------+---------------+----------+------------+\n",
            "|      date|extracted_year|extracted_month|  next_day|week_of_year|\n",
            "+----------+--------------+---------------+----------+------------+\n",
            "|2020-02-01|          2020|              2|2020-02-03|           5|\n",
            "|2019-03-01|          2019|              3|2019-03-04|           9|\n",
            "|2021-03-01|          2021|              3|2021-03-08|           9|\n",
            "|2022-04-05|          2022|              4|2022-04-11|          14|\n",
            "|2022-09-05|          2022|              9|2022-09-12|          36|\n",
            "+----------+--------------+---------------+----------+------------+\n",
            "\n"
          ]
        }
      ]
    },
    {
      "cell_type": "markdown",
      "source": [
        "**dayofweek(), dayofmonth(), dayofyear() function**"
      ],
      "metadata": {
        "id": "6ApP2afgtBo-"
      }
    },
    {
      "cell_type": "code",
      "source": [
        "date_df.select(col('date'),\n",
        "               dayofweek(col('date')).alias('day_of_week'),\n",
        "               dayofmonth(col('date')).alias('day_of_month'),\n",
        "               dayofyear(col('date')).alias('day_of_year')).show()"
      ],
      "metadata": {
        "colab": {
          "base_uri": "https://localhost:8080/"
        },
        "id": "-Vj7gn1ltaTW",
        "outputId": "1ab1927b-3136-4b18-c8e9-0af0f25bbcdc"
      },
      "execution_count": null,
      "outputs": [
        {
          "output_type": "stream",
          "name": "stdout",
          "text": [
            "+----------+-----------+------------+-----------+\n",
            "|      date|day_of_week|day_of_month|day_of_year|\n",
            "+----------+-----------+------------+-----------+\n",
            "|2020-02-01|          7|           1|         32|\n",
            "|2019-03-01|          6|           1|         60|\n",
            "|2021-03-01|          2|           1|         60|\n",
            "|2022-04-05|          3|           5|         95|\n",
            "|2022-09-05|          2|           5|        248|\n",
            "+----------+-----------+------------+-----------+\n",
            "\n"
          ]
        }
      ]
    },
    {
      "cell_type": "markdown",
      "source": [
        "**currect_timestamp() function**"
      ],
      "metadata": {
        "id": "WIWnwpSWt5n-"
      }
    },
    {
      "cell_type": "code",
      "source": [
        "date_df.select(current_timestamp().alias('current_timestamp')).show(truncate=False)"
      ],
      "metadata": {
        "colab": {
          "base_uri": "https://localhost:8080/"
        },
        "id": "hSUcAVyZt9gb",
        "outputId": "58cdeab2-3018-4429-8d07-24efa2fa274d"
      },
      "execution_count": null,
      "outputs": [
        {
          "output_type": "stream",
          "name": "stdout",
          "text": [
            "+--------------------------+\n",
            "|current_timestamp         |\n",
            "+--------------------------+\n",
            "|2022-11-03 05:17:55.651519|\n",
            "|2022-11-03 05:17:55.651519|\n",
            "|2022-11-03 05:17:55.651519|\n",
            "|2022-11-03 05:17:55.651519|\n",
            "|2022-11-03 05:17:55.651519|\n",
            "+--------------------------+\n",
            "\n"
          ]
        }
      ]
    },
    {
      "cell_type": "markdown",
      "source": [
        "**to_timestamp() function**"
      ],
      "metadata": {
        "id": "xNoic3GFxfU_"
      }
    },
    {
      "cell_type": "code",
      "source": [
        "time_data=[[\"1\",\"02-01-2020 11 01 19 06\"],[\"2\",\"03-01-2019 12 01 19 406\"],\n",
        "         [\"3\",\"03-01-2018 12 01 19 406\"],[\"4\",\"01-11-2022 11 32 19 406\"]]\n",
        "time_df=spark.createDataFrame(time_data,[\"id\",\"time\"])\n",
        "time_df.show(truncate=False)"
      ],
      "metadata": {
        "colab": {
          "base_uri": "https://localhost:8080/"
        },
        "id": "hGeoQNmQxn_m",
        "outputId": "27938759-ab6d-4b58-b0d1-326832ef14a0"
      },
      "execution_count": null,
      "outputs": [
        {
          "output_type": "stream",
          "name": "stdout",
          "text": [
            "+---+-----------------------+\n",
            "|id |time                   |\n",
            "+---+-----------------------+\n",
            "|1  |02-01-2020 11 01 19 06 |\n",
            "|2  |03-01-2019 12 01 19 406|\n",
            "|3  |03-01-2018 12 01 19 406|\n",
            "|4  |01-11-2022 11 32 19 406|\n",
            "+---+-----------------------+\n",
            "\n"
          ]
        }
      ]
    },
    {
      "cell_type": "code",
      "source": [
        "time_df = time_df.select(col(\"time\"),to_timestamp(col(\"time\"), \"MM-dd-yyyy HH mm ss SSS\")\n",
        "              .alias(\"timestamp\"))\n",
        "\n",
        "time_df.show(truncate=False)"
      ],
      "metadata": {
        "colab": {
          "base_uri": "https://localhost:8080/"
        },
        "id": "pXSII0Zvyhhf",
        "outputId": "70432581-5de9-42c7-c72b-a457fd8f4e54"
      },
      "execution_count": null,
      "outputs": [
        {
          "output_type": "stream",
          "name": "stdout",
          "text": [
            "+-----------------------+-----------------------+\n",
            "|time                   |timestamp              |\n",
            "+-----------------------+-----------------------+\n",
            "|02-01-2020 11 01 19 06 |2020-02-01 11:01:19.06 |\n",
            "|03-01-2019 12 01 19 406|2019-03-01 12:01:19.406|\n",
            "|03-01-2018 12 01 19 406|2018-03-01 12:01:19.406|\n",
            "|01-11-2022 11 32 19 406|2022-01-11 11:32:19.406|\n",
            "+-----------------------+-----------------------+\n",
            "\n"
          ]
        }
      ]
    },
    {
      "cell_type": "markdown",
      "source": [
        "**hour(), Minute(), second() function**"
      ],
      "metadata": {
        "id": "tHlDy8nKyxbk"
      }
    },
    {
      "cell_type": "code",
      "source": [
        "time_df.select(col(\"timestamp\"), \n",
        "    hour(col(\"timestamp\")).alias(\"hour\"), \n",
        "    minute(col(\"timestamp\")).alias(\"minute\"),\n",
        "    second(col(\"timestamp\")).alias(\"second\")).show(truncate=False)"
      ],
      "metadata": {
        "colab": {
          "base_uri": "https://localhost:8080/"
        },
        "id": "M-JFiKAwy3Dw",
        "outputId": "ef77349e-530c-400f-8511-a16a431a3fc4"
      },
      "execution_count": null,
      "outputs": [
        {
          "output_type": "stream",
          "name": "stdout",
          "text": [
            "+-----------------------+----+------+------+\n",
            "|timestamp              |hour|minute|second|\n",
            "+-----------------------+----+------+------+\n",
            "|2020-02-01 11:01:19.06 |11  |1     |19    |\n",
            "|2019-03-01 12:01:19.406|12  |1     |19    |\n",
            "|2018-03-01 12:01:19.406|12  |1     |19    |\n",
            "|2022-01-11 11:32:19.406|11  |32    |19    |\n",
            "+-----------------------+----+------+------+\n",
            "\n"
          ]
        }
      ]
    },
    {
      "cell_type": "markdown",
      "source": [
        "**unix_timestamp() function**"
      ],
      "metadata": {
        "id": "7IKCxyTfAeWf"
      }
    },
    {
      "cell_type": "code",
      "source": [
        "unix_time_df = time_df.select(unix_timestamp(col('timestamp')).alias('unix_time'))\n",
        "unix_time_df.show()"
      ],
      "metadata": {
        "colab": {
          "base_uri": "https://localhost:8080/"
        },
        "id": "DlIojTpcAlYO",
        "outputId": "aba6b32f-35c8-4018-8576-fe5553956f70"
      },
      "execution_count": null,
      "outputs": [
        {
          "output_type": "stream",
          "name": "stdout",
          "text": [
            "+----------+\n",
            "| unix_time|\n",
            "+----------+\n",
            "|1580554879|\n",
            "|1551441679|\n",
            "|1519905679|\n",
            "|1641900739|\n",
            "+----------+\n",
            "\n"
          ]
        }
      ]
    },
    {
      "cell_type": "markdown",
      "source": [
        "**from_unixtime() function**"
      ],
      "metadata": {
        "id": "axSmyq2XCdkW"
      }
    },
    {
      "cell_type": "code",
      "source": [
        "unix_time_df.select(from_unixtime(col('unix_time')).alias('original_time')).show()"
      ],
      "metadata": {
        "colab": {
          "base_uri": "https://localhost:8080/"
        },
        "id": "KmyzHcsjCk5J",
        "outputId": "45f3ec29-d769-493c-cb76-639478725d19"
      },
      "execution_count": null,
      "outputs": [
        {
          "output_type": "stream",
          "name": "stdout",
          "text": [
            "+-------------------+\n",
            "|      original_time|\n",
            "+-------------------+\n",
            "|2020-02-01 11:01:19|\n",
            "|2019-03-01 12:01:19|\n",
            "|2018-03-01 12:01:19|\n",
            "|2022-01-11 11:32:19|\n",
            "+-------------------+\n",
            "\n"
          ]
        }
      ]
    }
  ]
}