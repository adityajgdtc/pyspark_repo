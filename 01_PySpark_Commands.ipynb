{
  "cells": [
    {
      "cell_type": "code",
      "execution_count": null,
      "metadata": {
        "colab": {
          "base_uri": "https://localhost:8080/"
        },
        "id": "aaop5qkH1CuH",
        "outputId": "4fcd1d76-1185-4778-9d74-518c236b09da"
      },
      "outputs": [
        {
          "name": "stdout",
          "output_type": "stream",
          "text": [
            "Looking in indexes: https://pypi.org/simple, https://us-python.pkg.dev/colab-wheels/public/simple/\n",
            "Collecting pyspark\n",
            "  Downloading pyspark-3.3.1.tar.gz (281.4 MB)\n",
            "\u001b[K     |████████████████████████████████| 281.4 MB 40 kB/s \n",
            "\u001b[?25hCollecting py4j==0.10.9.5\n",
            "  Downloading py4j-0.10.9.5-py2.py3-none-any.whl (199 kB)\n",
            "\u001b[K     |████████████████████████████████| 199 kB 47.9 MB/s \n",
            "\u001b[?25hBuilding wheels for collected packages: pyspark\n",
            "  Building wheel for pyspark (setup.py) ... \u001b[?25l\u001b[?25hdone\n",
            "  Created wheel for pyspark: filename=pyspark-3.3.1-py2.py3-none-any.whl size=281845513 sha256=9c7971e2a0f0f3bc9b13742d06650cb6e400e15636d852807d7e87f01452c0df\n",
            "  Stored in directory: /root/.cache/pip/wheels/42/59/f5/79a5bf931714dcd201b26025347785f087370a10a3329a899c\n",
            "Successfully built pyspark\n",
            "Installing collected packages: py4j, pyspark\n",
            "Successfully installed py4j-0.10.9.5 pyspark-3.3.1\n"
          ]
        }
      ],
      "source": [
        "pip install pyspark"
      ]
    },
    {
      "cell_type": "code",
      "execution_count": null,
      "metadata": {
        "id": "uk_ABoGPGAx-"
      },
      "outputs": [],
      "source": [
        "from pyspark.sql.types import StringType, StructField, IntegerType, StructType\n",
        "from pyspark.sql import SparkSession\n",
        "from pyspark.sql.functions import sum,min,max,avg,col,lit,when\n",
        "from pyspark.sql.functions import *"
      ]
    },
    {
      "cell_type": "markdown",
      "metadata": {
        "id": "ZdLNU0sXVxVZ"
      },
      "source": [
        "**Creating Spark Session**"
      ]
    },
    {
      "cell_type": "code",
      "execution_count": null,
      "metadata": {
        "id": "bI_FfXdGOWbn"
      },
      "outputs": [],
      "source": [
        "spark = SparkSession.builder \\\n",
        "      .master(\"local[1]\") \\\n",
        "      .appName(\"SparkByExamples.com\") \\\n",
        "      .getOrCreate()"
      ]
    },
    {
      "cell_type": "markdown",
      "metadata": {
        "id": "03q9MAjHWB2N"
      },
      "source": [
        "**DataFrame creation using createDataFrame()**"
      ]
    },
    {
      "cell_type": "code",
      "execution_count": null,
      "metadata": {
        "colab": {
          "base_uri": "https://localhost:8080/"
        },
        "id": "qYELHJXdNTj9",
        "outputId": "f2e61bf2-045f-41ab-e392-538ee91bb8f0"
      },
      "outputs": [
        {
          "name": "stdout",
          "output_type": "stream",
          "text": [
            "root\n",
            " |-- FirstName: string (nullable = true)\n",
            " |-- MiddleName: string (nullable = true)\n",
            " |-- lastName: string (nullable = true)\n",
            " |-- EMP_Id: string (nullable = true)\n",
            " |-- Gender: string (nullable = true)\n",
            " |-- Salary: long (nullable = true)\n",
            "\n",
            "+---------+----------+--------+--------+------+------+\n",
            "|FirstName|MiddleName|lastName|  EMP_Id|Gender|Salary|\n",
            "+---------+----------+--------+--------+------+------+\n",
            "|        A|         B|        |  123456|     M| 10000|\n",
            "|        P|          |       R|  745126|     M| 10500|\n",
            "|        Q|         B|       S| 9632541|     F| 20000|\n",
            "|        W|         D|       G|78541203|     F| 19000|\n",
            "|        M|          |       N|  456789|     M|  1200|\n",
            "+---------+----------+--------+--------+------+------+\n",
            "\n"
          ]
        }
      ],
      "source": [
        "data = [('A', 'B', '', '123456', 'M', 10000),\n",
        "        ('P', '', 'R', '745126', 'M', 10500),\n",
        "        ('Q', 'B', 'S', '9632541', 'F', 20000),\n",
        "        ('W', 'D', 'G', '78541203', 'F', 19000),\n",
        "        ('M', '', 'N', '456789', 'M', 1200)]\n",
        "\n",
        "column = ['FirstName', 'MiddleName', 'lastName', 'EMP_Id', 'Gender', 'Salary']\n",
        "\n",
        "df = spark.createDataFrame(data=data, schema=column)\n",
        "\n",
        "df.printSchema()\n",
        "df.show()"
      ]
    },
    {
      "cell_type": "markdown",
      "metadata": {
        "id": "F9frS6OG_oJg"
      },
      "source": [
        "**Creating empty data frame**"
      ]
    },
    {
      "cell_type": "code",
      "execution_count": null,
      "metadata": {
        "colab": {
          "base_uri": "https://localhost:8080/"
        },
        "id": "XS14V-nQ_vc9",
        "outputId": "d1097439-0c82-441c-e95e-87147c931b64"
      },
      "outputs": [
        {
          "name": "stdout",
          "output_type": "stream",
          "text": [
            "root\n",
            " |-- first_name: string (nullable = true)\n",
            " |-- middle_name: string (nullable = true)\n",
            " |-- surname: string (nullable = true)\n",
            "\n"
          ]
        }
      ],
      "source": [
        "empty_schema = StructType([\n",
        "    StructField('first_name', StringType(), True),\n",
        "    StructField('middle_name', StringType(), True),\n",
        "    StructField('surname', StringType(), True)\n",
        "])\n",
        "\n",
        "df2 = spark.createDataFrame([], empty_schema)\n",
        "df2.printSchema()"
      ]
    },
    {
      "cell_type": "markdown",
      "metadata": {
        "id": "JxloOqIaCPSF"
      },
      "source": [
        "**Creating DataFrame from CSV**"
      ]
    },
    {
      "cell_type": "code",
      "execution_count": null,
      "metadata": {
        "colab": {
          "base_uri": "https://localhost:8080/"
        },
        "id": "RIItxtxKCTlr",
        "outputId": "07c90e3d-b73f-498e-92b8-bb8a747ae00d"
      },
      "outputs": [
        {
          "name": "stdout",
          "output_type": "stream",
          "text": [
            "root\n",
            " |-- emp_id: string (nullable = true)\n",
            " |-- first_name: string (nullable = true)\n",
            " |-- last_name: string (nullable = true)\n",
            " |-- gender: string (nullable = true)\n",
            " |-- designation: string (nullable = true)\n",
            " |-- salary: string (nullable = true)\n",
            "\n",
            "+------+----------+---------+-----------+----------------+------+\n",
            "|emp_id|first_name|last_name|     gender|     designation|salary|\n",
            "+------+----------+---------+-----------+----------------+------+\n",
            "|     1|Washington| Clifford|       Male|  Human Resource| 34544|\n",
            "|     2|     Letti|Rosekilly|     Female|Testing engineer| 26411|\n",
            "|     3|      Gray| Lavielle|       Male|            null| 23445|\n",
            "|     4|      Ulla|    Bound|     Female|   Data Engineer|  null|\n",
            "|     5|    Korney|   Lomath|     Female|   Data Engineer| 41360|\n",
            "|     6|     Wanda|     null|    Agender|           Sales| 29984|\n",
            "|     7|     Denis| Cleveley|       Male|Testing engineer| 47485|\n",
            "|     8|   Artemas| Bolsover|       Male|            null| 41185|\n",
            "|     9|   Kerstin| De Meyer|Genderqueer|   Data Engineer| 34899|\n",
            "|    10|    Dulsea|  Esilmon|     Female|   Data Engineer| 29043|\n",
            "+------+----------+---------+-----------+----------------+------+\n",
            "only showing top 10 rows\n",
            "\n"
          ]
        }
      ],
      "source": [
        "df3 = spark.read.csv('emp_data.csv',header= True)\n",
        "df3.printSchema()\n",
        "df3.show(10)"
      ]
    },
    {
      "cell_type": "markdown",
      "metadata": {
        "id": "qG_1m2frJMjU"
      },
      "source": [
        "**Select Single & Multiple Columns From PySpark**"
      ]
    },
    {
      "cell_type": "code",
      "execution_count": null,
      "metadata": {
        "colab": {
          "base_uri": "https://localhost:8080/"
        },
        "id": "Dzwu9gFXI-z_",
        "outputId": "b91c111d-feaa-491a-80d8-2b8eabb51d95"
      },
      "outputs": [
        {
          "name": "stdout",
          "output_type": "stream",
          "text": [
            "+----------------+\n",
            "|     designation|\n",
            "+----------------+\n",
            "|  Human Resource|\n",
            "|Testing engineer|\n",
            "|            null|\n",
            "|   Data Engineer|\n",
            "|   Data Engineer|\n",
            "+----------------+\n",
            "only showing top 5 rows\n",
            "\n",
            "+----------+---------+\n",
            "|first_name|last_name|\n",
            "+----------+---------+\n",
            "|Washington| Clifford|\n",
            "|     Letti|Rosekilly|\n",
            "|      Gray| Lavielle|\n",
            "|      Ulla|    Bound|\n",
            "|    Korney|   Lomath|\n",
            "+----------+---------+\n",
            "only showing top 5 rows\n",
            "\n"
          ]
        }
      ],
      "source": [
        "df3.select(df3['designation']).show(5)\n",
        "df3.select('first_name','last_name').show(5)"
      ]
    },
    {
      "cell_type": "markdown",
      "metadata": {
        "id": "Oa9pOkpEKJJ6"
      },
      "source": [
        "**Select All Columns**"
      ]
    },
    {
      "cell_type": "code",
      "execution_count": null,
      "metadata": {
        "colab": {
          "base_uri": "https://localhost:8080/"
        },
        "id": "7khD3weKKJfw",
        "outputId": "12dcac74-a20c-4d15-e2bf-7bbd97555eef"
      },
      "outputs": [
        {
          "name": "stdout",
          "output_type": "stream",
          "text": [
            "+------+----------+---------+-----------+----------------+------+\n",
            "|emp_id|first_name|last_name|     gender|     designation|salary|\n",
            "+------+----------+---------+-----------+----------------+------+\n",
            "|     1|Washington| Clifford|       Male|  Human Resource| 34544|\n",
            "|     2|     Letti|Rosekilly|     Female|Testing engineer| 26411|\n",
            "|     3|      Gray| Lavielle|       Male|            null| 23445|\n",
            "|     4|      Ulla|    Bound|     Female|   Data Engineer|  null|\n",
            "|     5|    Korney|   Lomath|     Female|   Data Engineer| 41360|\n",
            "|     6|     Wanda|     null|    Agender|           Sales| 29984|\n",
            "|     7|     Denis| Cleveley|       Male|Testing engineer| 47485|\n",
            "|     8|   Artemas| Bolsover|       Male|            null| 41185|\n",
            "|     9|   Kerstin| De Meyer|Genderqueer|   Data Engineer| 34899|\n",
            "|    10|    Dulsea|  Esilmon|     Female|   Data Engineer| 29043|\n",
            "+------+----------+---------+-----------+----------------+------+\n",
            "only showing top 10 rows\n",
            "\n"
          ]
        }
      ],
      "source": [
        "df3.select('*').show(10)"
      ]
    },
    {
      "cell_type": "markdown",
      "metadata": {
        "id": "Po54bmq5KmKE"
      },
      "source": [
        "**Select Columns by Index**"
      ]
    },
    {
      "cell_type": "code",
      "execution_count": null,
      "metadata": {
        "colab": {
          "base_uri": "https://localhost:8080/"
        },
        "id": "ttxO5MNlKmxf",
        "outputId": "85d55b1d-5d7d-407e-aca6-99df53b64d88"
      },
      "outputs": [
        {
          "name": "stdout",
          "output_type": "stream",
          "text": [
            "+---------+------+----------------+------+\n",
            "|last_name|gender|     designation|salary|\n",
            "+---------+------+----------------+------+\n",
            "| Clifford|  Male|  Human Resource| 34544|\n",
            "|Rosekilly|Female|Testing engineer| 26411|\n",
            "| Lavielle|  Male|            null| 23445|\n",
            "|    Bound|Female|   Data Engineer|  null|\n",
            "|   Lomath|Female|   Data Engineer| 41360|\n",
            "+---------+------+----------------+------+\n",
            "only showing top 5 rows\n",
            "\n"
          ]
        }
      ],
      "source": [
        "df3.select(df3.columns[2:6]).show(5)"
      ]
    },
    {
      "cell_type": "markdown",
      "metadata": {
        "id": "po0X2R0xMpRo"
      },
      "source": [
        "**Collect() – Retrieve data from DataFrame**"
      ]
    },
    {
      "cell_type": "code",
      "execution_count": null,
      "metadata": {
        "colab": {
          "base_uri": "https://localhost:8080/",
          "height": 36
        },
        "id": "-StBYq9HMpaH",
        "outputId": "8f6e912c-1c38-4cf1-a0e3-f70cd7ab8135"
      },
      "outputs": [
        {
          "data": {
            "application/vnd.google.colaboratory.intrinsic+json": {
              "type": "string"
            },
            "text/plain": [
              "'Testing engineer'"
            ]
          },
          "execution_count": 10,
          "metadata": {},
          "output_type": "execute_result"
        }
      ],
      "source": [
        "df3.collect()[6][4]"
      ]
    },
    {
      "cell_type": "markdown",
      "metadata": {
        "id": "vNChh2sYNKV8"
      },
      "source": [
        "**Change DataType using PySpark withColumn()**"
      ]
    },
    {
      "cell_type": "code",
      "execution_count": null,
      "metadata": {
        "colab": {
          "base_uri": "https://localhost:8080/"
        },
        "id": "MD-RLRqiNKf6",
        "outputId": "f69bad2f-ebdc-4ad1-8871-4e2e846a65fd"
      },
      "outputs": [
        {
          "name": "stdout",
          "output_type": "stream",
          "text": [
            "root\n",
            " |-- emp_id: integer (nullable = true)\n",
            " |-- first_name: string (nullable = true)\n",
            " |-- last_name: string (nullable = true)\n",
            " |-- gender: string (nullable = true)\n",
            " |-- designation: string (nullable = true)\n",
            " |-- salary: integer (nullable = true)\n",
            "\n"
          ]
        }
      ],
      "source": [
        "df3 = df3.withColumn('emp_id', df3['emp_id'].cast('integer'))\n",
        "df3 = df3.withColumn('salary', df3['salary'].cast('integer'))\n",
        "df3.printSchema()"
      ]
    },
    {
      "cell_type": "markdown",
      "metadata": {
        "id": "-b65KW-WQv-C"
      },
      "source": [
        "**Update The Value of an Existing Column**"
      ]
    },
    {
      "cell_type": "code",
      "execution_count": null,
      "metadata": {
        "colab": {
          "base_uri": "https://localhost:8080/"
        },
        "id": "Na-TdxRgQxpW",
        "outputId": "5d697aae-3c28-467a-ed81-4c3a44ee6212"
      },
      "outputs": [
        {
          "name": "stdout",
          "output_type": "stream",
          "text": [
            "+------+----------+---------+------+----------------+------+\n",
            "|emp_id|first_name|last_name|gender|     designation|salary|\n",
            "+------+----------+---------+------+----------------+------+\n",
            "|   101|Washington| Clifford|  Male|  Human Resource| 34544|\n",
            "|   102|     Letti|Rosekilly|Female|Testing engineer| 26411|\n",
            "|   103|      Gray| Lavielle|  Male|            null| 23445|\n",
            "|   104|      Ulla|    Bound|Female|   Data Engineer|  null|\n",
            "|   105|    Korney|   Lomath|Female|   Data Engineer| 41360|\n",
            "+------+----------+---------+------+----------------+------+\n",
            "only showing top 5 rows\n",
            "\n"
          ]
        }
      ],
      "source": [
        "df3 = df3.withColumn(\"emp_id\",df3[\"emp_id\"]+100)\n",
        "df3.show(5)"
      ]
    },
    {
      "cell_type": "markdown",
      "metadata": {
        "id": "dPUPAGBHSPks"
      },
      "source": [
        "**DataFrame filter() with Column Condition**"
      ]
    },
    {
      "cell_type": "code",
      "execution_count": null,
      "metadata": {
        "colab": {
          "base_uri": "https://localhost:8080/"
        },
        "id": "FKBkVER1SRa0",
        "outputId": "b97f66a7-9267-44b4-d9d8-a0731447801f"
      },
      "outputs": [
        {
          "name": "stdout",
          "output_type": "stream",
          "text": [
            "+------+----------+---------+------+--------------+------+\n",
            "|emp_id|first_name|last_name|gender|   designation|salary|\n",
            "+------+----------+---------+------+--------------+------+\n",
            "|   101|Washington| Clifford|  Male|Human Resource| 34544|\n",
            "|   111|     Torey|     null|  Male|Human Resource| 44046|\n",
            "|   113|      Redd|    Rosel|  Male|Human Resource| 45594|\n",
            "|   126|     Byrom|    Omand|  Male|Human Resource| 46385|\n",
            "|   142|   Hershel|   Monsey|  Male|Human Resource| 16789|\n",
            "|   145|    Luther|     null|  Male|Human Resource| 40264|\n",
            "|   147|   Umberto|  Fearney|  Male|Human Resource| 35256|\n",
            "|   150|    Cesare|  Dionisi|  Male|Human Resource| 37793|\n",
            "|   151|   Cheston|   Glasby|  Male|Human Resource| 35908|\n",
            "|   169|     Penny|   Creebo|  Male|Human Resource| 15699|\n",
            "|   171|  Vincenty|   Bordes|  Male|Human Resource| 49213|\n",
            "|   197|    Hastie|  Sprowle|  Male|Human Resource| 48848|\n",
            "+------+----------+---------+------+--------------+------+\n",
            "\n"
          ]
        }
      ],
      "source": [
        "df3.filter((df3.designation == 'Human Resource') & (df3.gender == 'Male')).show()"
      ]
    },
    {
      "cell_type": "markdown",
      "metadata": {
        "id": "qPV9_dhx18K8"
      },
      "source": [
        "**Filter based on given list**"
      ]
    },
    {
      "cell_type": "code",
      "execution_count": null,
      "metadata": {
        "colab": {
          "base_uri": "https://localhost:8080/"
        },
        "id": "slC8tV9h10gH",
        "outputId": "268ab3e5-99ae-42c8-c7ff-1ea64d0fc7ed"
      },
      "outputs": [
        {
          "name": "stdout",
          "output_type": "stream",
          "text": [
            "+------+----------+----------+----------+-----------+------+\n",
            "|emp_id|first_name| last_name|    gender|designation|salary|\n",
            "+------+----------+----------+----------+-----------+------+\n",
            "|   106|     Wanda|      null|   Agender|      Sales| 29984|\n",
            "|   112|   Clarita| Grollmann|    Female|      Sales| 12377|\n",
            "|   117|      Dolf| Dumpleton|      Male|      Sales| 20597|\n",
            "|   129|    Easter|   Pautard|    Female|      Sales| 39305|\n",
            "|   132|  Cristina|     Skypp|    Female|      Sales|  null|\n",
            "|   134|      Mada|    Hoggan|    Female|      Sales|  null|\n",
            "|   136|   Willdon|      null|      Male|      Sales| 49289|\n",
            "|   137|     Tania| Habergham|    Female|      Sales| 14313|\n",
            "|   153|     Vanni|   Grinyer|Non-binary|      Sales| 17509|\n",
            "|   156|     Angil|   Shimman|    Female|      Sales| 40145|\n",
            "|   157|   Maurits|  Lerhinan|      Male|      Sales| 33757|\n",
            "|   181|      Toni|    Ruffey|    Female|      Sales| 11198|\n",
            "|   184|  Alasdair|   Campion|      Male|      Sales| 31193|\n",
            "|   187|   Krystle|Giovanardi|    Female|      Sales|  null|\n",
            "|   193|    Juieta|  Wauchope|    Female|      Sales| 38884|\n",
            "|   200|     Harry|     Muino|      Male|      Sales| 27230|\n",
            "+------+----------+----------+----------+-----------+------+\n",
            "\n"
          ]
        }
      ],
      "source": [
        "department_list = ['Sales', 'Marketing']\n",
        "df3.filter(df3.designation.isin(department_list)).show()"
      ]
    },
    {
      "cell_type": "markdown",
      "metadata": {
        "id": "IfENCQAW2iNK"
      },
      "source": [
        "**Filter based on starts with**"
      ]
    },
    {
      "cell_type": "code",
      "execution_count": null,
      "metadata": {
        "colab": {
          "base_uri": "https://localhost:8080/"
        },
        "id": "uh8z19fg2q8y",
        "outputId": "ed90e653-7a82-48f6-c232-1428a24e9600"
      },
      "outputs": [
        {
          "name": "stdout",
          "output_type": "stream",
          "text": [
            "+------+-----------+---------+-----------+----------------+------+\n",
            "|emp_id| first_name|last_name|     gender|     designation|salary|\n",
            "+------+-----------+---------+-----------+----------------+------+\n",
            "|   108|    Artemas| Bolsover|       Male|            null| 41185|\n",
            "|   115|     Antoni|Beveridge|       Male|   Data Engineer| 20837|\n",
            "|   124|     Angela|Kirkbride|     Female|  Human Resource| 43482|\n",
            "|   127|    Alameda|  MacNeil|     Female|           Admin| 10540|\n",
            "|   130|       Aime|   MacIan|     Female|Testing engineer|  null|\n",
            "|   156|      Angil|  Shimman|     Female|           Sales| 40145|\n",
            "|   160|     Austin|Tincknell|     Female|            null| 45436|\n",
            "|   170|      Addia|     null|Genderfluid|           Admin| 16910|\n",
            "|   178|Alexandrina| Tregidgo|     Female|   Data Engineer| 37395|\n",
            "|   184|   Alasdair|  Campion|       Male|           Sales| 31193|\n",
            "|   196|      Adams|     Yaus|       Male|            null| 23976|\n",
            "+------+-----------+---------+-----------+----------------+------+\n",
            "\n"
          ]
        }
      ],
      "source": [
        "df3.filter(df3.first_name.startswith('A')).show()"
      ]
    },
    {
      "cell_type": "markdown",
      "metadata": {
        "id": "xV8JXrKc3Ahm"
      },
      "source": [
        "**Filter based on ends with**"
      ]
    },
    {
      "cell_type": "code",
      "execution_count": null,
      "metadata": {
        "colab": {
          "base_uri": "https://localhost:8080/"
        },
        "id": "chpkkwd_3Fw-",
        "outputId": "48424cd9-1e44-4f27-fdc7-2e276de4aaca"
      },
      "outputs": [
        {
          "name": "stdout",
          "output_type": "stream",
          "text": [
            "+------+----------+---------+------+----------------+------+\n",
            "|emp_id|first_name|last_name|gender|     designation|salary|\n",
            "+------+----------+---------+------+----------------+------+\n",
            "|   110|    Dulsea|  Esilmon|Female|   Data Engineer| 29043|\n",
            "|   112|   Clarita|Grollmann|Female|           Sales| 12377|\n",
            "|   114| Christean|     Senn|Female|           Admin| 22343|\n",
            "|   117|      Dolf|Dumpleton|  Male|           Sales| 20597|\n",
            "|   122|     Dredi|  Jeandon|Female|           Admin| 32729|\n",
            "|   128|     Grete|   Beaven|Female|   Data Engineer| 23312|\n",
            "|   130|      Aime|   MacIan|Female|Testing engineer|  null|\n",
            "|   134|      Mada|   Hoggan|Female|           Sales|  null|\n",
            "|   144|   Sherrie|   Harron|Female|   Data Engineer| 18994|\n",
            "|   154|  Madeline|  Wagenen|Female|           Admin| 11224|\n",
            "|   156|     Angil|  Shimman|Female|           Sales| 40145|\n",
            "|   157|   Maurits| Lerhinan|  Male|           Sales| 33757|\n",
            "|   164|   Chelsea|   Dixson|Female|Testing engineer| 12369|\n",
            "|   183|     Odele| Dummigan|Female|            null|  null|\n",
            "|   184|  Alasdair|  Campion|  Male|           Sales| 31193|\n",
            "|   189|      Oliy|     Juan|Female|Testing engineer| 29649|\n",
            "+------+----------+---------+------+----------------+------+\n",
            "\n"
          ]
        }
      ],
      "source": [
        "df3.filter(df3.last_name.endswith('n')).show()"
      ]
    },
    {
      "cell_type": "markdown",
      "metadata": {
        "id": "Ssh7lPwR3RFD"
      },
      "source": [
        "**Filter based on contains**"
      ]
    },
    {
      "cell_type": "code",
      "execution_count": null,
      "metadata": {
        "colab": {
          "base_uri": "https://localhost:8080/"
        },
        "id": "SzsMvHRu3WEt",
        "outputId": "1afe2f98-d908-4f1b-e011-f3b493972385"
      },
      "outputs": [
        {
          "name": "stdout",
          "output_type": "stream",
          "text": [
            "+------+-----------+---------+-----------+-------------+------+\n",
            "|emp_id| first_name|last_name|     gender|  designation|salary|\n",
            "+------+-----------+---------+-----------+-------------+------+\n",
            "|   104|       Ulla|    Bound|     Female|Data Engineer|  null|\n",
            "|   105|     Korney|   Lomath|     Female|Data Engineer| 41360|\n",
            "|   109|    Kerstin| De Meyer|Genderqueer|Data Engineer| 34899|\n",
            "|   110|     Dulsea|  Esilmon|     Female|Data Engineer| 29043|\n",
            "|   115|     Antoni|Beveridge|       Male|Data Engineer| 20837|\n",
            "|   128|      Grete|   Beaven|     Female|Data Engineer| 23312|\n",
            "|   133|   Lorianne|   Dooney|     Female|Data Engineer| 16747|\n",
            "|   139|     Patton|     null|       Male|Data Engineer| 36191|\n",
            "|   141|   Waldemar|   Krabbe|       Male|Data Engineer| 49930|\n",
            "|   143|       Dene|   Pottie|       Male|Data Engineer| 13218|\n",
            "|   144|    Sherrie|   Harron|     Female|Data Engineer| 18994|\n",
            "|   148|    Othello|  Darnody|       Male|Data Engineer| 26357|\n",
            "|   149|     Odella|  Carhart|     Female|Data Engineer| 29034|\n",
            "|   159|       Niko|   Copins|       Male|Data Engineer| 31192|\n",
            "|   162|    Lindsay|    Semor|   Bigender|Data Engineer| 17544|\n",
            "|   163|      Merci|     null|     Female|Data Engineer| 28762|\n",
            "|   172|      Smith|  Tilsley|       Male|Data Engineer|  null|\n",
            "|   178|Alexandrina| Tregidgo|     Female|Data Engineer| 37395|\n",
            "|   195|       Raye|     null|     Female|Data Engineer| 16887|\n",
            "+------+-----------+---------+-----------+-------------+------+\n",
            "\n"
          ]
        }
      ],
      "source": [
        "df3.filter(df3.designation.contains('Engineer')).show()"
      ]
    },
    {
      "cell_type": "markdown",
      "metadata": {
        "id": "24d2dyIo3jaz"
      },
      "source": [
        "**Filter like()**"
      ]
    },
    {
      "cell_type": "code",
      "execution_count": null,
      "metadata": {
        "colab": {
          "base_uri": "https://localhost:8080/"
        },
        "id": "HCGVaQ7E6bsw",
        "outputId": "b3ca2eb7-853a-4a82-94ce-9a6b295cad7f"
      },
      "outputs": [
        {
          "name": "stdout",
          "output_type": "stream",
          "text": [
            "+------+----------+---------+------+----------------+------+\n",
            "|emp_id|first_name|last_name|gender|     designation|salary|\n",
            "+------+----------+---------+------+----------------+------+\n",
            "|   101|Washington| Clifford|  Male|  Human Resource| 34544|\n",
            "|   115|    Antoni|Beveridge|  Male|   Data Engineer| 20837|\n",
            "|   136|   Willdon|     null|  Male|           Sales| 49289|\n",
            "|   139|    Patton|     null|  Male|   Data Engineer| 36191|\n",
            "|   151|   Cheston|   Glasby|  Male|  Human Resource| 35908|\n",
            "|   174|    Donnie|     null|Female|Testing engineer| 46181|\n",
            "|   181|      Toni|   Ruffey|Female|           Sales| 11198|\n",
            "+------+----------+---------+------+----------------+------+\n",
            "\n"
          ]
        }
      ],
      "source": [
        "df3.filter(df3.first_name.like('%on%')).show()"
      ]
    },
    {
      "cell_type": "markdown",
      "metadata": {
        "id": "_ZQHdm2U6tWh"
      },
      "source": [
        "**Filter rlike()**"
      ]
    },
    {
      "cell_type": "code",
      "execution_count": null,
      "metadata": {
        "colab": {
          "base_uri": "https://localhost:8080/"
        },
        "id": "1Os0ETwd6xm3",
        "outputId": "2d3354bb-a6f6-4999-e9c4-8df5c736d0b7"
      },
      "outputs": [
        {
          "name": "stdout",
          "output_type": "stream",
          "text": [
            "+------+----------+---------+------+--------------+------+\n",
            "|emp_id|first_name|last_name|gender|   designation|salary|\n",
            "+------+----------+---------+------+--------------+------+\n",
            "|   101|Washington| Clifford|  Male|Human Resource| 34544|\n",
            "|   136|   Willdon|     null|  Male|         Sales| 49289|\n",
            "|   139|    Patton|     null|  Male| Data Engineer| 36191|\n",
            "|   151|   Cheston|   Glasby|  Male|Human Resource| 35908|\n",
            "+------+----------+---------+------+--------------+------+\n",
            "\n"
          ]
        }
      ],
      "source": [
        "df3.filter(df3.first_name.rlike('(?i)^*on$')).show()"
      ]
    },
    {
      "cell_type": "markdown",
      "metadata": {
        "id": "1RVcBd718JKM"
      },
      "source": [
        "**Data frame sorting using sort()**"
      ]
    },
    {
      "cell_type": "code",
      "execution_count": null,
      "metadata": {
        "colab": {
          "base_uri": "https://localhost:8080/"
        },
        "id": "nMDVDMmZT76k",
        "outputId": "2c904792-7833-403f-8f03-71c7610ebd36"
      },
      "outputs": [
        {
          "name": "stdout",
          "output_type": "stream",
          "text": [
            "+------+-----------+---------+-----------+----------------+------+\n",
            "|emp_id| first_name|last_name|     gender|     designation|salary|\n",
            "+------+-----------+---------+-----------+----------------+------+\n",
            "|   196|      Adams|     Yaus|       Male|            null| 23976|\n",
            "|   170|      Addia|     null|Genderfluid|           Admin| 16910|\n",
            "|   130|       Aime|   MacIan|     Female|Testing engineer|  null|\n",
            "|   127|    Alameda|  MacNeil|     Female|           Admin| 10540|\n",
            "|   184|   Alasdair|  Campion|       Male|           Sales| 31193|\n",
            "|   178|Alexandrina| Tregidgo|     Female|   Data Engineer| 37395|\n",
            "|   124|     Angela|Kirkbride|     Female|  Human Resource| 43482|\n",
            "|   156|      Angil|  Shimman|     Female|           Sales| 40145|\n",
            "|   115|     Antoni|Beveridge|       Male|   Data Engineer| 20837|\n",
            "|   108|    Artemas| Bolsover|       Male|            null| 41185|\n",
            "|   160|     Austin|Tincknell|     Female|            null| 45436|\n",
            "|   119|      Baxie|  Smewing|       Male|           Admin| 45213|\n",
            "|   125|      Betta|     null|     Female|Testing engineer| 30500|\n",
            "|   192|   Britteny|  Parkyns|     Female|  Human Resource| 15944|\n",
            "|   126|      Byrom|    Omand|       Male|  Human Resource| 46385|\n",
            "|   150|     Cesare|  Dionisi|       Male|  Human Resource| 37793|\n",
            "|   164|    Chelsea|   Dixson|     Female|Testing engineer| 12369|\n",
            "|   151|    Cheston|   Glasby|       Male|  Human Resource| 35908|\n",
            "|   114|  Christean|     Senn|     Female|           Admin| 22343|\n",
            "|   199|Christopher|     null|       Male|Testing engineer| 19699|\n",
            "+------+-----------+---------+-----------+----------------+------+\n",
            "only showing top 20 rows\n",
            "\n"
          ]
        }
      ],
      "source": [
        "df3.sort('first_name', 'designation').show()"
      ]
    },
    {
      "cell_type": "markdown",
      "metadata": {
        "id": "dH6Cx1CTUWE-"
      },
      "source": [
        "**Data frame sorting using orderBy() in ascending**"
      ]
    },
    {
      "cell_type": "code",
      "execution_count": null,
      "metadata": {
        "colab": {
          "base_uri": "https://localhost:8080/"
        },
        "id": "n8ryruCwUj2-",
        "outputId": "003beea2-ac24-491f-a5ee-add202d04446"
      },
      "outputs": [
        {
          "name": "stdout",
          "output_type": "stream",
          "text": [
            "+------+----------+---------+--------+----------------+------+\n",
            "|emp_id|first_name|last_name|  gender|     designation|salary|\n",
            "+------+----------+---------+--------+----------------+------+\n",
            "|   106|     Wanda|     null| Agender|           Sales| 29984|\n",
            "|   182|     Grata|    Drife| Agender|Testing engineer| 46602|\n",
            "|   162|   Lindsay|    Semor|Bigender|   Data Engineer| 17544|\n",
            "|   160|    Austin|Tincknell|  Female|            null| 45436|\n",
            "|   118|      Reba|   Cleall|  Female|            null| 19583|\n",
            "+------+----------+---------+--------+----------------+------+\n",
            "only showing top 5 rows\n",
            "\n"
          ]
        }
      ],
      "source": [
        "df3.orderBy(df3.gender.asc(),df3.designation.asc()).show(5)"
      ]
    },
    {
      "cell_type": "markdown",
      "metadata": {
        "id": "hZx9omgjVcVL"
      },
      "source": [
        "**Data frame sorting using orderBy in descending**"
      ]
    },
    {
      "cell_type": "code",
      "execution_count": null,
      "metadata": {
        "colab": {
          "base_uri": "https://localhost:8080/"
        },
        "id": "xT4wfxP2VqGi",
        "outputId": "0ff8a2aa-6eaa-481f-a755-58b6d0f7b5bd"
      },
      "outputs": [
        {
          "name": "stdout",
          "output_type": "stream",
          "text": [
            "+------+----------+---------+--------+----------------+------+\n",
            "|emp_id|first_name|last_name|  gender|     designation|salary|\n",
            "+------+----------+---------+--------+----------------+------+\n",
            "|   182|     Grata|    Drife| Agender|Testing engineer| 46602|\n",
            "|   106|     Wanda|     null| Agender|           Sales| 29984|\n",
            "|   162|   Lindsay|    Semor|Bigender|   Data Engineer| 17544|\n",
            "|   152|    Rebeka|    Goard|  Female|Testing engineer| 12481|\n",
            "|   102|     Letti|Rosekilly|  Female|Testing engineer| 26411|\n",
            "+------+----------+---------+--------+----------------+------+\n",
            "only showing top 5 rows\n",
            "\n"
          ]
        }
      ],
      "source": [
        "df3.orderBy(df3.gender.asc(),df3.designation.desc()).show(5)"
      ]
    },
    {
      "cell_type": "markdown",
      "metadata": {
        "id": "g6ZI7TW3jVq0"
      },
      "source": [
        "**groupBy() on Data frame**"
      ]
    },
    {
      "cell_type": "code",
      "execution_count": null,
      "metadata": {
        "colab": {
          "base_uri": "https://localhost:8080/"
        },
        "id": "W8bMNJ0AjmIl",
        "outputId": "718af5cb-76f3-4769-8007-9a66d16d955b"
      },
      "outputs": [
        {
          "name": "stdout",
          "output_type": "stream",
          "text": [
            "+----------------+------------+\n",
            "|     designation|Total Salary|\n",
            "+----------------+------------+\n",
            "|           Sales|      365781|\n",
            "|            null|      451944|\n",
            "|           Admin|      348253|\n",
            "|  Human Resource|      573320|\n",
            "|Testing engineer|      499253|\n",
            "|   Data Engineer|      471702|\n",
            "+----------------+------------+\n",
            "\n"
          ]
        }
      ],
      "source": [
        "df3.groupBy('designation').agg(sum('salary').alias('Total Salary')).show()"
      ]
    },
    {
      "cell_type": "code",
      "execution_count": null,
      "metadata": {
        "colab": {
          "base_uri": "https://localhost:8080/"
        },
        "id": "raX_tOqOkcf1",
        "outputId": "965269b0-4373-4fd0-a25a-e4bcf3d4aca8"
      },
      "outputs": [
        {
          "name": "stdout",
          "output_type": "stream",
          "text": [
            "+----------------+-----+\n",
            "|     designation|count|\n",
            "+----------------+-----+\n",
            "|           Sales|   16|\n",
            "|            null|   15|\n",
            "|           Admin|   15|\n",
            "|  Human Resource|   16|\n",
            "|Testing engineer|   19|\n",
            "|   Data Engineer|   19|\n",
            "+----------------+-----+\n",
            "\n"
          ]
        }
      ],
      "source": [
        "df3.groupBy('designation').count().show()"
      ]
    },
    {
      "cell_type": "code",
      "execution_count": null,
      "metadata": {
        "colab": {
          "base_uri": "https://localhost:8080/"
        },
        "id": "522ipFDZlFrO",
        "outputId": "95d3db7c-454d-4046-e866-cceaca01f186"
      },
      "outputs": [
        {
          "name": "stdout",
          "output_type": "stream",
          "text": [
            "+----------------+--------------+\n",
            "|     designation|Minimum Salary|\n",
            "+----------------+--------------+\n",
            "|           Sales|         11198|\n",
            "|            null|         19583|\n",
            "|           Admin|         10540|\n",
            "|  Human Resource|         15699|\n",
            "|Testing engineer|         10018|\n",
            "|   Data Engineer|         13218|\n",
            "+----------------+--------------+\n",
            "\n"
          ]
        }
      ],
      "source": [
        "df3.groupBy('designation').agg(min('salary').alias('Minimum Salary')).show()"
      ]
    },
    {
      "cell_type": "code",
      "execution_count": null,
      "metadata": {
        "colab": {
          "base_uri": "https://localhost:8080/"
        },
        "id": "UlUDqkHSlQMy",
        "outputId": "f57d4977-b3cf-40e3-8aee-c326a7e83ddf"
      },
      "outputs": [
        {
          "name": "stdout",
          "output_type": "stream",
          "text": [
            "+----------------+--------------+\n",
            "|     designation|Maximum Salary|\n",
            "+----------------+--------------+\n",
            "|           Sales|         49289|\n",
            "|            null|         49985|\n",
            "|           Admin|         48677|\n",
            "|  Human Resource|         49213|\n",
            "|Testing engineer|         47485|\n",
            "|   Data Engineer|         49930|\n",
            "+----------------+--------------+\n",
            "\n"
          ]
        }
      ],
      "source": [
        "df3.groupBy('designation').agg(max('salary').alias('Maximum Salary')).show()"
      ]
    },
    {
      "cell_type": "markdown",
      "metadata": {
        "id": "vlHnKPMQWiDd"
      },
      "source": [
        "**filter() on data frame**"
      ]
    },
    {
      "cell_type": "code",
      "execution_count": null,
      "metadata": {
        "colab": {
          "base_uri": "https://localhost:8080/"
        },
        "id": "f98N95uBzWz5",
        "outputId": "955249cc-0f14-4c3d-8e22-080d9f988408"
      },
      "outputs": [
        {
          "name": "stdout",
          "output_type": "stream",
          "text": [
            "+------+----------+---------+------+--------------+------+\n",
            "|emp_id|first_name|last_name|gender|   designation|salary|\n",
            "+------+----------+---------+------+--------------+------+\n",
            "|   101|Washington| Clifford|  Male|Human Resource| 34544|\n",
            "|   111|     Torey|     null|  Male|Human Resource| 44046|\n",
            "|   113|      Redd|    Rosel|  Male|Human Resource| 45594|\n",
            "|   124|    Angela|Kirkbride|Female|Human Resource| 43482|\n",
            "|   126|     Byrom|    Omand|  Male|Human Resource| 46385|\n",
            "+------+----------+---------+------+--------------+------+\n",
            "only showing top 5 rows\n",
            "\n"
          ]
        }
      ],
      "source": [
        "df3.filter((df3.designation == 'Human Resource')).show(5)"
      ]
    },
    {
      "cell_type": "markdown",
      "metadata": {
        "id": "IRLNUhHzWmmE"
      },
      "source": [
        "**filter() to show null values**"
      ]
    },
    {
      "cell_type": "code",
      "execution_count": null,
      "metadata": {
        "colab": {
          "base_uri": "https://localhost:8080/"
        },
        "id": "YOjzsqit2znX",
        "outputId": "e5a0c535-b6a4-40e7-d947-7eb03e3fc42f"
      },
      "outputs": [
        {
          "name": "stdout",
          "output_type": "stream",
          "text": [
            "+------+----------+----------+------+----------------+------+\n",
            "|emp_id|first_name| last_name|gender|     designation|salary|\n",
            "+------+----------+----------+------+----------------+------+\n",
            "|   104|      Ulla|     Bound|Female|   Data Engineer|  null|\n",
            "|   130|      Aime|    MacIan|Female|Testing engineer|  null|\n",
            "|   132|  Cristina|     Skypp|Female|           Sales|  null|\n",
            "|   134|      Mada|    Hoggan|Female|           Sales|  null|\n",
            "|   135|  Gamaliel|Catcheside|  Male|            null|  null|\n",
            "|   155|     Onfre|  Matteoli|  Male|           Admin|  null|\n",
            "|   172|     Smith|   Tilsley|  Male|   Data Engineer|  null|\n",
            "|   183|     Odele|  Dummigan|Female|            null|  null|\n",
            "|   186| Francoise|      Deme|Female|           Admin|  null|\n",
            "|   187|   Krystle|Giovanardi|Female|           Sales|  null|\n",
            "+------+----------+----------+------+----------------+------+\n",
            "\n"
          ]
        }
      ],
      "source": [
        "df3.filter('salary is null').show(50)"
      ]
    },
    {
      "cell_type": "code",
      "execution_count": null,
      "metadata": {
        "colab": {
          "base_uri": "https://localhost:8080/"
        },
        "id": "z30QoP-zuec8",
        "outputId": "4282802a-f40e-45cb-944c-258307d5cc30"
      },
      "outputs": [
        {
          "name": "stdout",
          "output_type": "stream",
          "text": [
            "+------+----+---------------+-----------+-----------+------+------+\n",
            "|emp_id|name|superior_emp_id|year_joined|emp_dept_id|gender|salary|\n",
            "+------+----+---------------+-----------+-----------+------+------+\n",
            "|     1|   A|             -1|       2018|         10|     M| 50000|\n",
            "|     2|   B|              1|       2010|         10|     M| 20000|\n",
            "|     3|   C|              1|       2010|         20|     M|  4000|\n",
            "|     4|   D|              2|       2005|         20|     F|  2000|\n",
            "|     5|   E|              2|       2010|         20|      |  2000|\n",
            "|     6|   F|              2|       2010|         20|      |  2000|\n",
            "|     7|   g|              2|       2010|         20|      |  1000|\n",
            "|     6|   h|              2|       2010|         30|      |  4500|\n",
            "|     6|   i|              2|       2010|         30|      |  3000|\n",
            "|     6|   j|              2|       2010|         30|      |  2500|\n",
            "|     6|   k|              2|       2010|         30|      |  2500|\n",
            "|     6|   l|              2|       2010|         30|      |  2000|\n",
            "|     6|   k|              2|       2010|         40|      |  5000|\n",
            "|     6|   m|              2|       2010|         50|      |  8000|\n",
            "+------+----+---------------+-----------+-----------+------+------+\n",
            "\n",
            "+---------+-------+\n",
            "|dept_name|dept_id|\n",
            "+---------+-------+\n",
            "|  Finance|     10|\n",
            "|Marketing|     20|\n",
            "|    Sales|     30|\n",
            "|       IT|     40|\n",
            "+---------+-------+\n",
            "\n"
          ]
        }
      ],
      "source": [
        "emp = [(1,\"A\",-1,\"2018\",\"10\",\"M\",50000), \\\n",
        "    (2,\"B\",1,\"2010\",\"10\",\"M\",20000), \\\n",
        "    (3,\"C\",1,\"2010\",\"20\",\"M\",4000), \\\n",
        "    (4,\"D\",2,\"2005\",\"20\",\"F\",2000), \\\n",
        "    (5,\"E\",2,\"2010\",\"20\",\"\",2000), \\\n",
        "      (6,\"F\",2,\"2010\",\"20\",\"\",2000), \\\n",
        "       (7,\"g\",2,\"2010\",\"20\",\"\",1000),\\\n",
        "       (6,\"h\",2,\"2010\",\"30\",\"\",4500),\\\n",
        "       (6,\"i\",2,\"2010\",\"30\",\"\",3000),\\\n",
        "       (6,\"j\",2,\"2010\",\"30\",\"\",2500),\\\n",
        "       (6,\"k\",2,\"2010\",\"30\",\"\",2500),\\\n",
        "       (6,\"l\",2,\"2010\",\"30\",\"\",2000),\\\n",
        "       (6,\"k\",2,\"2010\",\"40\",\"\",5000),\\\n",
        "       (6,\"m\",2,\"2010\",\"50\",\"\",8000)\n",
        "  ]\n",
        "empColumns = [\"emp_id\",\"name\",\"superior_emp_id\",\"year_joined\", \\\n",
        "       \"emp_dept_id\",\"gender\",\"salary\"]\n",
        "empDF = spark.createDataFrame(data=emp, schema = empColumns)\n",
        "empDF.show()\n",
        "\n",
        "dept = [(\"Finance\",10), \\\n",
        "    (\"Marketing\",20), \\\n",
        "    (\"Sales\",30), \\\n",
        "    (\"IT\",40) \\\n",
        "  ]\n",
        "deptColumns = [\"dept_name\",\"dept_id\"]\n",
        "deptDF = spark.createDataFrame(data=dept, schema = deptColumns)\n",
        "deptDF.show()"
      ]
    },
    {
      "cell_type": "markdown",
      "metadata": {
        "id": "6CXDvA8np43l"
      },
      "source": [
        "**Inner join dataframe**"
      ]
    },
    {
      "cell_type": "code",
      "execution_count": null,
      "metadata": {
        "colab": {
          "base_uri": "https://localhost:8080/"
        },
        "id": "Um7kFyP7qEdp",
        "outputId": "481e026b-83c2-44b0-8e84-a174d044e19c"
      },
      "outputs": [
        {
          "name": "stdout",
          "output_type": "stream",
          "text": [
            "+------+----+---------------+-----------+-----------+------+------+---------+-------+\n",
            "|emp_id|name|superior_emp_id|year_joined|emp_dept_id|gender|salary|dept_name|dept_id|\n",
            "+------+----+---------------+-----------+-----------+------+------+---------+-------+\n",
            "|     1|   A|             -1|       2018|         10|     M| 50000|  Finance|     10|\n",
            "|     2|   B|              1|       2010|         10|     M| 20000|  Finance|     10|\n",
            "|     3|   C|              1|       2010|         20|     M|  4000|Marketing|     20|\n",
            "|     4|   D|              2|       2005|         20|     F|  2000|Marketing|     20|\n",
            "|     5|   E|              2|       2010|         20|      |  2000|Marketing|     20|\n",
            "|     6|   F|              2|       2010|         20|      |  2000|Marketing|     20|\n",
            "|     7|   g|              2|       2010|         20|      |  1000|Marketing|     20|\n",
            "|     6|   h|              2|       2010|         30|      |  4500|    Sales|     30|\n",
            "|     6|   i|              2|       2010|         30|      |  3000|    Sales|     30|\n",
            "|     6|   j|              2|       2010|         30|      |  2500|    Sales|     30|\n",
            "|     6|   k|              2|       2010|         30|      |  2500|    Sales|     30|\n",
            "|     6|   l|              2|       2010|         30|      |  2000|    Sales|     30|\n",
            "|     6|   k|              2|       2010|         40|      |  5000|       IT|     40|\n",
            "+------+----+---------------+-----------+-----------+------+------+---------+-------+\n",
            "\n"
          ]
        }
      ],
      "source": [
        "empDF.join(deptDF,empDF.emp_dept_id ==  deptDF.dept_id,\"inner\").show()"
      ]
    },
    {
      "cell_type": "markdown",
      "metadata": {
        "id": "44CtYpzGuFrt"
      },
      "source": [
        "**Outer join data frame**"
      ]
    },
    {
      "cell_type": "code",
      "execution_count": null,
      "metadata": {
        "colab": {
          "base_uri": "https://localhost:8080/"
        },
        "id": "JUjR8ZdYuK-f",
        "outputId": "992975cd-9f31-4eae-a15c-ebd719c9360f"
      },
      "outputs": [
        {
          "name": "stdout",
          "output_type": "stream",
          "text": [
            "+------+----+---------------+-----------+-----------+------+------+---------+-------+\n",
            "|emp_id|name|superior_emp_id|year_joined|emp_dept_id|gender|salary|dept_name|dept_id|\n",
            "+------+----+---------------+-----------+-----------+------+------+---------+-------+\n",
            "|     1|   A|             -1|       2018|         10|     M| 50000|  Finance|     10|\n",
            "|     2|   B|              1|       2010|         10|     M| 20000|  Finance|     10|\n",
            "|     3|   C|              1|       2010|         20|     M|  4000|Marketing|     20|\n",
            "|     4|   D|              2|       2005|         20|     F|  2000|Marketing|     20|\n",
            "|     5|   E|              2|       2010|         20|      |  2000|Marketing|     20|\n",
            "|     6|   F|              2|       2010|         20|      |  2000|Marketing|     20|\n",
            "|     7|   g|              2|       2010|         20|      |  1000|Marketing|     20|\n",
            "|     6|   h|              2|       2010|         30|      |  4500|    Sales|     30|\n",
            "|     6|   i|              2|       2010|         30|      |  3000|    Sales|     30|\n",
            "|     6|   j|              2|       2010|         30|      |  2500|    Sales|     30|\n",
            "|     6|   k|              2|       2010|         30|      |  2500|    Sales|     30|\n",
            "|     6|   l|              2|       2010|         30|      |  2000|    Sales|     30|\n",
            "|     6|   k|              2|       2010|         40|      |  5000|       IT|     40|\n",
            "|     6|   m|              2|       2010|         50|      |  8000|     null|   null|\n",
            "+------+----+---------------+-----------+-----------+------+------+---------+-------+\n",
            "\n"
          ]
        }
      ],
      "source": [
        "empDF.join(deptDF,empDF.emp_dept_id ==  deptDF.dept_id,\"outer\").show()"
      ]
    },
    {
      "cell_type": "markdown",
      "metadata": {
        "id": "mcA1tjAju-93"
      },
      "source": [
        "**Full Join Dataframe**"
      ]
    },
    {
      "cell_type": "code",
      "execution_count": null,
      "metadata": {
        "colab": {
          "base_uri": "https://localhost:8080/"
        },
        "id": "ugwBgVxovGOT",
        "outputId": "02722fd9-0675-4e51-b12e-138bdff555fe"
      },
      "outputs": [
        {
          "name": "stdout",
          "output_type": "stream",
          "text": [
            "+------+----+---------------+-----------+-----------+------+------+---------+-------+\n",
            "|emp_id|name|superior_emp_id|year_joined|emp_dept_id|gender|salary|dept_name|dept_id|\n",
            "+------+----+---------------+-----------+-----------+------+------+---------+-------+\n",
            "|     1|   A|             -1|       2018|         10|     M| 50000|  Finance|     10|\n",
            "|     2|   B|              1|       2010|         10|     M| 20000|  Finance|     10|\n",
            "|     3|   C|              1|       2010|         20|     M|  4000|Marketing|     20|\n",
            "|     4|   D|              2|       2005|         20|     F|  2000|Marketing|     20|\n",
            "|     5|   E|              2|       2010|         20|      |  2000|Marketing|     20|\n",
            "|     6|   F|              2|       2010|         20|      |  2000|Marketing|     20|\n",
            "|     7|   g|              2|       2010|         20|      |  1000|Marketing|     20|\n",
            "|     6|   h|              2|       2010|         30|      |  4500|    Sales|     30|\n",
            "|     6|   i|              2|       2010|         30|      |  3000|    Sales|     30|\n",
            "|     6|   j|              2|       2010|         30|      |  2500|    Sales|     30|\n",
            "|     6|   k|              2|       2010|         30|      |  2500|    Sales|     30|\n",
            "|     6|   l|              2|       2010|         30|      |  2000|    Sales|     30|\n",
            "|     6|   k|              2|       2010|         40|      |  5000|       IT|     40|\n",
            "|     6|   m|              2|       2010|         50|      |  8000|     null|   null|\n",
            "+------+----+---------------+-----------+-----------+------+------+---------+-------+\n",
            "\n"
          ]
        }
      ],
      "source": [
        "empDF.join(deptDF,empDF.emp_dept_id ==  deptDF.dept_id,\"full\").show()"
      ]
    },
    {
      "cell_type": "markdown",
      "metadata": {
        "id": "FTLwPMTJvZTZ"
      },
      "source": [
        "**Fullouter Join Datframe**"
      ]
    },
    {
      "cell_type": "code",
      "execution_count": null,
      "metadata": {
        "colab": {
          "base_uri": "https://localhost:8080/"
        },
        "id": "F6D3e8Kcvdk1",
        "outputId": "5bea088e-7cdd-4243-925c-ac5ed587e709"
      },
      "outputs": [
        {
          "name": "stdout",
          "output_type": "stream",
          "text": [
            "+------+----+---------------+-----------+-----------+------+------+---------+-------+\n",
            "|emp_id|name|superior_emp_id|year_joined|emp_dept_id|gender|salary|dept_name|dept_id|\n",
            "+------+----+---------------+-----------+-----------+------+------+---------+-------+\n",
            "|     1|   A|             -1|       2018|         10|     M| 50000|  Finance|     10|\n",
            "|     2|   B|              1|       2010|         10|     M| 20000|  Finance|     10|\n",
            "|     3|   C|              1|       2010|         20|     M|  4000|Marketing|     20|\n",
            "|     4|   D|              2|       2005|         20|     F|  2000|Marketing|     20|\n",
            "|     5|   E|              2|       2010|         20|      |  2000|Marketing|     20|\n",
            "|     6|   F|              2|       2010|         20|      |  2000|Marketing|     20|\n",
            "|     7|   g|              2|       2010|         20|      |  1000|Marketing|     20|\n",
            "|     6|   h|              2|       2010|         30|      |  4500|    Sales|     30|\n",
            "|     6|   i|              2|       2010|         30|      |  3000|    Sales|     30|\n",
            "|     6|   j|              2|       2010|         30|      |  2500|    Sales|     30|\n",
            "|     6|   k|              2|       2010|         30|      |  2500|    Sales|     30|\n",
            "|     6|   l|              2|       2010|         30|      |  2000|    Sales|     30|\n",
            "|     6|   k|              2|       2010|         40|      |  5000|       IT|     40|\n",
            "|     6|   m|              2|       2010|         50|      |  8000|     null|   null|\n",
            "+------+----+---------------+-----------+-----------+------+------+---------+-------+\n",
            "\n"
          ]
        }
      ],
      "source": [
        "empDF.join(deptDF,empDF.emp_dept_id ==  deptDF.dept_id,\"fullouter\").show()"
      ]
    },
    {
      "cell_type": "markdown",
      "metadata": {
        "id": "PRGWwFoovwBz"
      },
      "source": [
        "**Left Join Dataframe**"
      ]
    },
    {
      "cell_type": "code",
      "execution_count": null,
      "metadata": {
        "colab": {
          "base_uri": "https://localhost:8080/"
        },
        "id": "T9hXdFN8v1ea",
        "outputId": "5de28034-8afc-4bd9-b610-284f88fa9bb1"
      },
      "outputs": [
        {
          "name": "stdout",
          "output_type": "stream",
          "text": [
            "+------+----+---------------+-----------+-----------+------+------+---------+-------+\n",
            "|emp_id|name|superior_emp_id|year_joined|emp_dept_id|gender|salary|dept_name|dept_id|\n",
            "+------+----+---------------+-----------+-----------+------+------+---------+-------+\n",
            "|     6|   m|              2|       2010|         50|      |  8000|     null|   null|\n",
            "|     1|   A|             -1|       2018|         10|     M| 50000|  Finance|     10|\n",
            "|     2|   B|              1|       2010|         10|     M| 20000|  Finance|     10|\n",
            "|     6|   h|              2|       2010|         30|      |  4500|    Sales|     30|\n",
            "|     6|   i|              2|       2010|         30|      |  3000|    Sales|     30|\n",
            "|     6|   j|              2|       2010|         30|      |  2500|    Sales|     30|\n",
            "|     6|   k|              2|       2010|         30|      |  2500|    Sales|     30|\n",
            "|     6|   l|              2|       2010|         30|      |  2000|    Sales|     30|\n",
            "|     3|   C|              1|       2010|         20|     M|  4000|Marketing|     20|\n",
            "|     4|   D|              2|       2005|         20|     F|  2000|Marketing|     20|\n",
            "|     5|   E|              2|       2010|         20|      |  2000|Marketing|     20|\n",
            "|     6|   F|              2|       2010|         20|      |  2000|Marketing|     20|\n",
            "|     7|   g|              2|       2010|         20|      |  1000|Marketing|     20|\n",
            "|     6|   k|              2|       2010|         40|      |  5000|       IT|     40|\n",
            "+------+----+---------------+-----------+-----------+------+------+---------+-------+\n",
            "\n"
          ]
        }
      ],
      "source": [
        "empDF.join(deptDF,empDF.emp_dept_id ==  deptDF.dept_id,\"left\").show()"
      ]
    },
    {
      "cell_type": "markdown",
      "metadata": {
        "id": "SvNURruuwBss"
      },
      "source": [
        "**Leftouter Join Dataframe**"
      ]
    },
    {
      "cell_type": "code",
      "execution_count": null,
      "metadata": {
        "colab": {
          "base_uri": "https://localhost:8080/"
        },
        "id": "5feixnj1wHGM",
        "outputId": "c04e38d8-6f8f-4eb3-d586-286e0e056935"
      },
      "outputs": [
        {
          "name": "stdout",
          "output_type": "stream",
          "text": [
            "+------+----+---------------+-----------+-----------+------+------+---------+-------+\n",
            "|emp_id|name|superior_emp_id|year_joined|emp_dept_id|gender|salary|dept_name|dept_id|\n",
            "+------+----+---------------+-----------+-----------+------+------+---------+-------+\n",
            "|     6|   m|              2|       2010|         50|      |  8000|     null|   null|\n",
            "|     1|   A|             -1|       2018|         10|     M| 50000|  Finance|     10|\n",
            "|     2|   B|              1|       2010|         10|     M| 20000|  Finance|     10|\n",
            "|     6|   h|              2|       2010|         30|      |  4500|    Sales|     30|\n",
            "|     6|   i|              2|       2010|         30|      |  3000|    Sales|     30|\n",
            "|     6|   j|              2|       2010|         30|      |  2500|    Sales|     30|\n",
            "|     6|   k|              2|       2010|         30|      |  2500|    Sales|     30|\n",
            "|     6|   l|              2|       2010|         30|      |  2000|    Sales|     30|\n",
            "|     3|   C|              1|       2010|         20|     M|  4000|Marketing|     20|\n",
            "|     4|   D|              2|       2005|         20|     F|  2000|Marketing|     20|\n",
            "|     5|   E|              2|       2010|         20|      |  2000|Marketing|     20|\n",
            "|     6|   F|              2|       2010|         20|      |  2000|Marketing|     20|\n",
            "|     7|   g|              2|       2010|         20|      |  1000|Marketing|     20|\n",
            "|     6|   k|              2|       2010|         40|      |  5000|       IT|     40|\n",
            "+------+----+---------------+-----------+-----------+------+------+---------+-------+\n",
            "\n"
          ]
        }
      ],
      "source": [
        "empDF.join(deptDF,empDF.emp_dept_id ==  deptDF.dept_id,\"leftouter\").show()"
      ]
    },
    {
      "cell_type": "markdown",
      "metadata": {
        "id": "FZPc4djxwV8d"
      },
      "source": [
        "**Right Join Dataframe**"
      ]
    },
    {
      "cell_type": "code",
      "execution_count": null,
      "metadata": {
        "colab": {
          "base_uri": "https://localhost:8080/"
        },
        "id": "GNyupCwGweL6",
        "outputId": "2f4525dd-8e11-4e7b-b1dc-58faea2e350a"
      },
      "outputs": [
        {
          "name": "stdout",
          "output_type": "stream",
          "text": [
            "+------+----+---------------+-----------+-----------+------+------+---------+-------+\n",
            "|emp_id|name|superior_emp_id|year_joined|emp_dept_id|gender|salary|dept_name|dept_id|\n",
            "+------+----+---------------+-----------+-----------+------+------+---------+-------+\n",
            "|     2|   B|              1|       2010|         10|     M| 20000|  Finance|     10|\n",
            "|     1|   A|             -1|       2018|         10|     M| 50000|  Finance|     10|\n",
            "|     6|   l|              2|       2010|         30|      |  2000|    Sales|     30|\n",
            "|     6|   k|              2|       2010|         30|      |  2500|    Sales|     30|\n",
            "|     6|   j|              2|       2010|         30|      |  2500|    Sales|     30|\n",
            "|     6|   i|              2|       2010|         30|      |  3000|    Sales|     30|\n",
            "|     6|   h|              2|       2010|         30|      |  4500|    Sales|     30|\n",
            "|     7|   g|              2|       2010|         20|      |  1000|Marketing|     20|\n",
            "|     6|   F|              2|       2010|         20|      |  2000|Marketing|     20|\n",
            "|     5|   E|              2|       2010|         20|      |  2000|Marketing|     20|\n",
            "|     4|   D|              2|       2005|         20|     F|  2000|Marketing|     20|\n",
            "|     3|   C|              1|       2010|         20|     M|  4000|Marketing|     20|\n",
            "|     6|   k|              2|       2010|         40|      |  5000|       IT|     40|\n",
            "+------+----+---------------+-----------+-----------+------+------+---------+-------+\n",
            "\n"
          ]
        }
      ],
      "source": [
        "empDF.join(deptDF, empDF.emp_dept_id == deptDF.dept_id,\"right\").show()"
      ]
    },
    {
      "cell_type": "markdown",
      "metadata": {
        "id": "CI5KH5lVzEy0"
      },
      "source": [
        "**Right Outer join Dataframe**"
      ]
    },
    {
      "cell_type": "code",
      "execution_count": null,
      "metadata": {
        "colab": {
          "base_uri": "https://localhost:8080/"
        },
        "id": "NFzSCKdszMDf",
        "outputId": "3d5ea555-49d8-4926-9956-959396db91ec"
      },
      "outputs": [
        {
          "name": "stdout",
          "output_type": "stream",
          "text": [
            "+------+----+---------------+-----------+-----------+------+------+---------+-------+\n",
            "|emp_id|name|superior_emp_id|year_joined|emp_dept_id|gender|salary|dept_name|dept_id|\n",
            "+------+----+---------------+-----------+-----------+------+------+---------+-------+\n",
            "|     2|   B|              1|       2010|         10|     M| 20000|  Finance|     10|\n",
            "|     1|   A|             -1|       2018|         10|     M| 50000|  Finance|     10|\n",
            "|     6|   l|              2|       2010|         30|      |  2000|    Sales|     30|\n",
            "|     6|   k|              2|       2010|         30|      |  2500|    Sales|     30|\n",
            "|     6|   j|              2|       2010|         30|      |  2500|    Sales|     30|\n",
            "|     6|   i|              2|       2010|         30|      |  3000|    Sales|     30|\n",
            "|     6|   h|              2|       2010|         30|      |  4500|    Sales|     30|\n",
            "|     7|   g|              2|       2010|         20|      |  1000|Marketing|     20|\n",
            "|     6|   F|              2|       2010|         20|      |  2000|Marketing|     20|\n",
            "|     5|   E|              2|       2010|         20|      |  2000|Marketing|     20|\n",
            "|     4|   D|              2|       2005|         20|     F|  2000|Marketing|     20|\n",
            "|     3|   C|              1|       2010|         20|     M|  4000|Marketing|     20|\n",
            "|     6|   k|              2|       2010|         40|      |  5000|       IT|     40|\n",
            "+------+----+---------------+-----------+-----------+------+------+---------+-------+\n",
            "\n"
          ]
        }
      ],
      "source": [
        "empDF.join(deptDF, empDF.emp_dept_id == deptDF.dept_id, 'rightouter').show()"
      ]
    },
    {
      "cell_type": "markdown",
      "metadata": {
        "id": "g5Vh990qzu56"
      },
      "source": [
        "**Left Semi join Dataframe**"
      ]
    },
    {
      "cell_type": "code",
      "execution_count": null,
      "metadata": {
        "colab": {
          "base_uri": "https://localhost:8080/"
        },
        "id": "xa8q3dH70Aoh",
        "outputId": "96c1b674-7f08-431b-e326-9dd29c8d858a"
      },
      "outputs": [
        {
          "name": "stdout",
          "output_type": "stream",
          "text": [
            "+------+----+---------------+-----------+-----------+------+------+\n",
            "|emp_id|name|superior_emp_id|year_joined|emp_dept_id|gender|salary|\n",
            "+------+----+---------------+-----------+-----------+------+------+\n",
            "|     1|   A|             -1|       2018|         10|     M| 50000|\n",
            "|     2|   B|              1|       2010|         10|     M| 20000|\n",
            "|     3|   C|              1|       2010|         20|     M|  4000|\n",
            "|     4|   D|              2|       2005|         20|     F|  2000|\n",
            "|     5|   E|              2|       2010|         20|      |  2000|\n",
            "|     6|   F|              2|       2010|         20|      |  2000|\n",
            "|     7|   g|              2|       2010|         20|      |  1000|\n",
            "|     6|   h|              2|       2010|         30|      |  4500|\n",
            "|     6|   i|              2|       2010|         30|      |  3000|\n",
            "|     6|   j|              2|       2010|         30|      |  2500|\n",
            "|     6|   k|              2|       2010|         30|      |  2500|\n",
            "|     6|   l|              2|       2010|         30|      |  2000|\n",
            "|     6|   k|              2|       2010|         40|      |  5000|\n",
            "+------+----+---------------+-----------+-----------+------+------+\n",
            "\n",
            "+------+----+---------------+-----------+-----------+------+------+---------+-------+\n",
            "|emp_id|name|superior_emp_id|year_joined|emp_dept_id|gender|salary|dept_name|dept_id|\n",
            "+------+----+---------------+-----------+-----------+------+------+---------+-------+\n",
            "|     1|   A|             -1|       2018|         10|     M| 50000|  Finance|     10|\n",
            "|     2|   B|              1|       2010|         10|     M| 20000|  Finance|     10|\n",
            "|     3|   C|              1|       2010|         20|     M|  4000|Marketing|     20|\n",
            "|     4|   D|              2|       2005|         20|     F|  2000|Marketing|     20|\n",
            "|     5|   E|              2|       2010|         20|      |  2000|Marketing|     20|\n",
            "|     6|   F|              2|       2010|         20|      |  2000|Marketing|     20|\n",
            "|     7|   g|              2|       2010|         20|      |  1000|Marketing|     20|\n",
            "|     6|   h|              2|       2010|         30|      |  4500|    Sales|     30|\n",
            "|     6|   i|              2|       2010|         30|      |  3000|    Sales|     30|\n",
            "|     6|   j|              2|       2010|         30|      |  2500|    Sales|     30|\n",
            "|     6|   k|              2|       2010|         30|      |  2500|    Sales|     30|\n",
            "|     6|   l|              2|       2010|         30|      |  2000|    Sales|     30|\n",
            "|     6|   k|              2|       2010|         40|      |  5000|       IT|     40|\n",
            "+------+----+---------------+-----------+-----------+------+------+---------+-------+\n",
            "\n"
          ]
        }
      ],
      "source": [
        "empDF.join(deptDF, empDF.emp_dept_id == deptDF.dept_id, 'leftsemi').show()\n",
        "empDF.join(deptDF, empDF.emp_dept_id == deptDF.dept_id, 'inner').show()"
      ]
    },
    {
      "cell_type": "markdown",
      "metadata": {
        "id": "rqNqzMM6028l"
      },
      "source": [
        "**Left Anti Join Dataframe**"
      ]
    },
    {
      "cell_type": "code",
      "execution_count": null,
      "metadata": {
        "colab": {
          "base_uri": "https://localhost:8080/"
        },
        "id": "ssYe9L7N08Fs",
        "outputId": "0e13131d-4443-414b-d8b8-ff6f0e6f6a0c"
      },
      "outputs": [
        {
          "name": "stdout",
          "output_type": "stream",
          "text": [
            "+------+----+---------------+-----------+-----------+------+------+\n",
            "|emp_id|name|superior_emp_id|year_joined|emp_dept_id|gender|salary|\n",
            "+------+----+---------------+-----------+-----------+------+------+\n",
            "|     1|   A|             -1|       2018|         10|     M| 50000|\n",
            "|     2|   B|              1|       2010|         10|     M| 20000|\n",
            "|     3|   C|              1|       2010|         20|     M|  4000|\n",
            "|     4|   D|              2|       2005|         20|     F|  2000|\n",
            "|     5|   E|              2|       2010|         20|      |  2000|\n",
            "|     6|   F|              2|       2010|         20|      |  2000|\n",
            "|     7|   g|              2|       2010|         20|      |  1000|\n",
            "|     6|   h|              2|       2010|         30|      |  4500|\n",
            "|     6|   i|              2|       2010|         30|      |  3000|\n",
            "|     6|   j|              2|       2010|         30|      |  2500|\n",
            "|     6|   k|              2|       2010|         30|      |  2500|\n",
            "|     6|   l|              2|       2010|         30|      |  2000|\n",
            "|     6|   k|              2|       2010|         40|      |  5000|\n",
            "+------+----+---------------+-----------+-----------+------+------+\n",
            "\n",
            "+------+----+---------------+-----------+-----------+------+------+\n",
            "|emp_id|name|superior_emp_id|year_joined|emp_dept_id|gender|salary|\n",
            "+------+----+---------------+-----------+-----------+------+------+\n",
            "|     6|   m|              2|       2010|         50|      |  8000|\n",
            "+------+----+---------------+-----------+-----------+------+------+\n",
            "\n"
          ]
        }
      ],
      "source": [
        "empDF.join(deptDF, empDF.emp_dept_id == deptDF.dept_id, 'leftsemi').show()\n",
        "empDF.join(deptDF, empDF.emp_dept_id == deptDF.dept_id, 'leftanti').show()"
      ]
    },
    {
      "cell_type": "markdown",
      "metadata": {
        "id": "gRV6uJnR6YuN"
      },
      "source": [
        "**Self Join Dataframe**"
      ]
    },
    {
      "cell_type": "code",
      "execution_count": null,
      "metadata": {
        "colab": {
          "base_uri": "https://localhost:8080/"
        },
        "id": "aalYc_9_8VJv",
        "outputId": "077682b2-5ffc-4298-ccb9-f7ff8eb8158c"
      },
      "outputs": [
        {
          "name": "stdout",
          "output_type": "stream",
          "text": [
            "+------+----+----------+------------+\n",
            "|emp_id|name|Manager_id|Manager_name|\n",
            "+------+----+----------+------------+\n",
            "|     2|   B|         1|           A|\n",
            "|     3|   C|         1|           A|\n",
            "|     4|   D|         2|           B|\n",
            "|     5|   E|         2|           B|\n",
            "|     6|   F|         2|           B|\n",
            "|     7|   g|         2|           B|\n",
            "|     6|   h|         2|           B|\n",
            "|     6|   i|         2|           B|\n",
            "|     6|   j|         2|           B|\n",
            "|     6|   k|         2|           B|\n",
            "|     6|   l|         2|           B|\n",
            "|     6|   k|         2|           B|\n",
            "|     6|   m|         2|           B|\n",
            "+------+----+----------+------------+\n",
            "\n"
          ]
        }
      ],
      "source": [
        "empDF.alias('tbl1').join(empDF.alias('tbl2'), col('tbl1.superior_emp_id') == col('tbl2.emp_id'),\"inner\") \\\n",
        "      .select(col('tbl1.emp_id'),col('tbl1.name'), \\\n",
        "      col('tbl2.emp_id').alias('Manager_id'),col('tbl2.name').alias('Manager_name')) \\\n",
        "   .show()"
      ]
    },
    {
      "cell_type": "markdown",
      "metadata": {
        "id": "e_HY_brFADam"
      },
      "source": [
        "**Merge two data frame having same schema using Union()**"
      ]
    },
    {
      "cell_type": "code",
      "execution_count": null,
      "metadata": {
        "id": "qrQzHdEwAS0Q"
      },
      "outputs": [],
      "source": [
        "empDF_1 = spark.read.csv('empDF_1.csv',header= True)\n",
        "empDF_2 = spark.read.csv('empDF_2.csv',header= True)"
      ]
    },
    {
      "cell_type": "code",
      "execution_count": null,
      "metadata": {
        "colab": {
          "base_uri": "https://localhost:8080/"
        },
        "id": "HG3Y96h7ApWg",
        "outputId": "f19a1b55-8be2-4b9d-93b7-685ca6fcf02d"
      },
      "outputs": [
        {
          "name": "stdout",
          "output_type": "stream",
          "text": [
            "+---+----------+---------+--------------------+--------+\n",
            "| id|first_name|last_name|               email|  gender|\n",
            "+---+----------+---------+--------------------+--------+\n",
            "|  1|     Lyman|    Juett|     ljuett0@tiny.cc|Bigender|\n",
            "|  2|  Caterina|    Ruoss|cruoss1@theglobea...|  Female|\n",
            "|  3| Guglielma|     Robb|grobb2@deviantart...|  Female|\n",
            "|  4|       Evy|    Duthy|   eduthy3@wired.com|  Female|\n",
            "|  5|       Jen|   Synnot|    jsynnot4@wix.com|  Female|\n",
            "|  6|       Ted| Bouchard|tbouchard5@paypal...|    Male|\n",
            "|  7|     Lenka|Rosenfeld|lrosenfeld6@123-r...|  Female|\n",
            "|  8|       Vic|  Redshaw|vredshaw7@freeweb...|    Male|\n",
            "|  9|    Martha| Forseith|mforseith8@auda.o...|  Female|\n",
            "| 10|    Austin| Tweddell|atweddell9@friend...|  Female|\n",
            "|  1|    Leonid|    Alwin|  lalwin0@utexas.edu|    Male|\n",
            "|  2|     Drusy|Duckhouse|dduckhouse1@wikis...|  Female|\n",
            "|  3|    Gareth|   Porter|gporter2@oaic.gov.au|    Male|\n",
            "|  4|  Teresita| Yeabsley|tyeabsley3@canalb...|  Female|\n",
            "|  5|    Burlie|   McBean|bmcbean4@harvard.edu|    Male|\n",
            "|  6|     Welsh|   Nisius|wnisius5@imagesha...|    Male|\n",
            "|  7|     Burty|De Cleyne|  bdecleyne6@nyu.edu|    Male|\n",
            "|  8|   Genevra|    Moatt| gmoatt7@godaddy.com|  Female|\n",
            "|  9|   Dalenna| Zumbusch|dzumbusch8@spring...|  Female|\n",
            "| 10|     Weber|  Blazeby|wblazeby9@statcou...|    Male|\n",
            "+---+----------+---------+--------------------+--------+\n",
            "only showing top 20 rows\n",
            "\n"
          ]
        }
      ],
      "source": [
        "unionDF = empDF_1.union(empDF_2)\n",
        "unionDF.show()"
      ]
    },
    {
      "cell_type": "markdown",
      "metadata": {
        "id": "epXqXGE9FdVx"
      },
      "source": [
        "**sample() on data frame**"
      ]
    },
    {
      "cell_type": "code",
      "execution_count": null,
      "metadata": {
        "colab": {
          "base_uri": "https://localhost:8080/"
        },
        "id": "G0SvmB3oFmYQ",
        "outputId": "39718ffd-a067-43d2-a6e8-e85d2a5429b0"
      },
      "outputs": [
        {
          "name": "stdout",
          "output_type": "stream",
          "text": [
            "[Row(emp_id=1, name='A', superior_emp_id=-1, year_joined='2018', emp_dept_id='10', gender='M', salary=50000), Row(emp_id=2, name='B', superior_emp_id=1, year_joined='2010', emp_dept_id='10', gender='M', salary=20000), Row(emp_id=3, name='C', superior_emp_id=1, year_joined='2010', emp_dept_id='20', gender='M', salary=4000), Row(emp_id=6, name='j', superior_emp_id=2, year_joined='2010', emp_dept_id='30', gender='', salary=2500), Row(emp_id=6, name='k', superior_emp_id=2, year_joined='2010', emp_dept_id='30', gender='', salary=2500), Row(emp_id=6, name='l', superior_emp_id=2, year_joined='2010', emp_dept_id='30', gender='', salary=2000), Row(emp_id=6, name='m', superior_emp_id=2, year_joined='2010', emp_dept_id='50', gender='', salary=8000)]\n"
          ]
        }
      ],
      "source": [
        "print(empDF.sample(0.5).collect())"
      ]
    },
    {
      "cell_type": "code",
      "execution_count": null,
      "metadata": {
        "colab": {
          "base_uri": "https://localhost:8080/"
        },
        "id": "XfyasOR2GnQE",
        "outputId": "266eb37e-024f-491c-dcfb-81126108646f"
      },
      "outputs": [
        {
          "name": "stdout",
          "output_type": "stream",
          "text": [
            "[Row(emp_id=1, name='A', superior_emp_id=-1, year_joined='2018', emp_dept_id='10', gender='M', salary=50000), Row(emp_id=5, name='E', superior_emp_id=2, year_joined='2010', emp_dept_id='20', gender='', salary=2000), Row(emp_id=6, name='F', superior_emp_id=2, year_joined='2010', emp_dept_id='20', gender='', salary=2000), Row(emp_id=6, name='j', superior_emp_id=2, year_joined='2010', emp_dept_id='30', gender='', salary=2500), Row(emp_id=6, name='l', superior_emp_id=2, year_joined='2010', emp_dept_id='30', gender='', salary=2000), Row(emp_id=6, name='k', superior_emp_id=2, year_joined='2010', emp_dept_id='40', gender='', salary=5000)]\n"
          ]
        }
      ],
      "source": [
        "print(empDF.sample(0.5, 10).collect())"
      ]
    },
    {
      "cell_type": "markdown",
      "metadata": {
        "id": "u3SRwbcka-g6"
      },
      "source": [
        "**when() function on data frame**"
      ]
    },
    {
      "cell_type": "code",
      "execution_count": null,
      "metadata": {
        "colab": {
          "base_uri": "https://localhost:8080/"
        },
        "id": "qmtO7Dk3vH-Q",
        "outputId": "e7bb7c64-9379-45b7-a554-07bd0c8bb3fc"
      },
      "outputs": [
        {
          "name": "stdout",
          "output_type": "stream",
          "text": [
            "+------+----+---------------+-----------+-----------+------+------+-------+\n",
            "|emp_id|name|superior_emp_id|year_joined|emp_dept_id|gender|salary|  level|\n",
            "+------+----+---------------+-----------+-----------+------+------+-------+\n",
            "|     1|   A|             -1|       2018|         10|     M| 50000|Level_3|\n",
            "|     2|   B|              1|       2010|         10|     M| 20000|Level_3|\n",
            "|     3|   C|              1|       2010|         20|     M|  4000|Level_2|\n",
            "|     4|   D|              2|       2005|         20|     F|  2000|Level_1|\n",
            "|     5|   E|              2|       2010|         20|      |  2000|Level_1|\n",
            "|     6|   F|              2|       2010|         20|      |  2000|Level_1|\n",
            "|     7|   g|              2|       2010|         20|      |  1000|Level_1|\n",
            "|     6|   h|              2|       2010|         30|      |  4500|Level_3|\n",
            "|     6|   i|              2|       2010|         30|      |  3000|Level_2|\n",
            "|     6|   j|              2|       2010|         30|      |  2500|Level_2|\n",
            "|     6|   k|              2|       2010|         30|      |  2500|Level_2|\n",
            "|     6|   l|              2|       2010|         30|      |  2000|Level_1|\n",
            "|     6|   k|              2|       2010|         40|      |  5000|Level_3|\n",
            "|     6|   m|              2|       2010|         50|      |  8000|Level_3|\n",
            "+------+----+---------------+-----------+-----------+------+------+-------+\n",
            "\n"
          ]
        }
      ],
      "source": [
        "empDF.withColumn('level', when(empDF.salary < 2500, 'Level_1')\n",
        "                         .when((empDF.salary >= 2500) & (empDF.salary <= 4000), 'Level_2')\n",
        "                         .when(empDF.salary > 4000, 'Level_3')).show(50)"
      ]
    },
    {
      "cell_type": "markdown",
      "metadata": {
        "id": "CTjDpM30br9w"
      },
      "source": [
        "**SQL CASE WHEN with expr()**"
      ]
    },
    {
      "cell_type": "code",
      "execution_count": null,
      "metadata": {
        "colab": {
          "base_uri": "https://localhost:8080/"
        },
        "id": "BZg0bo7Y2dSe",
        "outputId": "7755e04a-1081-4d26-e940-2228d8370c5d"
      },
      "outputs": [
        {
          "name": "stdout",
          "output_type": "stream",
          "text": [
            "+------+----+---------------+-----------+-----------+------+------+---------+\n",
            "|emp_id|name|superior_emp_id|year_joined|emp_dept_id|gender|salary|dept_name|\n",
            "+------+----+---------------+-----------+-----------+------+------+---------+\n",
            "|     1|   A|             -1|       2018|         10|     M| 50000|    Admin|\n",
            "|     2|   B|              1|       2010|         10|     M| 20000|    Admin|\n",
            "|     3|   C|              1|       2010|         20|     M|  4000|    Sales|\n",
            "|     4|   D|              2|       2005|         20|     F|  2000|    Sales|\n",
            "|     5|   E|              2|       2010|         20|      |  2000|    Sales|\n",
            "|     6|   F|              2|       2010|         20|      |  2000|    Sales|\n",
            "|     7|   g|              2|       2010|         20|      |  1000|    Sales|\n",
            "|     6|   h|              2|       2010|         30|      |  4500|     Tech|\n",
            "|     6|   i|              2|       2010|         30|      |  3000|     Tech|\n",
            "|     6|   j|              2|       2010|         30|      |  2500|     Tech|\n",
            "|     6|   k|              2|       2010|         30|      |  2500|     Tech|\n",
            "|     6|   l|              2|       2010|         30|      |  2000|     Tech|\n",
            "|     6|   k|              2|       2010|         40|      |  5000|       40|\n",
            "|     6|   m|              2|       2010|         50|      |  8000|       50|\n",
            "+------+----+---------------+-----------+-----------+------+------+---------+\n",
            "\n"
          ]
        }
      ],
      "source": [
        "from pyspark.sql.functions import expr\n",
        "\n",
        "empDF.withColumn('dept_name', expr(\"CASE WHEN emp_dept_id = 10 THEN 'Admin'\"\n",
        "                                   \"WHEN emp_dept_id = 20 THEN 'Sales'\"\n",
        "                                   \"WHEN emp_dept_id = 30 THEN 'Tech'\"\n",
        "                                   \"ELSE emp_dept_id END\")).show()"
      ]
    },
    {
      "cell_type": "markdown",
      "metadata": {
        "id": "orHqw0_Dh_4D"
      },
      "source": [
        "**regexp_replace() function on data frame**"
      ]
    },
    {
      "cell_type": "code",
      "execution_count": null,
      "metadata": {
        "colab": {
          "base_uri": "https://localhost:8080/"
        },
        "id": "V4WRkJ4Wgovk",
        "outputId": "65443b10-8f13-427c-c9c1-df2848fa79f8"
      },
      "outputs": [
        {
          "name": "stdout",
          "output_type": "stream",
          "text": [
            "+---+----------+---------+--------------------+--------+\n",
            "| id|first_name|last_name|               email|  gender|\n",
            "+---+----------+---------+--------------------+--------+\n",
            "|  1|     Lyman|    Juett|    ljuett0@tiny.com|Bigender|\n",
            "|  2|  Caterina|    Ruoss|cruoss1@theglobea...|  Female|\n",
            "|  3| Guglielma|     Robb|grobb2@deviantart...|  Female|\n",
            "|  4|       Evy|    Duthy|   eduthy3@wired.com|  Female|\n",
            "|  5|       Jen|   Synnot|    jsynnot4@wix.com|  Female|\n",
            "|  6|       Ted| Bouchard|tbouchard5@paypal...|    Male|\n",
            "|  7|     Lenka|Rosenfeld|lrosenfeld6@123-r...|  Female|\n",
            "|  8|       Vic|  Redshaw|vredshaw7@freeweb...|    Male|\n",
            "|  9|    Martha| Forseith|mforseith8@auda.o...|  Female|\n",
            "| 10|    Austin| Tweddell|atweddell9@friend...|  Female|\n",
            "|  1|    Leonid|    Alwin|  lalwin0@utexas.com|    Male|\n",
            "|  2|     Drusy|Duckhouse|dduckhouse1@wikis...|  Female|\n",
            "|  3|    Gareth|   Porter|gporter2@oaic.gov.au|    Male|\n",
            "|  4|  Teresita| Yeabsley|tyeabsley3@canalb...|  Female|\n",
            "|  5|    Burlie|   McBean|bmcbean4@harvard.com|    Male|\n",
            "|  6|     Welsh|   Nisius|wnisius5@imagesha...|    Male|\n",
            "|  7|     Burty|De Cleyne|  bdecleyne6@nyu.com|    Male|\n",
            "|  8|   Genevra|    Moatt| gmoatt7@godaddy.com|  Female|\n",
            "|  9|   Dalenna| Zumbusch|dzumbusch8@spring...|  Female|\n",
            "| 10|     Weber|  Blazeby|wblazeby9@statcou...|    Male|\n",
            "+---+----------+---------+--------------------+--------+\n",
            "only showing top 20 rows\n",
            "\n"
          ]
        }
      ],
      "source": [
        "from pyspark.sql.functions import regexp_replace\n",
        "\n",
        "unionDF.withColumn('email',when(unionDF.email.endswith('cc'),regexp_replace(unionDF.email,'cc','com')) \\\n",
        "                          .when(unionDF.email.endswith('edu'),regexp_replace(unionDF.email,'edu','com')) \\\n",
        "                          .otherwise(unionDF.email)).show()"
      ]
    },
    {
      "cell_type": "markdown",
      "metadata": {
        "id": "49rgRePll4AN"
      },
      "source": [
        "**array function to create data frame**"
      ]
    },
    {
      "cell_type": "code",
      "execution_count": null,
      "metadata": {
        "colab": {
          "base_uri": "https://localhost:8080/"
        },
        "id": "Y9y59X4UjUvq",
        "outputId": "6c6d1e6d-6a38-4727-e2c6-0ba6f856dd03"
      },
      "outputs": [
        {
          "name": "stdout",
          "output_type": "stream",
          "text": [
            "+----+-----------------+-------------+\n",
            "|name|          address|     subjects|\n",
            "+----+-----------------+-------------+\n",
            "|   A|[12, qwe_RD, asd]|[python, c++]|\n",
            "|   B|[10, wer_RD, wer]|  [java, c++]|\n",
            "|   C|[14, tyu_RD, qwe]| [c++, spark]|\n",
            "+----+-----------------+-------------+\n",
            "\n"
          ]
        }
      ],
      "source": [
        "details_array = [('A',['12','qwe_RD','asd'],['python','c++']),\n",
        "                 ('B',['10','wer_RD','wer'],['java','c++']),\n",
        "                 ('C',['14','tyu_RD','qwe'],['c++','spark'])]\n",
        "\n",
        "details_array_df = spark.createDataFrame(data=details_array, schema = ['name', 'address', 'subjects'])\n",
        "\n",
        "details_array_df.show()"
      ]
    },
    {
      "cell_type": "markdown",
      "metadata": {
        "id": "AEeU4U2Zl_s8"
      },
      "source": [
        "**concat_ws() on data frame**"
      ]
    },
    {
      "cell_type": "code",
      "execution_count": null,
      "metadata": {
        "colab": {
          "base_uri": "https://localhost:8080/"
        },
        "id": "4rJic1O4mGMU",
        "outputId": "22864575-8879-4689-fd36-8fccd191738b"
      },
      "outputs": [
        {
          "name": "stdout",
          "output_type": "stream",
          "text": [
            "+----+-------------+-------------+\n",
            "|name|      address|     subjects|\n",
            "+----+-------------+-------------+\n",
            "|   A|12,qwe_RD,asd|[python, c++]|\n",
            "|   B|10,wer_RD,wer|  [java, c++]|\n",
            "|   C|14,tyu_RD,qwe| [c++, spark]|\n",
            "+----+-------------+-------------+\n",
            "\n"
          ]
        }
      ],
      "source": [
        "from pyspark.sql.functions import col, concat_ws\n",
        "\n",
        "details_array_df.withColumn('address',concat_ws(',',col('address'))).show()"
      ]
    },
    {
      "cell_type": "markdown",
      "metadata": {
        "id": "otP-gaBhneOb"
      },
      "source": [
        "**explode() function data frame**"
      ]
    },
    {
      "cell_type": "code",
      "execution_count": null,
      "metadata": {
        "colab": {
          "base_uri": "https://localhost:8080/"
        },
        "id": "vfqwECj3nix4",
        "outputId": "a1cefb8c-bd5f-48f6-c364-ae147edabd1a"
      },
      "outputs": [
        {
          "name": "stdout",
          "output_type": "stream",
          "text": [
            "+----+------+\n",
            "|name|   col|\n",
            "+----+------+\n",
            "|   A|python|\n",
            "|   A|   c++|\n",
            "|   B|  java|\n",
            "|   B|   c++|\n",
            "|   C|   c++|\n",
            "|   C| spark|\n",
            "+----+------+\n",
            "\n"
          ]
        }
      ],
      "source": [
        "from pyspark.sql.functions import explode\n",
        "\n",
        "details_array_df.select(details_array_df.name,explode(details_array_df.subjects)).show()"
      ]
    },
    {
      "cell_type": "markdown",
      "metadata": {
        "id": "S5zGe6D4n-Lk"
      },
      "source": [
        "**array_contains() on data frame**"
      ]
    },
    {
      "cell_type": "code",
      "execution_count": null,
      "metadata": {
        "colab": {
          "base_uri": "https://localhost:8080/"
        },
        "id": "HE1YCe16oQGW",
        "outputId": "3759d255-a4b6-4533-de69-15b38f4fc823"
      },
      "outputs": [
        {
          "name": "stdout",
          "output_type": "stream",
          "text": [
            "+----+----------------+\n",
            "|name|name_with_python|\n",
            "+----+----------------+\n",
            "|   A|            true|\n",
            "|   B|           false|\n",
            "|   C|           false|\n",
            "+----+----------------+\n",
            "\n"
          ]
        }
      ],
      "source": [
        "from pyspark.sql.functions import array_contains\n",
        "\n",
        "details_array_df.select(details_array_df.name,array_contains(details_array_df.subjects,'python').alias('name_with_python')).show()"
      ]
    },
    {
      "cell_type": "markdown",
      "metadata": {
        "id": "1hr-rE5dsnaQ"
      },
      "source": [
        "**partitionBy() function**"
      ]
    },
    {
      "cell_type": "code",
      "execution_count": null,
      "metadata": {
        "id": "Q0BI7XEms3uh"
      },
      "outputs": [],
      "source": [
        "df3.write.option('header',True).partitionBy('designation').mode('overwrite').csv('designation_partition')"
      ]
    },
    {
      "cell_type": "code",
      "execution_count": null,
      "metadata": {
        "colab": {
          "base_uri": "https://localhost:8080/"
        },
        "id": "O089kGyHYuf_",
        "outputId": "e1a1fbee-8dc5-48ff-8190-cf27b0c2d623"
      },
      "outputs": [
        {
          "name": "stdout",
          "output_type": "stream",
          "text": [
            "+---+-----------------------+----------+\n",
            "|id |input_timestamp        |date_type |\n",
            "+---+-----------------------+----------+\n",
            "|1  |2019-06-24 12:01:19.000|2019-06-24|\n",
            "+---+-----------------------+----------+\n",
            "\n"
          ]
        }
      ],
      "source": [
        "df=spark.createDataFrame(\n",
        "        data = [ (\"1\",\"2019-06-24 12:01:19.000\")],\n",
        "        schema=[\"id\",\"input_timestamp\"])\n",
        "\n",
        "df.withColumn(\"date_type\",to_date(\"input_timestamp\")) \\\n",
        "  .show(truncate=False)"
      ]
    },
    {
      "cell_type": "code",
      "execution_count": null,
      "metadata": {
        "colab": {
          "base_uri": "https://localhost:8080/"
        },
        "id": "2--owadolsVI",
        "outputId": "075b9903-6ed6-4030-91cf-cc630abae9cb"
      },
      "outputs": [
        {
          "name": "stdout",
          "output_type": "stream",
          "text": [
            "+------+----------+---------+-----------+----------------+------+\n",
            "|emp_id|first_name|last_name|     gender|     designation|salary|\n",
            "+------+----------+---------+-----------+----------------+------+\n",
            "|   101|Washington| Clifford|       Male|  Human Resource| 34544|\n",
            "|   102|     Letti|Rosekilly|     Female|Testing engineer| 26411|\n",
            "|   103|      Gray| Lavielle|       Male|            null| 23445|\n",
            "|   104|      Ulla|    Bound|     Female|   Data Engineer|  null|\n",
            "|   105|    Korney|   Lomath|     Female|   Data Engineer| 41360|\n",
            "|   106|     Wanda|     null|    Agender|           Sales| 29984|\n",
            "|   107|     Denis| Cleveley|       Male|Testing engineer| 47485|\n",
            "|   108|   Artemas| Bolsover|       Male|            null| 41185|\n",
            "|   109|   Kerstin| De Meyer|Genderqueer|   Data Engineer| 34899|\n",
            "|   110|    Dulsea|  Esilmon|     Female|   Data Engineer| 29043|\n",
            "|   111|     Torey|     null|       Male|  Human Resource| 44046|\n",
            "|   112|   Clarita|Grollmann|     Female|           Sales| 12377|\n",
            "|   113|      Redd|    Rosel|       Male|  Human Resource| 45594|\n",
            "|   114| Christean|     Senn|     Female|           Admin| 22343|\n",
            "|   115|    Antoni|Beveridge|       Male|   Data Engineer| 20837|\n",
            "|   116|      Jess|     null|     Female|           Admin| 17807|\n",
            "|   117|      Dolf|Dumpleton|       Male|           Sales| 20597|\n",
            "|   118|      Reba|   Cleall|     Female|            null| 19583|\n",
            "|   119|     Baxie|  Smewing|       Male|           Admin| 45213|\n",
            "|   120| Jeannette|  Marages|     Female|           Admin| 19863|\n",
            "+------+----------+---------+-----------+----------------+------+\n",
            "only showing top 20 rows\n",
            "\n"
          ]
        }
      ],
      "source": [
        "df3.createOrReplaceTempView('EMP')\n",
        "spark.sql(\"SELECT * FROM EMP\").show()"
      ]
    },
    {
      "cell_type": "code",
      "execution_count": null,
      "metadata": {
        "colab": {
          "base_uri": "https://localhost:8080/"
        },
        "id": "626x9oFkpc0N",
        "outputId": "5fad9f5a-a40e-465f-f7f2-a64a34047afe"
      },
      "outputs": [
        {
          "name": "stdout",
          "output_type": "stream",
          "text": [
            "+------+----------+----------+------+----------------+------+\n",
            "|emp_id|first_name| last_name|gender|     designation|salary|\n",
            "+------+----------+----------+------+----------------+------+\n",
            "|   104|      Ulla|     Bound|Female|   Data Engineer|  null|\n",
            "|   130|      Aime|    MacIan|Female|Testing engineer|  null|\n",
            "|   132|  Cristina|     Skypp|Female|           Sales|  null|\n",
            "|   134|      Mada|    Hoggan|Female|           Sales|  null|\n",
            "|   135|  Gamaliel|Catcheside|  Male|            null|  null|\n",
            "|   155|     Onfre|  Matteoli|  Male|           Admin|  null|\n",
            "|   172|     Smith|   Tilsley|  Male|   Data Engineer|  null|\n",
            "|   183|     Odele|  Dummigan|Female|            null|  null|\n",
            "|   186| Francoise|      Deme|Female|           Admin|  null|\n",
            "|   187|   Krystle|Giovanardi|Female|           Sales|  null|\n",
            "+------+----------+----------+------+----------------+------+\n",
            "\n"
          ]
        }
      ],
      "source": [
        "df3.filter('salary is null').show(50)"
      ]
    },
    {
      "cell_type": "code",
      "execution_count": null,
      "metadata": {
        "colab": {
          "base_uri": "https://localhost:8080/"
        },
        "id": "MLLKSMf1psI_",
        "outputId": "f2f3b569-6189-4ef1-8c86-19a5b4697189"
      },
      "outputs": [
        {
          "name": "stdout",
          "output_type": "stream",
          "text": [
            "+------+----------+---------+-----------+----------------+----------------+\n",
            "|emp_id|first_name|last_name|     gender|     designation|          salary|\n",
            "+------+----------+---------+-----------+----------------+----------------+\n",
            "|   101|Washington| Clifford|       Male|  Human Resource|  Human Resource|\n",
            "|   102|     Letti|Rosekilly|     Female|Testing engineer|Testing engineer|\n",
            "|   103|      Gray| Lavielle|       Male|            null|            null|\n",
            "|   104|      Ulla|    Bound|     Female|   Data Engineer|   Data Engineer|\n",
            "|   105|    Korney|   Lomath|     Female|   Data Engineer|   Data Engineer|\n",
            "|   106|     Wanda|     null|    Agender|           Sales|            3000|\n",
            "|   107|     Denis| Cleveley|       Male|Testing engineer|Testing engineer|\n",
            "|   108|   Artemas| Bolsover|       Male|            null|            null|\n",
            "|   109|   Kerstin| De Meyer|Genderqueer|   Data Engineer|   Data Engineer|\n",
            "|   110|    Dulsea|  Esilmon|     Female|   Data Engineer|   Data Engineer|\n",
            "|   111|     Torey|     null|       Male|  Human Resource|  Human Resource|\n",
            "|   112|   Clarita|Grollmann|     Female|           Sales|            3000|\n",
            "|   113|      Redd|    Rosel|       Male|  Human Resource|  Human Resource|\n",
            "|   114| Christean|     Senn|     Female|           Admin|            4000|\n",
            "|   115|    Antoni|Beveridge|       Male|   Data Engineer|   Data Engineer|\n",
            "|   116|      Jess|     null|     Female|           Admin|            4000|\n",
            "|   117|      Dolf|Dumpleton|       Male|           Sales|            3000|\n",
            "|   118|      Reba|   Cleall|     Female|            null|            null|\n",
            "|   119|     Baxie|  Smewing|       Male|           Admin|            4000|\n",
            "|   120| Jeannette|  Marages|     Female|           Admin|            4000|\n",
            "+------+----------+---------+-----------+----------------+----------------+\n",
            "only showing top 20 rows\n",
            "\n"
          ]
        }
      ],
      "source": [
        "df3.withColumn('salary', expr(\"CASE WHEN designation = 'Data Engineer' AND salary = 'NULL' THEN '1000'\"\n",
        "                                   \"WHEN designation = 'Testing Engineer' THEN '2000'\"\n",
        "                                   \"WHEN designation = 'Sales' THEN '3000'\"\n",
        "                                   \"WHEN designation = 'Admin' THEN '4000'\"\n",
        "                                   \"ELSE designation END\")).show()"
      ]
    },
    {
      "cell_type": "code",
      "execution_count": null,
      "metadata": {
        "colab": {
          "background_save": true
        },
        "id": "Th4sUbhs2EsZ",
        "outputId": "276b188b-51d9-420d-80c0-23e071f33c09"
      },
      "outputs": [
        {
          "ename": "AnalysisException",
          "evalue": "ignored",
          "output_type": "error",
          "traceback": [
            "\u001b[0;31m---------------------------------------------------------------------------\u001b[0m",
            "\u001b[0;31mAnalysisException\u001b[0m                         Traceback (most recent call last)",
            "\u001b[0;32m<ipython-input-102-2563bc61e552>\u001b[0m in \u001b[0;36m<module>\u001b[0;34m\u001b[0m\n\u001b[1;32m      1\u001b[0m \u001b[0mpath\u001b[0m \u001b[0;34m=\u001b[0m \u001b[0;34m[\u001b[0m\u001b[0;34m'emp_data.csv'\u001b[0m\u001b[0;34m,\u001b[0m \u001b[0;34m'empDF_1.csv'\u001b[0m\u001b[0;34m,\u001b[0m\u001b[0;34m'empDF_2.csv'\u001b[0m\u001b[0;34m]\u001b[0m\u001b[0;34m\u001b[0m\u001b[0;34m\u001b[0m\u001b[0m\n\u001b[0;32m----> 2\u001b[0;31m \u001b[0mdf10\u001b[0m \u001b[0;34m=\u001b[0m \u001b[0mspark\u001b[0m\u001b[0;34m.\u001b[0m\u001b[0mread\u001b[0m\u001b[0;34m.\u001b[0m\u001b[0mcsv\u001b[0m\u001b[0;34m(\u001b[0m\u001b[0;34m[\u001b[0m\u001b[0;34m'emp_data.csv'\u001b[0m\u001b[0;34m,\u001b[0m\u001b[0;34m'empDF_1.csv'\u001b[0m\u001b[0;34m,\u001b[0m\u001b[0;34m'empDF_2.csv'\u001b[0m\u001b[0;34m]\u001b[0m\u001b[0;34m,\u001b[0m \u001b[0mheader\u001b[0m \u001b[0;34m=\u001b[0m \u001b[0;32mTrue\u001b[0m\u001b[0;34m)\u001b[0m\u001b[0;34m\u001b[0m\u001b[0;34m\u001b[0m\u001b[0m\n\u001b[0m\u001b[1;32m      3\u001b[0m \u001b[0mdf10\u001b[0m\u001b[0;34m.\u001b[0m\u001b[0mshow\u001b[0m\u001b[0;34m(\u001b[0m\u001b[0;36m200\u001b[0m\u001b[0;34m)\u001b[0m\u001b[0;34m\u001b[0m\u001b[0;34m\u001b[0m\u001b[0m\n",
            "\u001b[0;32m/usr/local/lib/python3.7/dist-packages/pyspark/sql/readwriter.py\u001b[0m in \u001b[0;36mcsv\u001b[0;34m(self, path, schema, sep, encoding, quote, escape, comment, header, inferSchema, ignoreLeadingWhiteSpace, ignoreTrailingWhiteSpace, nullValue, nanValue, positiveInf, negativeInf, dateFormat, timestampFormat, maxColumns, maxCharsPerColumn, maxMalformedLogPerPartition, mode, columnNameOfCorruptRecord, multiLine, charToEscapeQuoteEscaping, samplingRatio, enforceSchema, emptyValue, locale, lineSep, pathGlobFilter, recursiveFileLookup, modifiedBefore, modifiedAfter, unescapedQuoteHandling)\u001b[0m\n\u001b[1;32m    533\u001b[0m         \u001b[0;32mif\u001b[0m \u001b[0mtype\u001b[0m\u001b[0;34m(\u001b[0m\u001b[0mpath\u001b[0m\u001b[0;34m)\u001b[0m \u001b[0;34m==\u001b[0m \u001b[0mlist\u001b[0m\u001b[0;34m:\u001b[0m\u001b[0;34m\u001b[0m\u001b[0;34m\u001b[0m\u001b[0m\n\u001b[1;32m    534\u001b[0m             \u001b[0;32massert\u001b[0m \u001b[0mself\u001b[0m\u001b[0;34m.\u001b[0m\u001b[0m_spark\u001b[0m\u001b[0;34m.\u001b[0m\u001b[0m_sc\u001b[0m\u001b[0;34m.\u001b[0m\u001b[0m_jvm\u001b[0m \u001b[0;32mis\u001b[0m \u001b[0;32mnot\u001b[0m \u001b[0;32mNone\u001b[0m\u001b[0;34m\u001b[0m\u001b[0;34m\u001b[0m\u001b[0m\n\u001b[0;32m--> 535\u001b[0;31m             \u001b[0;32mreturn\u001b[0m \u001b[0mself\u001b[0m\u001b[0;34m.\u001b[0m\u001b[0m_df\u001b[0m\u001b[0;34m(\u001b[0m\u001b[0mself\u001b[0m\u001b[0;34m.\u001b[0m\u001b[0m_jreader\u001b[0m\u001b[0;34m.\u001b[0m\u001b[0mcsv\u001b[0m\u001b[0;34m(\u001b[0m\u001b[0mself\u001b[0m\u001b[0;34m.\u001b[0m\u001b[0m_spark\u001b[0m\u001b[0;34m.\u001b[0m\u001b[0m_sc\u001b[0m\u001b[0;34m.\u001b[0m\u001b[0m_jvm\u001b[0m\u001b[0;34m.\u001b[0m\u001b[0mPythonUtils\u001b[0m\u001b[0;34m.\u001b[0m\u001b[0mtoSeq\u001b[0m\u001b[0;34m(\u001b[0m\u001b[0mpath\u001b[0m\u001b[0;34m)\u001b[0m\u001b[0;34m)\u001b[0m\u001b[0;34m)\u001b[0m\u001b[0;34m\u001b[0m\u001b[0;34m\u001b[0m\u001b[0m\n\u001b[0m\u001b[1;32m    536\u001b[0m         \u001b[0;32melif\u001b[0m \u001b[0misinstance\u001b[0m\u001b[0;34m(\u001b[0m\u001b[0mpath\u001b[0m\u001b[0;34m,\u001b[0m \u001b[0mRDD\u001b[0m\u001b[0;34m)\u001b[0m\u001b[0;34m:\u001b[0m\u001b[0;34m\u001b[0m\u001b[0;34m\u001b[0m\u001b[0m\n\u001b[1;32m    537\u001b[0m \u001b[0;34m\u001b[0m\u001b[0m\n",
            "\u001b[0;32m/usr/local/lib/python3.7/dist-packages/py4j/java_gateway.py\u001b[0m in \u001b[0;36m__call__\u001b[0;34m(self, *args)\u001b[0m\n\u001b[1;32m   1320\u001b[0m         \u001b[0manswer\u001b[0m \u001b[0;34m=\u001b[0m \u001b[0mself\u001b[0m\u001b[0;34m.\u001b[0m\u001b[0mgateway_client\u001b[0m\u001b[0;34m.\u001b[0m\u001b[0msend_command\u001b[0m\u001b[0;34m(\u001b[0m\u001b[0mcommand\u001b[0m\u001b[0;34m)\u001b[0m\u001b[0;34m\u001b[0m\u001b[0;34m\u001b[0m\u001b[0m\n\u001b[1;32m   1321\u001b[0m         return_value = get_return_value(\n\u001b[0;32m-> 1322\u001b[0;31m             answer, self.gateway_client, self.target_id, self.name)\n\u001b[0m\u001b[1;32m   1323\u001b[0m \u001b[0;34m\u001b[0m\u001b[0m\n\u001b[1;32m   1324\u001b[0m         \u001b[0;32mfor\u001b[0m \u001b[0mtemp_arg\u001b[0m \u001b[0;32min\u001b[0m \u001b[0mtemp_args\u001b[0m\u001b[0;34m:\u001b[0m\u001b[0;34m\u001b[0m\u001b[0;34m\u001b[0m\u001b[0m\n",
            "\u001b[0;32m/usr/local/lib/python3.7/dist-packages/pyspark/sql/utils.py\u001b[0m in \u001b[0;36mdeco\u001b[0;34m(*a, **kw)\u001b[0m\n\u001b[1;32m    194\u001b[0m                 \u001b[0;31m# Hide where the exception came from that shows a non-Pythonic\u001b[0m\u001b[0;34m\u001b[0m\u001b[0;34m\u001b[0m\u001b[0;34m\u001b[0m\u001b[0m\n\u001b[1;32m    195\u001b[0m                 \u001b[0;31m# JVM exception message.\u001b[0m\u001b[0;34m\u001b[0m\u001b[0;34m\u001b[0m\u001b[0;34m\u001b[0m\u001b[0m\n\u001b[0;32m--> 196\u001b[0;31m                 \u001b[0;32mraise\u001b[0m \u001b[0mconverted\u001b[0m \u001b[0;32mfrom\u001b[0m \u001b[0;32mNone\u001b[0m\u001b[0;34m\u001b[0m\u001b[0;34m\u001b[0m\u001b[0m\n\u001b[0m\u001b[1;32m    197\u001b[0m             \u001b[0;32melse\u001b[0m\u001b[0;34m:\u001b[0m\u001b[0;34m\u001b[0m\u001b[0;34m\u001b[0m\u001b[0m\n\u001b[1;32m    198\u001b[0m                 \u001b[0;32mraise\u001b[0m\u001b[0;34m\u001b[0m\u001b[0;34m\u001b[0m\u001b[0m\n",
            "\u001b[0;31mAnalysisException\u001b[0m: Path does not exist: file:/content/emp_data.csv"
          ]
        }
      ],
      "source": [
        "path = ['emp_data.csv', 'empDF_1.csv','empDF_2.csv']\n",
        "df10 = spark.read.csv(['emp_data.csv','empDF_1.csv','empDF_2.csv'], header = True)\n",
        "df10.show(200)"
      ]
    },
    {
      "cell_type": "code",
      "execution_count": null,
      "metadata": {
        "colab": {
          "base_uri": "https://localhost:8080/"
        },
        "id": "L29FBWoy3Dql",
        "outputId": "cfe91d2f-ba62-45ea-9716-5285a40ee170"
      },
      "outputs": [
        {
          "name": "stdout",
          "output_type": "stream",
          "text": [
            "root\n",
            " |-- emp_id: string (nullable = true)\n",
            " |-- first_name: string (nullable = true)\n",
            " |-- last_name: string (nullable = true)\n",
            " |-- gender: string (nullable = true)\n",
            " |-- designation: string (nullable = true)\n",
            " |-- salary: string (nullable = true)\n",
            "\n"
          ]
        }
      ],
      "source": [
        "df10.printSchema()"
      ]
    }
  ],
  "metadata": {
    "colab": {
      "provenance": []
    },
    "kernelspec": {
      "display_name": "Python 3",
      "name": "python3"
    },
    "language_info": {
      "name": "python"
    }
  },
  "nbformat": 4,
  "nbformat_minor": 0
}